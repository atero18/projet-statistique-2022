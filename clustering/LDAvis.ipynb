{
 "cells": [
  {
   "cell_type": "code",
   "execution_count": 2,
   "metadata": {},
   "outputs": [
    {
     "name": "stdout",
     "output_type": "stream",
     "text": [
      "c:\\Users\\atero\\Documents\\Git\\projet-statistique-2022\n"
     ]
    },
    {
     "name": "stderr",
     "output_type": "stream",
     "text": [
      "C:\\Users\\atero\\AppData\\Local\\Programs\\Python\\Python310\\lib\\site-packages\\gensim\\matutils.py:22: DeprecationWarning: Please use `triu` from the `scipy.linalg` namespace, the `scipy.linalg.special_matrices` namespace is deprecated.\n",
      "  from scipy.linalg.special_matrices import triu\n"
     ]
    }
   ],
   "source": [
    "%cd \"..\"\n",
    "import pyLDAvis\n",
    "import json\n",
    "import pandas as pd"
   ]
  },
  {
   "cell_type": "markdown",
   "metadata": {},
   "source": [
    "Chargement des documents"
   ]
  },
  {
   "cell_type": "code",
   "execution_count": 3,
   "metadata": {},
   "outputs": [
    {
     "name": "stdout",
     "output_type": "stream",
     "text": [
      "Nombre de documents : 9501\n"
     ]
    }
   ],
   "source": [
    "with open('data/docs.json', encoding = \"utf8\") as f:\n",
    "    docs: list[str] = json.load(f)\n",
    "print(f\"Nombre de documents : {len(docs)}\")"
   ]
  },
  {
   "cell_type": "code",
   "execution_count": 4,
   "metadata": {},
   "outputs": [
    {
     "name": "stdout",
     "output_type": "stream",
     "text": [
      "Taille du vocabulaire initial : 7231\n"
     ]
    }
   ],
   "source": [
    "with open('data/liste_lemmes.txt') as f:\n",
    "    vocabulaire = f.readlines()\n",
    "\n",
    "# Suppression des retours chariots sur chaque ligne\n",
    "for i in range(len(vocabulaire)):\n",
    "    vocabulaire[i] = vocabulaire[i].replace('\\n', '')\n",
    "\n",
    "print(f\"Taille du vocabulaire initial : {len(vocabulaire)}\")"
   ]
  },
  {
   "cell_type": "markdown",
   "metadata": {},
   "source": [
    "Calcul du nombre d'apparition de chaque mot, on conserve seulement ceux présents un certain nombre de fois"
   ]
  },
  {
   "cell_type": "code",
   "execution_count": 5,
   "metadata": {},
   "outputs": [
    {
     "name": "stdout",
     "output_type": "stream",
     "text": [
      "Nombre total de mots : 57655\n"
     ]
    }
   ],
   "source": [
    "# Nombre de fois où chaque mot apparaît\n",
    "term_frequency_corpus: dict = {mot: 0 for mot in vocabulaire}\n",
    "for doc in docs:\n",
    "    for mot in doc:\n",
    "        term_frequency_corpus[mot] += 1\n",
    "\n",
    "# Restriction du vocabulaire et des documents en supprimant certains mots\n",
    "term_freq_min: int = 10\n",
    "vocabulaire = [mot for mot in vocabulaire if term_frequency_corpus[mot] >= term_freq_min]\n",
    "for i in range(len(docs)):\n",
    "   docs[i] = [mot for mot in docs[i] if mot in vocabulaire]\n",
    "\n",
    "term_frequency_corpus = {mot: term_frequency_corpus[mot] for mot in vocabulaire}\n",
    "term_frequency_corpus_standard: dict = {mot: term_frequency_corpus[mot] / sum(term_frequency_corpus.values()) for mot in term_frequency_corpus}\n",
    "print(f\"Nombre total de mots : {sum(term_frequency_corpus.values())}\")"
   ]
  },
  {
   "cell_type": "markdown",
   "metadata": {},
   "source": [
    "Chargement des valeurs génériques à toutes les représentations de modèles"
   ]
  },
  {
   "cell_type": "code",
   "execution_count": 6,
   "metadata": {},
   "outputs": [],
   "source": [
    "args_pyLDA = {'vocab': vocabulaire, # liste du vocabulaire,\n",
    "              'R': 10, # Taille du \"TOP\" à afficher\n",
    "              'term_frequency': list(term_frequency_corpus.values()), # Fréquence absolue de chaque mot\n",
    "              'n_jobs': -1, # Parallélisme\n",
    "              'lambda_step': 1 # Calcul pour lambda = 0 et lambda = 1\n",
    "            }"
   ]
  },
  {
   "cell_type": "markdown",
   "metadata": {},
   "source": [
    "Chargement des labels de chaque document pour chaque clustering\n"
   ]
  },
  {
   "cell_type": "code",
   "execution_count": 7,
   "metadata": {},
   "outputs": [],
   "source": [
    "with open(\"data/tuning/clustering/best_labels.json\") as f:\n",
    "    labelsTousModeles: dict = json.load(f)['ReductionFirst']"
   ]
  },
  {
   "cell_type": "code",
   "execution_count": 83,
   "metadata": {},
   "outputs": [],
   "source": [
    "def preparation_LDAvis(clustersDocs: list[int]) -> pyLDAvis.PreparedData:\n",
    "    \n",
    "    indicesDocsClasses = [i for i in range(len(docs)) if clustersDocs[i] != -1]\n",
    "    docsClasses = [docs[i] for i in indicesDocsClasses]\n",
    "    clustersDocsClasses = [clustersDocs[i] for i in indicesDocsClasses]\n",
    "    nomsClusters = set(clustersDocsClasses)\n",
    "    K: int = len(nomsClusters)\n",
    "    \n",
    "    \n",
    "    # Probabilité que chaque mot appartienne à un cluster / topic\n",
    "    term_frequency_topics: pd.DataFrame = pd.DataFrame(columns = vocabulaire, index = nomsClusters, dtype = float)\n",
    "    term_frequency_topics.loc[:,:] = 0\n",
    "\n",
    "    for i, doc in enumerate(docsClasses):\n",
    "        for mot in doc:\n",
    "            if mot in vocabulaire:\n",
    "                term_frequency_topics.loc[clustersDocsClasses[i], mot] += 1. / term_frequency_corpus[mot]\n",
    "    \n",
    "    # Probabilité que chaque mot appartienne à un cluster / topic\n",
    "    term_frequency_topics: pd.DataFrame = pd.DataFrame(columns = vocabulaire, index = range(K), dtype = float)\n",
    "    term_frequency_topics.loc[:,:] = 0\n",
    "\n",
    "    for i, doc in enumerate(docsClasses):\n",
    "        for mot in doc:\n",
    "            if mot in vocabulaire:\n",
    "                term_frequency_topics.loc[clustersDocsClasses[i], mot] += 1. / term_frequency_corpus[mot]\n",
    "    \n",
    "    # Probabilité qu'un document appartienne à un cluster / topic (soit 0 soit 1 pour notre cas)\n",
    "    topic_docs_matrice: pd.DataFrame = pd.DataFrame(columns = range(K), index = range(len(indicesDocsClasses)), dtype = float)\n",
    "    topic_docs_matrice.loc[:,:] = 0\n",
    "\n",
    "    for i in range(len(indicesDocsClasses)):\n",
    "        topic_docs_matrice.loc[i,clustersDocsClasses[i]] = 1.\n",
    "                \n",
    "                \n",
    "    visualisation = pyLDAvis.prepare(topic_term_dists = term_frequency_topics.to_numpy(),\n",
    "                                 doc_topic_dists = topic_docs_matrice.to_numpy(),\n",
    "                                 doc_lengths = [len(doc) for doc in docsClasses], **args_pyLDA)\n",
    "    return visualisation\n",
    "    "
   ]
  },
  {
   "cell_type": "markdown",
   "metadata": {},
   "source": [
    "# Modèle CBOW"
   ]
  },
  {
   "cell_type": "markdown",
   "metadata": {},
   "source": [
    "Chargement de modèle et de labels clusters. On ne conserve que les documents qui sont dans catégorisés"
   ]
  },
  {
   "cell_type": "code",
   "execution_count": 84,
   "metadata": {},
   "outputs": [
    {
     "name": "stderr",
     "output_type": "stream",
     "text": [
      "C:\\Users\\atero\\AppData\\Local\\Programs\\Python\\Python310\\lib\\site-packages\\pandas\\core\\internals\\blocks.py:402: RuntimeWarning: divide by zero encountered in log\n",
      "  result = func(self.values, **kwargs)\n",
      "C:\\Users\\atero\\AppData\\Local\\Programs\\Python\\Python310\\lib\\site-packages\\pyLDAvis\\_prepare.py:247: FutureWarning: In a future version of pandas all arguments of DataFrame.drop except for the argument 'labels' will be keyword-only.\n",
      "  by='saliency', ascending=False).head(R).drop('saliency', 1)\n",
      "C:\\Users\\atero\\AppData\\Local\\Programs\\Python\\Python310\\lib\\site-packages\\pandas\\core\\internals\\blocks.py:402: RuntimeWarning: divide by zero encountered in log\n",
      "  result = func(self.values, **kwargs)\n"
     ]
    }
   ],
   "source": [
    "clustersDocs: list[int] = labelsTousModeles['cbow']['silhouette']\n",
    "visualisation = preparation_LDAvis(clustersDocs)"
   ]
  },
  {
   "cell_type": "code",
   "execution_count": 85,
   "metadata": {},
   "outputs": [
    {
     "data": {
      "text/html": [
       "\n",
       "<link rel=\"stylesheet\" type=\"text/css\" href=\"https://cdn.jsdelivr.net/gh/bmabey/pyLDAvis@3.3.1/pyLDAvis/js/ldavis.v1.0.0.css\">\n",
       "\n",
       "\n",
       "<div id=\"ldavis_el1234424395466098249137127076\"></div>\n",
       "<script type=\"text/javascript\">\n",
       "\n",
       "var ldavis_el1234424395466098249137127076_data = {\"mdsDat\": {\"x\": [0.022684077139711087, 0.14322100548358235, -0.018529485360479027, -0.045277143087711406, -0.10209845417510303], \"y\": [0.012524464373540385, 0.005407933574462232, -0.041921278221018654, 0.010802501215216963, 0.013186379057799062], \"topics\": [1, 2, 3, 4, 5], \"cluster\": [1, 1, 1, 1, 1], \"Freq\": [24.462752580001734, 23.26771312115168, 21.62171537594311, 19.58893417743474, 11.058884745468736]}, \"tinfo\": {\"Term\": [\"reconnaitre\", \"abandon\", \"recyclees\", \"calcul\", \"richesse\", \"anti\", \"lycee\", \"deg\", \"independant\", \"considerer\", \"recyclees\", \"direct\", \"traverser\", \"boutique\", \"autonomie\", \"pile\", \"maternelle\", \"billet\", \"moindre\", \"sachet\", \"redistribuer\", \"consigne\", \"consignees\", \"verre\", \"bouteille\", \"saison\", \"legume\", \"fruit\", \"contenant\", \"recyclable\", \"emballage\", \"ouvert\", \"equipement\", \"couleur\", \"abandon\", \"terrasse\", \"denrees\", \"demarche\", \"risque\", \"monoculture\", \"benefice\", \"alimenter\", \"betonner\", \"richesse\", \"application\", \"solide\", \"independant\", \"friday\", \"realiser\", \"cree\", \"couche\", \"moitie\", \"serviette\", \"lycee\", \"pot\", \"sapin\", \"reconnaitre\", \"climatiseur\", \"cf\", \"deg\", \"restreindre\", \"fleur\", \"anti\", \"avenir\", \"engagement\", \"humanite\", \"barrage\"], \"Freq\": [7594.0, 11997.0, 13508.0, 12940.0, 10591.0, 8684.0, 11957.0, 8624.0, 9752.0, 9037.0, 8975.272727272728, 8296.470588235294, 8059.42857142857, 7594.46153846154, 7051.999999999998, 7052.000000000002, 7466.823529411765, 7052.000000000002, 7052.0, 7052.0, 7051.999999999999, 9608.040540540549, 9390.5, 9060.39267015705, 8711.733067729077, 8440.898876404506, 8246.926229508203, 8001.929824561418, 7520.530303030298, 7766.5789473684345, 7608.963553530745, 8310.666666666666, 8013.85714285714, 6799.636363636365, 7479.599999999999, 7012.125, 7479.599999999999, 6233.0, 6561.052631578947, 6233.0, 6233.0, 6648.533333333333, 6233.0, 7905.799999999999, 7764.625, 8213.818181818184, 6588.166666666666, 7187.09090909091, 6776.4, 6160.363636363637, 6588.166666666666, 6776.4, 6588.166666666666, 6901.8888888888905, 6776.4, 6776.4, 5100.799999999999, 4250.666666666666, 4057.454545454546, 3825.6, 3825.6, 3825.6, 3643.4285714285706, 3825.6, 3719.333333333333, 3477.8181818181824, 3477.8181818181824], \"Total\": [7594.0, 11997.0, 13508.0, 12940.0, 10591.0, 8684.0, 11957.0, 8624.0, 9752.0, 9037.0, 13508.363636363636, 13347.470588235294, 13018.857142857141, 12411.076923076924, 11529.071428571428, 11606.111111111113, 12603.588235294119, 12478.111111111113, 12653.7, 12803.25, 13168.75, 13162.756756756766, 13200.2, 13126.193717277472, 13255.41434262947, 13068.022471910124, 12974.155737704923, 12994.68421052633, 12642.772727272724, 13097.263157894751, 12970.767653758532, 11489.833333333332, 11545.571428571426, 10592.0, 11997.2, 11514.125, 12771.3, 10685.599999999999, 11430.105263157893, 10896.400000000001, 10897.7, 12248.666666666668, 12374.4, 10591.4, 11103.75, 11848.818181818184, 9752.333333333332, 10761.818181818184, 10544.800000000001, 9612.181818181818, 10475.416666666666, 10826.466666666667, 10903.833333333332, 11957.444444444447, 11645.2, 11317.6, 7594.0, 8603.0, 8632.909090909092, 8624.2, 8796.0, 8836.300000000001, 8684.428571428569, 9139.6, 9088.833333333332, 8931.09090909091, 9335.454545454546], \"Category\": [\"Default\", \"Default\", \"Default\", \"Default\", \"Default\", \"Default\", \"Default\", \"Default\", \"Default\", \"Default\", \"Topic1\", \"Topic1\", \"Topic1\", \"Topic1\", \"Topic1\", \"Topic1\", \"Topic1\", \"Topic1\", \"Topic1\", \"Topic1\", \"Topic1\", \"Topic2\", \"Topic2\", \"Topic2\", \"Topic2\", \"Topic2\", \"Topic2\", \"Topic2\", \"Topic2\", \"Topic2\", \"Topic2\", \"Topic3\", \"Topic3\", \"Topic3\", \"Topic3\", \"Topic3\", \"Topic3\", \"Topic3\", \"Topic3\", \"Topic3\", \"Topic3\", \"Topic3\", \"Topic3\", \"Topic4\", \"Topic4\", \"Topic4\", \"Topic4\", \"Topic4\", \"Topic4\", \"Topic4\", \"Topic4\", \"Topic4\", \"Topic4\", \"Topic4\", \"Topic4\", \"Topic4\", \"Topic5\", \"Topic5\", \"Topic5\", \"Topic5\", \"Topic5\", \"Topic5\", \"Topic5\", \"Topic5\", \"Topic5\", \"Topic5\", \"Topic5\"], \"logprob\": [10.0, 9.0, 8.0, 7.0, 6.0, 5.0, 4.0, 3.0, 2.0, 1.0, -0.452, -0.5306, -0.5596, -0.619, -0.6931, -0.6931, -0.636, -0.6931, -0.6931, -0.6931, -0.6931, -0.3338, -0.3567, -0.3925, -0.4317, -0.4633, -0.4865, -0.5167, -0.5787, -0.5465, -0.567, -0.4055, -0.4418, -0.6061, -0.5108, -0.5754, -0.5108, -0.6931, -0.6419, -0.6931, -0.6931, -0.6286, -0.6931, -0.3567, -0.3747, -0.3185, -0.539, -0.452, -0.5108, -0.6061, -0.539, -0.5108, -0.539, -0.4925, -0.5108, -0.5108, -0.2231, -0.4055, -0.452, -0.5108, -0.5108, -0.5108, -0.5596, -0.5108, -0.539, -0.6061, -0.6061], \"loglift\": [10.0, 9.0, 8.0, 7.0, 6.0, 5.0, 4.0, 3.0, 2.0, 1.0, 6.527, 6.4604, 6.4563, 6.4447, 6.4443, 6.4376, 6.4124, 6.3652, 6.3512, 6.3395, 6.3113, 6.6712, 6.6454, 6.6153, 6.5662, 6.5489, 6.5328, 6.5011, 6.4665, 6.4634, 6.4526, 6.7354, 6.6942, 6.6161, 6.5868, 6.5634, 6.5243, 6.5203, 6.5042, 6.5007, 6.5006, 6.4483, 6.3736, 6.8656, 6.8004, 6.7916, 6.7658, 6.7543, 6.7159, 6.7132, 6.6943, 6.6895, 6.6542, 6.6085, 6.6166, 6.6451, 7.3318, 7.0248, 6.9748, 6.9169, 6.8972, 6.8926, 6.8612, 6.8589, 6.8363, 6.7867, 6.7424]}, \"token.table\": {\"Topic\": [3, 4, 1, 2, 3, 4, 5, 1, 4, 5, 1, 3, 4, 5, 1, 2, 3, 4, 5, 1, 3, 5, 1, 3, 4, 5, 1, 2, 3, 5, 1, 2, 3, 5, 1, 3, 4, 5, 1, 2, 3, 4, 5, 1, 3, 5, 2, 3, 1, 3, 4, 5, 1, 2, 4, 5, 3, 4, 5, 1, 2, 3, 4, 5, 1, 2, 4, 1, 2, 3, 4, 5, 1, 2, 4, 5, 3, 4, 5, 3, 4, 5, 1, 4, 5, 1, 3, 4, 5, 1, 2, 3, 4, 1, 2, 3, 4, 1, 2, 3, 4, 5, 1, 3, 4, 5, 1, 3, 4, 5, 1, 2, 4, 5, 1, 3, 4, 5, 1, 2, 3, 4, 5, 3, 4, 5, 3, 4, 5, 1, 2, 3, 4, 5, 1, 4, 5, 1, 2, 3, 4, 5, 1, 2, 3, 4, 5, 1, 2, 4, 5, 3, 4, 5, 1, 3, 4, 5, 1, 4, 5, 1, 4, 5, 3, 4, 5, 3, 5, 1, 2, 3, 4, 5, 1, 3, 1, 2, 3, 4, 1, 3, 4, 5, 1, 4, 5, 1, 3, 4, 5, 1, 2, 3, 4, 5, 1, 2, 3, 4, 5, 1, 3, 4, 5, 1, 3, 4, 5, 1, 2, 3, 4, 1, 3, 4, 5, 1, 2, 3, 4, 5, 1, 2, 3, 4, 5], \"Freq\": [0.6234788117227352, 0.3765878705031174, 0.15356773526370215, 0.1460567136559081, 0.54283459424155, 0.12295215805801991, 0.034697654166439884, 0.11595466434176115, 0.46450954911088826, 0.41948643713707634, 0.1587751885624226, 0.07015647866711697, 0.6993132950579759, 0.07177755262861646, 0.6116711171138799, 0.08309428959090995, 0.0771961563005322, 0.06999696419610055, 0.15803527728041536, 0.30865683399711147, 0.27276904897369686, 0.4186178826206836, 0.2746518648359139, 0.2428376667640471, 0.11001071185120265, 0.3725581848281235, 0.12938509960817418, 0.12314525083274451, 0.5719555502537232, 0.1755416280499555, 0.2279706490819757, 0.21681859322472202, 0.5037011895526248, 0.05155805534005689, 0.5651496398137181, 0.2775259788251426, 0.10057611996117645, 0.05673935691833699, 0.2288876018188766, 0.6572408658688375, 0.015012733276847871, 0.09505549712979054, 0.003847484407634379, 0.6118727687425625, 0.3090787385957953, 0.07904229472431575, 0.518372551292454, 0.48166608709091613, 0.1485015058655041, 0.2625997767528064, 0.11896337482361365, 0.4699458730860765, 0.13658026269905846, 0.2599093339532721, 0.10938044868069279, 0.4941299546669766, 0.5015691954855452, 0.11363590641157181, 0.38483513388456353, 0.1809651309386433, 0.7299382779422691, 0.00638164189708062, 0.06959028544911725, 0.013067171503546032, 0.16030060150603778, 0.7113528582900259, 0.12833138891834972, 0.1690293771863911, 0.594885327945179, 0.08961641757238237, 0.10828320887607368, 0.03820364491391058, 0.11216737599936359, 0.10672606499343702, 0.6289009983691978, 0.15216578497275368, 0.6419939577039275, 0.19382552870090636, 0.16418051359516617, 0.1178712618457639, 0.6408534624624057, 0.24125636030037642, 0.16349342547714568, 0.39284803228125503, 0.4436353516847939, 0.13195328292281203, 0.5833083776297073, 0.10565621022684736, 0.17902597888747476, 0.22088589258728555, 0.10507935762216847, 0.5856882228120865, 0.08840133737364247, 0.6215409837510523, 0.05911232355105837, 0.21974200884062633, 0.09956942712212492, 0.20561620338848524, 0.58662680599287, 0.07223936354518586, 0.12096431312955881, 0.01457122701178242, 0.2586690627693324, 0.22863220435332737, 0.10353364018117471, 0.40918343021656617, 0.08721958945297519, 0.6941189571759118, 0.13970724705824128, 0.07890471300065581, 0.1595690503943958, 0.15187352172289303, 0.25564998924889376, 0.432986657311318, 0.11912485217097481, 0.10527960804189895, 0.6678239567494508, 0.10769555668187192, 0.19038554226627064, 0.6157902624149949, 0.05887022628686218, 0.12197295250284516, 0.01292836341985993, 0.38069257547688357, 0.22987113454530647, 0.38942611103194147, 0.10653860614553784, 0.6755306422394641, 0.21789657176060434, 0.1782004198763367, 0.6356482970242857, 0.06297134214488195, 0.1070589892769168, 0.016108947990551195, 0.3931442058410845, 0.5772136372506201, 0.02960498805950732, 0.5924503292713093, 0.06260122000737418, 0.2327115060603656, 0.05268340948656078, 0.0595068631248804, 0.5573073488386796, 0.10605593620838173, 0.19701747315014578, 0.08922291503670862, 0.05042003524660771, 0.17374089422834166, 0.08257541703356588, 0.6258736306705173, 0.1177669538230386, 0.5720237876729929, 0.3109283800154179, 0.11701112293968649, 0.10226432063128274, 0.7233351223545454, 0.08189848996939324, 0.09251657262217323, 0.6076109329376286, 0.27028864104159683, 0.122090852520224, 0.3633256620753615, 0.5818706419812455, 0.05478652148524714, 0.23641984674910854, 0.64259160913436, 0.12091267733859341, 0.328285488543587, 0.6717145114564129, 0.17003552369317798, 0.593024657622323, 0.14193805053687375, 0.0907823249533851, 0.004275702436828903, 0.6644031980187359, 0.3355698826316356, 0.5355102040816326, 0.08489795918367347, 0.23662078785002372, 0.1429140958709065, 0.21384720327421555, 0.09447476125511596, 0.2568212824010914, 0.43497044110959526, 0.13312687652246163, 0.7464546707706252, 0.12038068621711956, 0.12992006335991751, 0.5740104617538173, 0.20804707789217766, 0.08810067596191039, 0.5507976490344249, 0.1309823677581864, 0.121687852693652, 0.16542674711499034, 0.03108585710659403, 0.21824266113181312, 0.6459278760917372, 0.07499221876198346, 0.038873517480701635, 0.0219620069231523, 0.12458471760797342, 0.22027638368558705, 0.598713508164275, 0.05637237576871421, 0.10776026779572934, 0.19057517998257495, 0.6041911865857573, 0.09748865078030663, 0.10819644460130276, 0.10296385523680918, 0.09562135080598753, 0.6932336941927464, 0.07660156546850065, 0.6089911304593272, 0.245263969255154, 0.06921932843355444, 0.6190251503313875, 0.14717113637361193, 0.13680156256858186, 0.06198700785673529, 0.03494930430584208, 0.20249586873774256, 0.6902229385868877, 0.019883905846708353, 0.07206963575090461, 0.015236709461079198], \"Term\": [\"abandon\", \"abandon\", \"alimenter\", \"alimenter\", \"alimenter\", \"alimenter\", \"alimenter\", \"anti\", \"anti\", \"anti\", \"application\", \"application\", \"application\", \"application\", \"autonomie\", \"autonomie\", \"autonomie\", \"autonomie\", \"autonomie\", \"avenir\", \"avenir\", \"avenir\", \"barrage\", \"barrage\", \"barrage\", \"barrage\", \"benefice\", \"benefice\", \"benefice\", \"benefice\", \"betonner\", \"betonner\", \"betonner\", \"betonner\", \"billet\", \"billet\", \"billet\", \"billet\", \"bouteille\", \"bouteille\", \"bouteille\", \"bouteille\", \"bouteille\", \"boutique\", \"boutique\", \"boutique\", \"calcul\", \"calcul\", \"cf\", \"cf\", \"cf\", \"cf\", \"climatiseur\", \"climatiseur\", \"climatiseur\", \"climatiseur\", \"considerer\", \"considerer\", \"considerer\", \"consigne\", \"consigne\", \"consigne\", \"consigne\", \"consigne\", \"consignees\", \"consignees\", \"consignees\", \"contenant\", \"contenant\", \"contenant\", \"contenant\", \"contenant\", \"couche\", \"couche\", \"couche\", \"couche\", \"couleur\", \"couleur\", \"couleur\", \"cree\", \"cree\", \"cree\", \"deg\", \"deg\", \"deg\", \"demarche\", \"demarche\", \"demarche\", \"demarche\", \"denrees\", \"denrees\", \"denrees\", \"denrees\", \"direct\", \"direct\", \"direct\", \"direct\", \"emballage\", \"emballage\", \"emballage\", \"emballage\", \"emballage\", \"engagement\", \"engagement\", \"engagement\", \"engagement\", \"equipement\", \"equipement\", \"equipement\", \"equipement\", \"fleur\", \"fleur\", \"fleur\", \"fleur\", \"friday\", \"friday\", \"friday\", \"friday\", \"fruit\", \"fruit\", \"fruit\", \"fruit\", \"fruit\", \"humanite\", \"humanite\", \"humanite\", \"independant\", \"independant\", \"independant\", \"legume\", \"legume\", \"legume\", \"legume\", \"legume\", \"lycee\", \"lycee\", \"lycee\", \"maternelle\", \"maternelle\", \"maternelle\", \"maternelle\", \"maternelle\", \"moindre\", \"moindre\", \"moindre\", \"moindre\", \"moindre\", \"moitie\", \"moitie\", \"moitie\", \"moitie\", \"monoculture\", \"monoculture\", \"monoculture\", \"ouvert\", \"ouvert\", \"ouvert\", \"ouvert\", \"pile\", \"pile\", \"pile\", \"pot\", \"pot\", \"pot\", \"realiser\", \"realiser\", \"realiser\", \"reconnaitre\", \"reconnaitre\", \"recyclable\", \"recyclable\", \"recyclable\", \"recyclable\", \"recyclable\", \"recyclees\", \"recyclees\", \"redistribuer\", \"redistribuer\", \"redistribuer\", \"redistribuer\", \"restreindre\", \"restreindre\", \"restreindre\", \"restreindre\", \"richesse\", \"richesse\", \"richesse\", \"risque\", \"risque\", \"risque\", \"risque\", \"sachet\", \"sachet\", \"sachet\", \"sachet\", \"sachet\", \"saison\", \"saison\", \"saison\", \"saison\", \"saison\", \"sapin\", \"sapin\", \"sapin\", \"sapin\", \"serviette\", \"serviette\", \"serviette\", \"serviette\", \"solide\", \"solide\", \"solide\", \"solide\", \"terrasse\", \"terrasse\", \"terrasse\", \"terrasse\", \"traverser\", \"traverser\", \"traverser\", \"traverser\", \"traverser\", \"verre\", \"verre\", \"verre\", \"verre\", \"verre\"]}, \"R\": 10, \"lambda.step\": 1, \"plot.opts\": {\"xlab\": \"PC1\", \"ylab\": \"PC2\"}, \"topic.order\": [4, 1, 2, 3, 5]};\n",
       "\n",
       "function LDAvis_load_lib(url, callback){\n",
       "  var s = document.createElement('script');\n",
       "  s.src = url;\n",
       "  s.async = true;\n",
       "  s.onreadystatechange = s.onload = callback;\n",
       "  s.onerror = function(){console.warn(\"failed to load library \" + url);};\n",
       "  document.getElementsByTagName(\"head\")[0].appendChild(s);\n",
       "}\n",
       "\n",
       "if(typeof(LDAvis) !== \"undefined\"){\n",
       "   // already loaded: just create the visualization\n",
       "   !function(LDAvis){\n",
       "       new LDAvis(\"#\" + \"ldavis_el1234424395466098249137127076\", ldavis_el1234424395466098249137127076_data);\n",
       "   }(LDAvis);\n",
       "}else if(typeof define === \"function\" && define.amd){\n",
       "   // require.js is available: use it to load d3/LDAvis\n",
       "   require.config({paths: {d3: \"https://d3js.org/d3.v5\"}});\n",
       "   require([\"d3\"], function(d3){\n",
       "      window.d3 = d3;\n",
       "      LDAvis_load_lib(\"https://cdn.jsdelivr.net/gh/bmabey/pyLDAvis@3.3.1/pyLDAvis/js/ldavis.v3.0.0.js\", function(){\n",
       "        new LDAvis(\"#\" + \"ldavis_el1234424395466098249137127076\", ldavis_el1234424395466098249137127076_data);\n",
       "      });\n",
       "    });\n",
       "}else{\n",
       "    // require.js not available: dynamically load d3 & LDAvis\n",
       "    LDAvis_load_lib(\"https://d3js.org/d3.v5.js\", function(){\n",
       "         LDAvis_load_lib(\"https://cdn.jsdelivr.net/gh/bmabey/pyLDAvis@3.3.1/pyLDAvis/js/ldavis.v3.0.0.js\", function(){\n",
       "                 new LDAvis(\"#\" + \"ldavis_el1234424395466098249137127076\", ldavis_el1234424395466098249137127076_data);\n",
       "            })\n",
       "         });\n",
       "}\n",
       "</script>"
      ],
      "text/plain": [
       "<IPython.core.display.HTML object>"
      ]
     },
     "execution_count": 85,
     "metadata": {},
     "output_type": "execute_result"
    }
   ],
   "source": [
    "pyLDAvis.save_html(visualisation, \"data/LDAvis/CBOW.html\")\n",
    "pyLDAvis.save_json(visualisation, \"data/LDAvis/CBOW.json\")\n",
    "pyLDAvis.display(visualisation)"
   ]
  },
  {
   "cell_type": "markdown",
   "metadata": {},
   "source": [
    "# Modèle Skip-gram"
   ]
  },
  {
   "cell_type": "markdown",
   "metadata": {},
   "source": [
    "Chargement de modèle et de labels clusters. On ne conserve que les documents qui sont dans catégorisés"
   ]
  },
  {
   "cell_type": "code",
   "execution_count": 100,
   "metadata": {},
   "outputs": [
    {
     "name": "stderr",
     "output_type": "stream",
     "text": [
      "C:\\Users\\atero\\AppData\\Local\\Programs\\Python\\Python310\\lib\\site-packages\\pandas\\core\\internals\\blocks.py:402: RuntimeWarning: divide by zero encountered in log\n",
      "  result = func(self.values, **kwargs)\n",
      "C:\\Users\\atero\\AppData\\Local\\Programs\\Python\\Python310\\lib\\site-packages\\pyLDAvis\\_prepare.py:247: FutureWarning: In a future version of pandas all arguments of DataFrame.drop except for the argument 'labels' will be keyword-only.\n",
      "  by='saliency', ascending=False).head(R).drop('saliency', 1)\n",
      "C:\\Users\\atero\\AppData\\Local\\Programs\\Python\\Python310\\lib\\site-packages\\pandas\\core\\internals\\blocks.py:402: RuntimeWarning: divide by zero encountered in log\n",
      "  result = func(self.values, **kwargs)\n"
     ]
    }
   ],
   "source": [
    "clustersDocs: list[int] = labelsTousModeles['skipgram']['silhouette']\n",
    "visualisation = preparation_LDAvis(clustersDocs)"
   ]
  },
  {
   "cell_type": "code",
   "execution_count": 15,
   "metadata": {},
   "outputs": [
    {
     "data": {
      "text/html": [
       "\n",
       "<link rel=\"stylesheet\" type=\"text/css\" href=\"https://cdn.jsdelivr.net/gh/bmabey/pyLDAvis@3.3.1/pyLDAvis/js/ldavis.v1.0.0.css\">\n",
       "\n",
       "\n",
       "<div id=\"ldavis_el1234424416292940805999129152\"></div>\n",
       "<script type=\"text/javascript\">\n",
       "\n",
       "var ldavis_el1234424416292940805999129152_data = {\"mdsDat\": {\"x\": [0.08243196670732039, -0.07895944231398232, 0.137197413028784, 0.1582957433541018, 0.010236397586706046, -0.3151456235990161, 0.06339711337885826, -0.05745356814277168], \"y\": [-0.0030484357992873134, -0.015973049677357277, 0.03185609903126108, -0.05963470193813215, -0.08692972575567244, -0.052803162137436355, -0.008063194917512782, 0.1945961711941373], \"topics\": [1, 2, 3, 4, 5, 6, 7, 8], \"cluster\": [1, 1, 1, 1, 1, 1, 1, 1], \"Freq\": [17.563090798716505, 15.048131124794034, 13.731679819616685, 13.469777122539242, 12.897406989853438, 10.885439250715462, 9.360853351834187, 7.043621541930449]}, \"tinfo\": {\"Term\": [\"arbuste\", \"pluie\", \"fruitier\", \"nichoir\", \"calcul\", \"chaud\", \"planter\", \"bouteille\", \"consignees\", \"provenance\", \"conventionnel\", \"convertir\", \"borne\", \"aerien\", \"vitesse\", \"teletravail\", \"trafic\", \"lourdement\", \"batterie\", \"avion\", \"dans\", \"billet\", \"provenance\", \"saison\", \"etiquette\", \"legume\", \"fruit\", \"transforme\", \"emballe\", \"importer\", \"ogm\", \"hygiene\", \"oeuf\", \"calcul\", \"adulte\", \"age\", \"maternelle\", \"carbone\", \"communiquer\", \"bilan\", \"jeune\", \"environnemental\", \"avenir\", \"eduquer\", \"primaire\", \"arbuste\", \"fruitier\", \"planter\", \"arbre\", \"nichoir\", \"replanter\", \"humide\", \"piste\", \"cyclable\", \"haie\", \"pluie\", \"recuperateur\", \"potable\", \"chaud\", \"panneau\", \"eau\", \"lave\", \"toilette\", \"secheresse\", \"arrosage\", \"consignees\", \"bouteille\", \"consigne\", \"consigner\", \"verre\", \"plastique\", \"gobelet\", \"emballage\", \"sac\", \"contenant\", \"renouvelable\", \"fossile\", \"energie\", \"sport\", \"hauteur\", \"nucleair\", \"banque\", \"stationnement\", \"appartement\", \"epargne\", \"demain\", \"place\", \"indicateur\", \"abandon\", \"afficher\", \"proportionnel\", \"necessaire\", \"indiquer\", \"voyager\", \"cosmetique\", \"mettre\", \"clair\"], \"Freq\": [7766.0, 7351.0, 7501.0, 7779.0, 7992.0, 7680.0, 7683.0, 6331.0, 6232.0, 7965.0, 8100.799999999999, 7364.363636363638, 6961.625, 6443.818181818178, 6231.384615384613, 5835.322033898306, 6075.599999999999, 5738.066666666667, 5586.758620689656, 5389.645161290319, 5786.285714285713, 5625.555555555557, 7341.230769230769, 7311.235955056191, 6073.2, 6044.7540983606605, 5936.210526315801, 5784.0, 5684.275862068966, 6362.4, 6073.2, 5205.599999999999, 6006.461538461538, 7125.299999999999, 5937.75, 6531.525000000003, 6054.176470588236, 4942.888888888899, 5278.0, 4827.439024390245, 5453.93333333333, 4832.45454545454, 5541.9, 5172.439999999995, 4984.777777777777, 7766.000000000002, 7211.285714285712, 7280.624999999992, 6967.626168224263, 7060.000000000002, 6770.358974358978, 6101.857142857141, 5824.500000000003, 5714.603773584905, 5670.412698412692, 7126.1666666666715, 6789.391304347823, 6627.739130434779, 6760.000000000002, 6134.699999999996, 5639.945823927752, 5577.0, 5520.666666666662, 5205.2, 4957.333333333333, 5962.200000000002, 5975.952191235056, 5894.3513513513635, 5871.096774193545, 5651.685863874324, 5717.5022624434205, 5537.6470588235325, 5403.936218678811, 5241.494505494499, 5229.999999999996, 4009.1999999999957, 3826.963636363637, 3540.306122448968, 2698.4999999999995, 2698.5, 2529.84375, 2453.181818181819, 2158.8, 2158.8, 1962.5454545454545, 2158.7999999999997, 2329.102941176464, 2030.4999999999998, 2030.5, 1740.428571428571, 1624.4, 1624.4, 1672.1764705882354, 1624.4, 1476.7272727272727, 1436.5442176870743, 1450.3571428571427], \"Total\": [7766.0, 7351.0, 7501.0, 7779.0, 7992.0, 7680.0, 7683.0, 6331.0, 6232.0, 7965.0, 9745.0, 9280.727272727276, 9108.0, 8990.757575757572, 8965.115384615385, 8692.762711864409, 9050.8, 8705.4, 8622.137931034484, 8407.290322580642, 9055.714285714284, 8979.222222222224, 7965.999999999999, 8315.56179775282, 7425.099999999999, 8101.090163934432, 7972.929824561415, 7793.0, 7772.0344827586205, 8747.4, 8638.1, 7494.5, 8758.384615384615, 7992.9, 6953.0, 7738.500000000003, 7802.352941176472, 6674.084656084666, 7150.25, 6769.707317073171, 7697.499999999997, 6824.610389610384, 7871.7, 7577.119999999995, 7614.296296296296, 7766.000000000002, 7501.35714285714, 7683.124999999992, 7648.303738317722, 7779.727272727275, 7641.666666666671, 7695.285714285713, 7544.730769230772, 7402.811320754717, 7507.047619047613, 7351.0416666666715, 7399.913043478257, 7393.608695652171, 7680.545454545457, 7269.0499999999965, 7174.4582392776365, 7320.333333333333, 7597.0909090909045, 7313.2, 7496.916666666666, 6232.050000000002, 6331.458167330673, 6354.918918918931, 6390.838709677416, 6320.712041884795, 6420.374057315215, 6419.2352941176505, 6496.571753986328, 6539.131868131862, 6563.272727272723, 5814.828571428568, 6051.563636363638, 6047.55685131194, 6811.583333333332, 6817.5, 7050.3125, 6903.272727272728, 6704.900000000001, 7272.500000000001, 6774.363636363636, 7625.199999999999, 5089.562499999992, 5589.583333333333, 6131.6, 6382.642857142857, 6034.4, 6252.200000000001, 6807.470588235295, 6755.1, 6475.090909090909, 6418.451247165533, 6579.428571428571], \"Category\": [\"Default\", \"Default\", \"Default\", \"Default\", \"Default\", \"Default\", \"Default\", \"Default\", \"Default\", \"Default\", \"Topic1\", \"Topic1\", \"Topic1\", \"Topic1\", \"Topic1\", \"Topic1\", \"Topic1\", \"Topic1\", \"Topic1\", \"Topic1\", \"Topic1\", \"Topic1\", \"Topic2\", \"Topic2\", \"Topic2\", \"Topic2\", \"Topic2\", \"Topic2\", \"Topic2\", \"Topic2\", \"Topic2\", \"Topic2\", \"Topic2\", \"Topic3\", \"Topic3\", \"Topic3\", \"Topic3\", \"Topic3\", \"Topic3\", \"Topic3\", \"Topic3\", \"Topic3\", \"Topic3\", \"Topic3\", \"Topic3\", \"Topic4\", \"Topic4\", \"Topic4\", \"Topic4\", \"Topic4\", \"Topic4\", \"Topic4\", \"Topic4\", \"Topic4\", \"Topic4\", \"Topic5\", \"Topic5\", \"Topic5\", \"Topic5\", \"Topic5\", \"Topic5\", \"Topic5\", \"Topic5\", \"Topic5\", \"Topic5\", \"Topic6\", \"Topic6\", \"Topic6\", \"Topic6\", \"Topic6\", \"Topic6\", \"Topic6\", \"Topic6\", \"Topic6\", \"Topic6\", \"Topic7\", \"Topic7\", \"Topic7\", \"Topic7\", \"Topic7\", \"Topic7\", \"Topic7\", \"Topic7\", \"Topic7\", \"Topic7\", \"Topic7\", \"Topic8\", \"Topic8\", \"Topic8\", \"Topic8\", \"Topic8\", \"Topic8\", \"Topic8\", \"Topic8\", \"Topic8\", \"Topic8\", \"Topic8\"], \"logprob\": [10.0, 9.0, 8.0, 7.0, 6.0, 5.0, 4.0, 3.0, 2.0, 1.0, -0.2231, -0.3185, -0.3747, -0.452, -0.4855, -0.5512, -0.5108, -0.568, -0.5947, -0.6306, -0.5596, -0.5878, -0.1671, -0.1711, -0.3567, -0.3614, -0.3795, -0.4055, -0.4229, -0.3102, -0.3567, -0.5108, -0.3677, -0.1054, -0.2877, -0.1924, -0.2683, -0.4711, -0.4055, -0.4947, -0.3727, -0.4937, -0.3567, -0.4257, -0.4626, 0.0, -0.0741, -0.0645, -0.1085, -0.0953, -0.1372, -0.2412, -0.2877, -0.3067, -0.3145, -0.0426, -0.091, -0.1151, -0.0953, -0.1924, -0.2765, -0.2877, -0.2978, -0.3567, -0.4055, -0.0513, -0.049, -0.0627, -0.0667, -0.1048, -0.0932, -0.1252, -0.1496, -0.1801, -0.1823, -0.2973, -0.3438, -0.4216, -0.6931, -0.6931, -0.7577, -0.7885, -0.9163, -0.9163, -1.0116, -0.9163, -0.5559, -0.6931, -0.6931, -0.8473, -0.9163, -0.9163, -0.8873, -0.9163, -1.0116, -1.0392, -1.0296], \"loglift\": [10.0, 9.0, 8.0, 7.0, 6.0, 5.0, 4.0, 3.0, 2.0, 1.0, 6.6748, 6.6283, 6.5908, 6.5265, 6.4958, 6.461, 6.461, 6.4427, 6.4256, 6.4149, 6.4116, 6.3919, 6.9324, 6.8854, 6.8131, 6.7213, 6.7191, 6.716, 6.7013, 6.6957, 6.6618, 6.6497, 6.6369, 6.9907, 6.9478, 6.9361, 6.852, 6.8054, 6.802, 6.7675, 6.7611, 6.7605, 6.7547, 6.7238, 6.682, 7.1249, 7.0855, 7.0711, 7.0317, 7.0278, 7.0038, 6.8929, 6.8661, 6.8661, 6.8443, 7.1372, 7.0822, 7.059, 7.0406, 6.9987, 6.9277, 6.8963, 6.849, 6.8283, 6.7547, 7.2937, 7.2801, 7.2627, 7.2531, 7.226, 7.222, 7.1902, 7.1538, 7.1167, 7.1108, 7.117, 7.0306, 6.9534, 6.5629, 6.562, 6.4639, 6.4542, 6.3555, 6.2743, 6.2499, 6.2269, 6.9915, 6.7606, 6.668, 6.4738, 6.4609, 6.4254, 6.3693, 6.3481, 6.2951, 6.2763, 6.2611]}, \"token.table\": {\"Topic\": [1, 3, 4, 5, 8, 3, 8, 1, 2, 3, 4, 5, 7, 1, 2, 3, 7, 8, 1, 3, 4, 7, 8, 1, 3, 4, 5, 7, 3, 4, 5, 6, 7, 8, 4, 1, 2, 5, 6, 7, 3, 4, 1, 2, 3, 4, 5, 6, 7, 8, 1, 2, 3, 4, 5, 7, 8, 1, 2, 3, 5, 6, 7, 8, 1, 3, 4, 6, 7, 8, 1, 2, 3, 4, 5, 8, 1, 2, 5, 7, 5, 6, 2, 3, 2, 3, 4, 6, 7, 8, 1, 5, 1, 2, 3, 4, 6, 7, 8, 3, 6, 7, 2, 5, 6, 6, 7, 2, 5, 6, 2, 5, 6, 1, 2, 4, 1, 3, 4, 7, 1, 2, 6, 8, 1, 3, 4, 5, 7, 8, 1, 2, 3, 4, 8, 1, 3, 4, 7, 1, 2, 3, 4, 5, 6, 7, 8, 1, 3, 4, 5, 7, 8, 2, 5, 6, 7, 8, 2, 6, 8, 1, 2, 3, 4, 5, 6, 7, 8, 1, 3, 4, 5, 6, 7, 8, 2, 3, 4, 7, 8, 2, 7, 8, 1, 2, 3, 4, 5, 6, 7, 8, 1, 2, 4, 5, 6, 8, 4, 8, 2, 5, 6, 8, 1, 4, 5, 6, 7, 1, 4, 7, 4, 5, 2, 6, 8, 1, 2, 7, 3, 4, 5, 6, 7, 8, 1, 2, 4, 8, 1, 3, 4, 5, 7, 8, 1, 5, 7, 1, 2, 4, 5, 6, 7, 8, 1, 2, 3, 5, 7, 8, 1, 3, 4, 8, 1, 2, 3, 4, 5, 6, 7, 8, 1, 3, 4, 6, 8, 3, 4, 1, 3, 4, 5, 7, 1, 2, 7, 1, 2, 7, 2, 5, 6, 7, 1, 2, 3, 4, 5, 7, 8, 2, 3, 4, 5, 6, 7, 8, 3, 4, 5, 7, 8, 2, 5, 6, 5, 7, 1, 5, 6, 1, 2, 3, 4, 6, 7, 8, 2, 3, 6, 7, 8, 2, 8, 4, 5, 6, 1, 3, 4, 5, 6, 7, 8, 4, 5, 6, 7, 2, 5, 6, 8, 1, 2, 4, 5, 6, 7, 8, 3, 4, 5, 7, 1, 2, 3, 4, 5, 7, 1, 5, 6, 7, 8, 1, 2, 3, 4, 5, 7, 8, 1, 2, 3, 4, 5, 6, 1, 2, 3, 4, 5, 7, 2, 3, 7, 5, 6, 8, 1, 3, 4, 5, 7, 8, 1, 4, 7, 8], \"Freq\": [0.16520973318546545, 0.12916693848261465, 0.2532781003327027, 0.121338639180638, 0.33107182464609564, 0.8540198475478211, 0.1459801524521789, 0.7167360420633987, 0.08775678727312564, 0.053388159557795065, 0.026137953116837167, 0.025025699792716436, 0.09098232191307576, 0.22670859585706774, 0.29125865908658527, 0.08867799948521102, 0.12079635618921854, 0.2726143447071858, 0.03269367448471925, 0.8440912321509333, 0.07520837371583637, 0.03489048265167667, 0.01318084900174452, 0.27844620144379506, 0.10890340323135096, 0.2135441732554142, 0.10230319697490545, 0.2968717772430388, 0.014513021945492838, 0.9110516839296765, 0.036347928836459535, 0.019219947981868893, 0.016474241127316193, 0.002484210963642918, 0.9999999999999998, 0.11257961606438203, 0.09643964741060214, 0.6612051621222058, 0.06976201327212299, 0.060024676811578095, 0.7040410584752976, 0.29599705273320887, 0.6411102499366911, 0.0832610714203495, 0.053168141321280324, 0.04472308979150202, 0.06422996938141247, 0.006066163774911177, 0.041392646934688034, 0.06625202397304952, 0.2000500421407501, 0.057074378423935944, 0.26060103244837757, 0.05113516645596291, 0.048962284028655705, 0.35533870627897174, 0.026798883270122205, 0.647983138832676, 0.10415050271554378, 0.06332536133929499, 0.08918901624527079, 0.025051791299061755, 0.021572375840858735, 0.048711816414842304, 0.036486067776825025, 0.713029348820787, 0.02791848910858271, 0.02260068165932886, 0.03884953775427118, 0.16101139221351932, 0.6265576083055943, 0.10735896452303463, 0.14700605100664493, 0.047999703018078765, 0.04599507504980633, 0.025169217823864967, 0.764382960035134, 0.05950812472551603, 0.10210803689064558, 0.0741106719367589, 0.05622717399238361, 0.9438584038721474, 0.10859637928661688, 0.8914161318169876, 0.013784661828663641, 0.740625906729178, 0.030715822553000507, 0.0098889965292587, 0.021426159146727183, 0.18354576891427132, 0.1199133584262481, 0.8801458229765876, 0.32981587632447457, 0.09423310752127846, 0.0860257078339413, 0.0843538301198541, 0.06809101962827863, 0.11718342886920273, 0.2203838804933125, 0.7381560085311702, 0.07314429565399812, 0.18866473200237754, 0.009284146777129425, 0.06325808482044117, 0.9274705271932344, 0.9566675492013058, 0.0433244277565167, 0.043812715782672804, 0.037553756385148115, 0.9186587655716858, 0.1001024987533936, 0.10299739597761655, 0.7968585517203174, 0.8312981015905593, 0.08907131862493586, 0.07973319651103129, 0.7934722984092153, 0.07758012694929863, 0.07607162448084004, 0.05290533657236892, 0.14223738522449667, 0.3654002751804116, 0.26439783225226743, 0.22810490551203214, 0.02580100879574053, 0.04039006088966711, 0.7720040066369482, 0.07578202059900752, 0.05497911298359369, 0.03106927760743624, 0.6389335857390757, 0.20528474522795395, 0.06250197191986119, 0.06128726928537625, 0.032023978545511915, 0.4426113413418665, 0.13848817080207734, 0.1357341446781724, 0.28314011435765624, 0.0032058169736194275, 0.008223617454067227, 0.0025089002402239, 0.012265734507761288, 0.7861220752701553, 0.1678175494016431, 0.018677368455000145, 0.00125445012011195, 0.05345038748231521, 0.6825812445889735, 0.10927634774162222, 0.07852587790611741, 0.04751145553983575, 0.028638849589289878, 0.11867797804694617, 0.03909754399990185, 0.8318233376986992, 0.0018471280629874889, 0.008619930960608282, 0.7313400387774026, 0.2506422230011225, 0.018013301447719277, 0.01471668678578732, 0.06266993586307185, 0.03439405451060407, 0.015047398848389282, 0.2402623134803256, 0.024141980569943246, 0.5853603508054732, 0.02348055644473932, 0.019341763480147305, 0.708025766182362, 0.05172456445827272, 0.02828000266415477, 0.0060076689597427235, 0.0358994852472431, 0.1506313095272078, 0.23278939316675168, 0.31870152177997263, 0.10421643092943987, 0.289768914893046, 0.05447006092487721, 0.8179014424048161, 0.07272629324857578, 0.10935879651452507, 0.06081072960857598, 0.026108954560203818, 0.04759100578062468, 0.023299763246764166, 0.17879676477304135, 0.018838106454830604, 0.6323985386196204, 0.012228244540854954, 0.04452566469434945, 0.7445192834525588, 0.017057719432201482, 0.00815258649333159, 0.15878730000858143, 0.026840823224199388, 0.9612927184604694, 0.03865967110713301, 0.0794487157165504, 0.04548828429261317, 0.8627195836044237, 0.012462543641811827, 0.021446513752156723, 0.7552902669237802, 0.14146706586826358, 0.013320815995128398, 0.06846899421495997, 0.1485881921525486, 0.4555922258892556, 0.3957462412907957, 0.792953013904617, 0.20700985761226728, 0.6946427380078725, 0.2512509173393822, 0.05417306024417907, 0.2314973592153097, 0.7273018268285434, 0.041155086082721726, 0.23615355944837868, 0.11575102497204623, 0.11092061125605666, 0.09356690272083489, 0.08050689526649274, 0.3631755497577339, 0.087550874039766, 0.5997822461482627, 0.06713212992646486, 0.2456125191182697, 0.058460539136083164, 0.708541734329328, 0.08963949334199418, 0.07508931471256904, 0.062357908411822045, 0.005846053913608316, 0.11529529620691226, 0.7618505532534948, 0.1229452210737216, 0.06147320791676485, 0.7461958671824167, 0.015676902420540435, 0.015059701537841991, 0.13973427984292733, 0.005431367767746292, 0.016417543479778564, 0.6591311140211823, 0.1329060123601443, 0.060652009097801364, 0.028488064879270338, 0.10338410641670688, 0.015507615962506032, 0.07638721351025331, 0.7759197828709287, 0.11714414957780456, 0.03063178528347406, 0.17169250923058063, 0.22372998480500345, 0.03349717739072127, 0.04113141781930425, 0.09192248679314208, 0.1397533400905906, 0.07431699355987928, 0.22388578563007658, 0.1620229679152938, 0.2531908768113624, 0.12427625475832506, 0.20072934327116854, 0.2597485685038866, 0.09254823141732005, 0.9074868247309438, 0.26934976286512124, 0.105243561898852, 0.06879127698240327, 0.19772173219272196, 0.35884934178449535, 0.26683002661186206, 0.6857428925249651, 0.047383166899410675, 0.23442655213530753, 0.7030481240087519, 0.06251374723608201, 0.039757602437732596, 0.8439892420605173, 0.07910249619964098, 0.03714378082417924, 0.025845852683737493, 0.04426930664804268, 0.020146510809887688, 0.7720620096552354, 0.07581450120562998, 0.04122082145970441, 0.020676682146989995, 0.006287377353161505, 0.005697935726302614, 0.06739282600419988, 0.11808480591406452, 0.23577665074355644, 0.10924318151118115, 0.45760318298478575, 0.009241031481330849, 0.9476612706418297, 0.025900919222321673, 0.012494915805743119, 0.004685593427153669, 0.044857199507224964, 0.06463797845659153, 0.8906023152163622, 0.9693864248264128, 0.030607907042652666, 0.029755429189723216, 0.8964499303158431, 0.07384756517085853, 0.04924946251203876, 0.04215753991030518, 0.6546895216600352, 0.15116301693695097, 0.03046900080744798, 0.052532760012841344, 0.019699785004815503, 0.1438419726899112, 0.39357682619647355, 0.10406999867426754, 0.0894869415351982, 0.2691236908391887, 0.9215415515942758, 0.07845844840572434, 0.04567621241142671, 0.9174432131987454, 0.036892325409229265, 0.024936246738633757, 0.019433075044590443, 0.038178253627425475, 0.1826365105960624, 0.015477670389496814, 0.6894442287943636, 0.029923496086360506, 0.8859323882224641, 0.07485278080697924, 0.021068702290076326, 0.018058887677208278, 0.11668215527483748, 0.07493349421319838, 0.8014825370844342, 0.006881647427742709, 0.04100745184674728, 0.8791949573359805, 0.02104487998000227, 0.01010154239040109, 0.008538208449029493, 0.007335643878743648, 0.03295026922583212, 0.10829732538423673, 0.10624623967620193, 0.711726740688071, 0.07383908548925232, 0.12390658070199051, 0.10614272256817434, 0.09689377163899732, 0.09498525795519888, 0.18189603494048132, 0.3960899937606284, 0.3020179271875792, 0.22177810258169398, 0.09366284359199988, 0.3220033110113499, 0.06055273009291712, 0.6712480477623114, 0.016910619198125067, 0.015415122262236456, 0.1817603968233851, 0.043484449366607315, 0.031520473879498426, 0.03957314968812941, 0.08082040972621105, 0.05186195672984878, 0.03159103963239519, 0.04646515412598126, 0.7267255408768911, 0.06252393260578215, 0.671321872099704, 0.06386175807663412, 0.058337384540593104, 0.0572325098333849, 0.10949308348433288, 0.03977548945949529, 0.7422045425381752, 0.08469138970871294, 0.17310406775311177, 0.09239465366086429, 0.8942030522109674, 0.013447851988310727, 0.6950273066973268, 0.03390921220285465, 0.16653438756204605, 0.06380285980273968, 0.023201039928268975, 0.01740077994620173, 0.44973427484419176, 0.22990037157110924, 0.07993960119021183, 0.2404109487646371], \"Term\": [\"abandon\", \"abandon\", \"abandon\", \"abandon\", \"abandon\", \"adulte\", \"adulte\", \"aerien\", \"aerien\", \"aerien\", \"aerien\", \"aerien\", \"aerien\", \"afficher\", \"afficher\", \"afficher\", \"afficher\", \"afficher\", \"age\", \"age\", \"age\", \"age\", \"age\", \"appartement\", \"appartement\", \"appartement\", \"appartement\", \"appartement\", \"arbre\", \"arbre\", \"arbre\", \"arbre\", \"arbre\", \"arbre\", \"arbuste\", \"arrosage\", \"arrosage\", \"arrosage\", \"arrosage\", \"arrosage\", \"avenir\", \"avenir\", \"avion\", \"avion\", \"avion\", \"avion\", \"avion\", \"avion\", \"avion\", \"avion\", \"banque\", \"banque\", \"banque\", \"banque\", \"banque\", \"banque\", \"banque\", \"batterie\", \"batterie\", \"batterie\", \"batterie\", \"batterie\", \"batterie\", \"batterie\", \"bilan\", \"bilan\", \"bilan\", \"bilan\", \"bilan\", \"bilan\", \"billet\", \"billet\", \"billet\", \"billet\", \"billet\", \"billet\", \"borne\", \"borne\", \"borne\", \"borne\", \"bouteille\", \"bouteille\", \"calcul\", \"calcul\", \"carbone\", \"carbone\", \"carbone\", \"carbone\", \"carbone\", \"carbone\", \"chaud\", \"chaud\", \"clair\", \"clair\", \"clair\", \"clair\", \"clair\", \"clair\", \"clair\", \"communiquer\", \"communiquer\", \"communiquer\", \"consigne\", \"consigne\", \"consigne\", \"consignees\", \"consignees\", \"consigner\", \"consigner\", \"consigner\", \"contenant\", \"contenant\", \"contenant\", \"conventionnel\", \"conventionnel\", \"conventionnel\", \"convertir\", \"convertir\", \"convertir\", \"convertir\", \"cosmetique\", \"cosmetique\", \"cosmetique\", \"cosmetique\", \"cyclable\", \"cyclable\", \"cyclable\", \"cyclable\", \"cyclable\", \"cyclable\", \"dans\", \"dans\", \"dans\", \"dans\", \"dans\", \"demain\", \"demain\", \"demain\", \"demain\", \"eau\", \"eau\", \"eau\", \"eau\", \"eau\", \"eau\", \"eau\", \"eau\", \"eduquer\", \"eduquer\", \"eduquer\", \"eduquer\", \"eduquer\", \"eduquer\", \"emballage\", \"emballage\", \"emballage\", \"emballage\", \"emballage\", \"emballe\", \"emballe\", \"emballe\", \"energie\", \"energie\", \"energie\", \"energie\", \"energie\", \"energie\", \"energie\", \"energie\", \"environnemental\", \"environnemental\", \"environnemental\", \"environnemental\", \"environnemental\", \"environnemental\", \"environnemental\", \"epargne\", \"epargne\", \"epargne\", \"epargne\", \"epargne\", \"etiquette\", \"etiquette\", \"etiquette\", \"fossile\", \"fossile\", \"fossile\", \"fossile\", \"fossile\", \"fossile\", \"fossile\", \"fossile\", \"fruit\", \"fruit\", \"fruit\", \"fruit\", \"fruit\", \"fruit\", \"fruitier\", \"fruitier\", \"gobelet\", \"gobelet\", \"gobelet\", \"gobelet\", \"haie\", \"haie\", \"haie\", \"haie\", \"haie\", \"hauteur\", \"hauteur\", \"hauteur\", \"humide\", \"humide\", \"hygiene\", \"hygiene\", \"hygiene\", \"importer\", \"importer\", \"importer\", \"indicateur\", \"indicateur\", \"indicateur\", \"indicateur\", \"indicateur\", \"indicateur\", \"indiquer\", \"indiquer\", \"indiquer\", \"indiquer\", \"jeune\", \"jeune\", \"jeune\", \"jeune\", \"jeune\", \"jeune\", \"lave\", \"lave\", \"lave\", \"legume\", \"legume\", \"legume\", \"legume\", \"legume\", \"legume\", \"legume\", \"lourdement\", \"lourdement\", \"lourdement\", \"lourdement\", \"lourdement\", \"lourdement\", \"maternelle\", \"maternelle\", \"maternelle\", \"maternelle\", \"mettre\", \"mettre\", \"mettre\", \"mettre\", \"mettre\", \"mettre\", \"mettre\", \"mettre\", \"necessaire\", \"necessaire\", \"necessaire\", \"necessaire\", \"necessaire\", \"nichoir\", \"nichoir\", \"nucleair\", \"nucleair\", \"nucleair\", \"nucleair\", \"nucleair\", \"oeuf\", \"oeuf\", \"oeuf\", \"ogm\", \"ogm\", \"ogm\", \"panneau\", \"panneau\", \"panneau\", \"panneau\", \"piste\", \"piste\", \"piste\", \"piste\", \"piste\", \"piste\", \"piste\", \"place\", \"place\", \"place\", \"place\", \"place\", \"place\", \"place\", \"planter\", \"planter\", \"planter\", \"planter\", \"planter\", \"plastique\", \"plastique\", \"plastique\", \"pluie\", \"pluie\", \"potable\", \"potable\", \"potable\", \"primaire\", \"primaire\", \"primaire\", \"primaire\", \"primaire\", \"primaire\", \"primaire\", \"proportionnel\", \"proportionnel\", \"proportionnel\", \"proportionnel\", \"proportionnel\", \"provenance\", \"provenance\", \"recuperateur\", \"recuperateur\", \"recuperateur\", \"renouvelable\", \"renouvelable\", \"renouvelable\", \"renouvelable\", \"renouvelable\", \"renouvelable\", \"renouvelable\", \"replanter\", \"replanter\", \"replanter\", \"replanter\", \"sac\", \"sac\", \"sac\", \"sac\", \"saison\", \"saison\", \"saison\", \"saison\", \"saison\", \"saison\", \"saison\", \"secheresse\", \"secheresse\", \"secheresse\", \"secheresse\", \"sport\", \"sport\", \"sport\", \"sport\", \"sport\", \"sport\", \"stationnement\", \"stationnement\", \"stationnement\", \"stationnement\", \"stationnement\", \"teletravail\", \"teletravail\", \"teletravail\", \"teletravail\", \"teletravail\", \"teletravail\", \"teletravail\", \"toilette\", \"toilette\", \"toilette\", \"toilette\", \"toilette\", \"toilette\", \"trafic\", \"trafic\", \"trafic\", \"trafic\", \"trafic\", \"trafic\", \"transforme\", \"transforme\", \"transforme\", \"verre\", \"verre\", \"verre\", \"vitesse\", \"vitesse\", \"vitesse\", \"vitesse\", \"vitesse\", \"vitesse\", \"voyager\", \"voyager\", \"voyager\", \"voyager\"]}, \"R\": 10, \"lambda.step\": 1, \"plot.opts\": {\"xlab\": \"PC1\", \"ylab\": \"PC2\"}, \"topic.order\": [4, 8, 7, 2, 3, 6, 5, 1]};\n",
       "\n",
       "function LDAvis_load_lib(url, callback){\n",
       "  var s = document.createElement('script');\n",
       "  s.src = url;\n",
       "  s.async = true;\n",
       "  s.onreadystatechange = s.onload = callback;\n",
       "  s.onerror = function(){console.warn(\"failed to load library \" + url);};\n",
       "  document.getElementsByTagName(\"head\")[0].appendChild(s);\n",
       "}\n",
       "\n",
       "if(typeof(LDAvis) !== \"undefined\"){\n",
       "   // already loaded: just create the visualization\n",
       "   !function(LDAvis){\n",
       "       new LDAvis(\"#\" + \"ldavis_el1234424416292940805999129152\", ldavis_el1234424416292940805999129152_data);\n",
       "   }(LDAvis);\n",
       "}else if(typeof define === \"function\" && define.amd){\n",
       "   // require.js is available: use it to load d3/LDAvis\n",
       "   require.config({paths: {d3: \"https://d3js.org/d3.v5\"}});\n",
       "   require([\"d3\"], function(d3){\n",
       "      window.d3 = d3;\n",
       "      LDAvis_load_lib(\"https://cdn.jsdelivr.net/gh/bmabey/pyLDAvis@3.3.1/pyLDAvis/js/ldavis.v3.0.0.js\", function(){\n",
       "        new LDAvis(\"#\" + \"ldavis_el1234424416292940805999129152\", ldavis_el1234424416292940805999129152_data);\n",
       "      });\n",
       "    });\n",
       "}else{\n",
       "    // require.js not available: dynamically load d3 & LDAvis\n",
       "    LDAvis_load_lib(\"https://d3js.org/d3.v5.js\", function(){\n",
       "         LDAvis_load_lib(\"https://cdn.jsdelivr.net/gh/bmabey/pyLDAvis@3.3.1/pyLDAvis/js/ldavis.v3.0.0.js\", function(){\n",
       "                 new LDAvis(\"#\" + \"ldavis_el1234424416292940805999129152\", ldavis_el1234424416292940805999129152_data);\n",
       "            })\n",
       "         });\n",
       "}\n",
       "</script>"
      ],
      "text/plain": [
       "<IPython.core.display.HTML object>"
      ]
     },
     "execution_count": 15,
     "metadata": {},
     "output_type": "execute_result"
    }
   ],
   "source": [
    "pyLDAvis.save_html(visualisation, \"data/LDAvis/Skip_Gram.html\")\n",
    "pyLDAvis.save_json(visualisation, \"data/LDAvis/Skip_Gram.json\")\n",
    "pyLDAvis.display(visualisation)"
   ]
  },
  {
   "cell_type": "code",
   "execution_count": 122,
   "metadata": {},
   "outputs": [
    {
     "name": "stdout",
     "output_type": "stream",
     "text": [
      "['obliger', 'maire', 'reboiser', 'systematiquement', 'terrain', 'abandon', 'cesser'][3]\n",
      "['vegetaliser', 'espace', 'urbain', 'public', 'parking', 'abandon', 'developper', 'espace', 'verts', 'ville'][1]\n",
      "['animal', 'domestique', 'produit', 'animal', 'nourriture', 'abandon'][2]\n",
      "['sensibiliser', 'proprietaire', 'vendre', 'bien', 'laisser', 'vide', 'abandon', 'beton'][6]\n",
      "X['mettre', 'place', 'obligatoire', 'animal', 'moindre', 'eviter', 'abandon'][0]\n",
      "X['mettre', 'place', 'permis', 'animal', 'contre', 'abandon'][0]\n",
      "['punir', 'severement', 'abandon', 'animal'][1]\n",
      "X['mettre', 'place', 'action', 'population', 'abandon', 'dechet', 'nature'][0]\n",
      "X['mettre', 'place', 'permis', 'animal', 'lutter', 'contre', 'abandon'][0]\n",
      "X['mettre', 'place', 'kilomètre', 'velo', 'encourager', 'abandon', 'voiture'][0]\n"
     ]
    }
   ],
   "source": [
    "for i, doc in enumerate(docs):\n",
    "    if 'abandon' in doc:\n",
    "        print('X' if clustersDocs[i] == 0 else '', end = '')\n",
    "        print(doc, end = '')\n",
    "        print('[' + str(clustersDocs[i]) + ']')"
   ]
  },
  {
   "cell_type": "markdown",
   "metadata": {},
   "source": [
    "# Modèle GloVe"
   ]
  },
  {
   "cell_type": "markdown",
   "metadata": {},
   "source": [
    "Chargement de modèle et de labels clusters. On ne conserve que les documents qui sont dans catégorisés"
   ]
  },
  {
   "cell_type": "code",
   "execution_count": 16,
   "metadata": {},
   "outputs": [
    {
     "name": "stderr",
     "output_type": "stream",
     "text": [
      "C:\\Users\\atero\\AppData\\Local\\Programs\\Python\\Python310\\lib\\site-packages\\pandas\\core\\internals\\blocks.py:402: RuntimeWarning: divide by zero encountered in log\n",
      "  result = func(self.values, **kwargs)\n",
      "C:\\Users\\atero\\AppData\\Local\\Programs\\Python\\Python310\\lib\\site-packages\\pyLDAvis\\_prepare.py:247: FutureWarning: In a future version of pandas all arguments of DataFrame.drop except for the argument 'labels' will be keyword-only.\n",
      "  by='saliency', ascending=False).head(R).drop('saliency', 1)\n",
      "C:\\Users\\atero\\AppData\\Local\\Programs\\Python\\Python310\\lib\\site-packages\\pandas\\core\\internals\\blocks.py:402: RuntimeWarning: divide by zero encountered in log\n",
      "  result = func(self.values, **kwargs)\n"
     ]
    }
   ],
   "source": [
    "clustersDocs: list[int] = labelsTousModeles['glove']['silhouette']\n",
    "visualisation = preparation_LDAvis(clustersDocs)"
   ]
  },
  {
   "cell_type": "code",
   "execution_count": 17,
   "metadata": {},
   "outputs": [
    {
     "data": {
      "text/html": [
       "\n",
       "<link rel=\"stylesheet\" type=\"text/css\" href=\"https://cdn.jsdelivr.net/gh/bmabey/pyLDAvis@3.3.1/pyLDAvis/js/ldavis.v1.0.0.css\">\n",
       "\n",
       "\n",
       "<div id=\"ldavis_el1234424416379263207230910244\"></div>\n",
       "<script type=\"text/javascript\">\n",
       "\n",
       "var ldavis_el1234424416379263207230910244_data = {\"mdsDat\": {\"x\": [0.10786479986830141, -0.021890267667790134, 0.16921835848394737, -0.12229366989377412, -0.1318915814213133, -0.001007639369371212], \"y\": [-0.03746514265690546, -0.15416140977282822, 0.10483994421984597, -0.011130647855401653, 0.14010007552172113, -0.04218281945643178], \"topics\": [1, 2, 3, 4, 5, 6], \"cluster\": [1, 1, 1, 1, 1, 1], \"Freq\": [17.615124447142485, 17.613389992194953, 17.476368051339865, 16.461711907033212, 15.45746249241176, 15.37594310987772]}, \"tinfo\": {\"Term\": [\"serviette\", \"ouvert\", \"gobelet\", \"consigner\", \"consignees\", \"bouteille\", \"importe\", \"vegetaliser\", \"allocation\", \"proteine\", \"importe\", \"proteine\", \"conventionnel\", \"eleveur\", \"pac\", \"saison\", \"manger\", \"biologique\", \"importer\", \"viande\", \"allocation\", \"maternelle\", \"age\", \"evaluer\", \"transaction\", \"conscience\", \"futur\", \"sobriete\", \"jeune\", \"enseigner\", \"serviette\", \"gobelet\", \"consigner\", \"bouteille\", \"verre\", \"consignees\", \"tasse\", \"consigne\", \"plastique\", \"paille\", \"traverser\", \"velo\", \"train\", \"fluvial\", \"fret\", \"ferroviaire\", \"fossile\", \"transport_commun\", \"gare\", \"trajet\", \"ouvert\", \"vegetaliser\", \"eteindre\", \"recuperateur\", \"potable\", \"planter\", \"eclairage\", \"toit\", \"replanter\", \"pluie\", \"garantie\", \"dans\", \"decharge\", \"organique\", \"fabrique\", \"mail\", \"obsolescence\", \"circulaire\", \"megot\", \"naissance\", \"menagerer\"], \"Freq\": [10076.0, 8912.0, 10077.0, 10078.0, 10046.0, 10034.0, 10090.0, 8950.0, 10085.0, 10151.0, 9621.473684210523, 9558.588235294119, 9140.4, 9232.727272727274, 9140.4, 9014.876404494396, 9009.35483870967, 8576.17777777778, 8124.799999999999, 7836.91338582676, 9590.833333333336, 9557.64705882353, 9393.375000000005, 9308.75, 9139.5, 8858.6170212766, 8592.692307692305, 8592.692307692307, 8575.333333333323, 8650.555555555551, 10076.0, 9878.431372549026, 9750.967741935478, 9674.565737051786, 9601.214659685826, 9572.200000000003, 9404.266666666666, 9395.189189189208, 9376.91101055804, 9236.333333333334, 8813.071428571426, 8628.181818181787, 8558.848214285706, 8541.9, 8464.94594594594, 8412.477272727268, 8283.054545454546, 8215.32795698924, 8067.350000000002, 8018.258620689659, 8912.0, 8633.5, 8506.909090909085, 8524.52173913043, 8524.52173913043, 8514.142857142848, 8482.506024096396, 8458.84745762711, 8454.974358974363, 8355.000000000005, 8372.500000000004, 7598.571428571427, 7465.263157894735, 7092.000000000002, 6779.117647058824, 6371.71875, 6137.307692307694, 6065.526315789473, 6010.169491525421, 5736.176470588235, 5781.521739130433], \"Total\": [10076.0, 8912.0, 10077.0, 10078.0, 10046.0, 10034.0, 10090.0, 8950.0, 10085.0, 10151.0, 10090.52631578947, 10151.29411764706, 10026.9, 10155.909090909092, 10155.9, 10081.280898876419, 10152.064516129027, 10026.755555555557, 9897.8, 10014.283464566919, 10085.944444444447, 10079.117647058823, 10075.075000000004, 10047.5, 10147.1, 10112.680851063833, 10032.07692307692, 10049.692307692307, 10032.366666666658, 10130.518518518515, 10076.0, 10077.54901960785, 10078.580645161284, 10034.207171314734, 10025.937172774831, 10046.750000000002, 10037.0, 10037.506756756777, 10039.858220211134, 9979.0, 9538.428571428569, 9444.61038961036, 9508.178571428563, 9557.5, 9495.621621621616, 9478.863636363632, 9503.727272727274, 9444.983870967735, 9520.550000000003, 9523.500000000004, 8912.0, 8950.875, 8938.893939393933, 8962.60869565217, 8962.60869565217, 8961.571428571418, 8940.831325301215, 8920.220338983041, 8973.717948717953, 8935.14583333334, 8936.722222222226, 9049.285714285712, 9064.57894736842, 9123.080000000002, 9164.058823529413, 9179.15625, 9248.365384615387, 9260.0, 9267.186440677964, 9027.882352941177, 9147.86956521739], \"Category\": [\"Default\", \"Default\", \"Default\", \"Default\", \"Default\", \"Default\", \"Default\", \"Default\", \"Default\", \"Default\", \"Topic1\", \"Topic1\", \"Topic1\", \"Topic1\", \"Topic1\", \"Topic1\", \"Topic1\", \"Topic1\", \"Topic1\", \"Topic1\", \"Topic2\", \"Topic2\", \"Topic2\", \"Topic2\", \"Topic2\", \"Topic2\", \"Topic2\", \"Topic2\", \"Topic2\", \"Topic2\", \"Topic3\", \"Topic3\", \"Topic3\", \"Topic3\", \"Topic3\", \"Topic3\", \"Topic3\", \"Topic3\", \"Topic3\", \"Topic3\", \"Topic4\", \"Topic4\", \"Topic4\", \"Topic4\", \"Topic4\", \"Topic4\", \"Topic4\", \"Topic4\", \"Topic4\", \"Topic4\", \"Topic5\", \"Topic5\", \"Topic5\", \"Topic5\", \"Topic5\", \"Topic5\", \"Topic5\", \"Topic5\", \"Topic5\", \"Topic5\", \"Topic6\", \"Topic6\", \"Topic6\", \"Topic6\", \"Topic6\", \"Topic6\", \"Topic6\", \"Topic6\", \"Topic6\", \"Topic6\", \"Topic6\"], \"logprob\": [10.0, 9.0, 8.0, 7.0, 6.0, 5.0, 4.0, 3.0, 2.0, 1.0, -0.0541, -0.0606, -0.1054, -0.0953, -0.1054, -0.1192, -0.1198, -0.1691, -0.2231, -0.2592, -0.0572, -0.0606, -0.078, -0.087, -0.1054, -0.1366, -0.1671, -0.1671, -0.1691, -0.1603, 0.0, -0.0198, -0.0328, -0.0407, -0.0483, -0.0513, -0.069, -0.07, -0.0719, -0.087, -0.0741, -0.0953, -0.1034, -0.1054, -0.1144, -0.1206, -0.1361, -0.1443, -0.1625, -0.1686, 0.0, -0.0317, -0.0465, -0.0445, -0.0445, -0.0457, -0.0494, -0.0522, -0.0526, -0.0645, -0.0572, -0.1542, -0.1719, -0.2231, -0.2683, -0.3302, -0.3677, -0.3795, -0.3887, -0.4353, -0.4274], \"loglift\": [10.0, 9.0, 8.0, 7.0, 6.0, 5.0, 4.0, 3.0, 2.0, 1.0, 7.0257, 7.0132, 6.9808, 6.978, 6.968, 6.9615, 6.9539, 6.9171, 6.8759, 6.8282, 7.0231, 7.0203, 7.0034, 6.9971, 6.9689, 6.941, 6.9186, 6.9168, 6.9165, 6.9155, 7.0812, 7.0613, 7.0482, 7.0447, 7.038, 7.0329, 7.0161, 7.0151, 7.0129, 7.0039, 7.062, 7.0507, 7.0359, 7.0287, 7.0262, 7.0217, 7.0036, 7.0016, 6.9754, 6.969, 7.204, 7.1679, 7.1545, 7.1539, 7.1539, 7.1528, 7.1514, 7.1509, 7.1445, 7.1369, 7.1441, 7.0346, 7.0152, 6.9575, 6.9079, 6.8442, 6.7992, 6.7862, 6.7763, 6.7558, 6.7504]}, \"token.table\": {\"Topic\": [2, 4, 5, 6, 2, 5, 1, 2, 3, 4, 5, 6, 1, 3, 5, 6, 1, 2, 3, 6, 1, 2, 4, 1, 2, 3, 4, 6, 3, 4, 1, 3, 1, 6, 2, 6, 1, 2, 3, 6, 1, 2, 5, 6, 1, 2, 1, 2, 4, 2, 4, 5, 6, 2, 6, 1, 3, 6, 1, 3, 4, 5, 6, 1, 4, 1, 2, 3, 4, 6, 1, 2, 4, 5, 1, 2, 4, 5, 6, 1, 6, 3, 4, 5, 2, 3, 1, 5, 1, 6, 1, 2, 3, 4, 5, 6, 1, 2, 3, 5, 6, 1, 2, 3, 2, 6, 1, 3, 6, 2, 4, 5, 6, 1, 2, 5, 6, 1, 2, 3, 6, 1, 2, 6, 5, 1, 2, 3, 5, 1, 2, 4, 5, 1, 2, 3, 4, 5, 6, 4, 5, 6, 3, 5, 1, 3, 3, 5, 2, 3, 5, 1, 2, 3, 5, 6, 3, 2, 3, 6, 3, 4, 4, 5, 6, 1, 2, 3, 4, 5, 6, 1, 2, 3, 4, 5, 6, 2, 3, 2, 3, 4, 5, 6, 2, 4, 1, 5, 1, 4, 5, 6, 2, 3, 5, 6, 1, 2, 3, 4, 5, 6], \"Freq\": [0.932300752103582, 0.023523398088847965, 0.022133830269253568, 0.022034575424996827, 0.950927308080001, 0.04907820013550209, 0.8553115663868227, 0.0225396937970408, 0.02234022748025283, 0.021043696421131016, 0.039494330724018395, 0.03929486440723043, 0.003986363777135268, 0.964201738594593, 0.024815114512667043, 0.007075795704415101, 0.11544276457883369, 0.057667386609071274, 0.17181425485961124, 0.6550755939524838, 0.06407796404766712, 0.8760288325590787, 0.05992476267420721, 0.006874217041353666, 0.020523024790128335, 0.9359894072973578, 0.012752170743380713, 0.02391032014383884, 0.9527459128573915, 0.04727897081145643, 0.03254426506548543, 0.9674973434559404, 0.9115479360520201, 0.0883623053984781, 0.16034414713079173, 0.8397347856973717, 0.059020943289960354, 0.0589106237697922, 0.0584693456891196, 0.8235352180552411, 0.013645263573506667, 0.013645263573506667, 0.948793204049648, 0.023935134465003498, 0.9091259007295349, 0.09088305061988093, 0.11134671911788367, 0.8539543147950457, 0.03474649390912682, 0.017228082248668158, 0.01610937560914425, 0.9516837382429872, 0.014990668969620346, 0.9264991291366012, 0.07355063448619059, 0.19554654051312992, 0.06470931837292748, 0.7397377221755066, 0.024370009830484103, 0.024159014074376015, 0.8874481501906158, 0.04272664061188771, 0.02120507348886279, 0.10630394977766153, 0.8937483651582527, 0.0194660468141686, 0.038826871753666024, 0.019255603064826238, 0.8715527879013975, 0.05092738734085191, 0.02885540419766722, 0.02885540419766722, 0.8914634909972738, 0.05076023658129781, 0.03897498025564153, 0.8565524433164391, 0.03638329358902598, 0.034190327948043595, 0.03399096743522701, 0.06311038722872539, 0.936920695507301, 0.1058762361418195, 0.8473249969802162, 0.046846033054813, 0.019746864997908363, 0.9801986555243156, 0.953468600041728, 0.046479240559148774, 0.8208894905938694, 0.17913071591666838, 0.022527087327350495, 0.8547335125311084, 0.0223277325722412, 0.031498051307268835, 0.02960418113373052, 0.03927288675653139, 0.06917847160516523, 0.06917847160516523, 0.13726751846064283, 0.030286008041316433, 0.6941814505009651, 0.887405708039681, 0.06451889652192153, 0.0480690404621339, 0.948297294931279, 0.05169103271178033, 0.16714889787915813, 0.18430620889451393, 0.6485247748571598, 0.19305041325849215, 0.09018493258111893, 0.08471917909135414, 0.6320597335563996, 0.06612846475624536, 0.06612846475624536, 0.23228038625434927, 0.6353649478087493, 0.12672509695060455, 0.02108480708649137, 0.18857386440431256, 0.6635767235374234, 0.08900502900336288, 0.13361715560972826, 0.777369046418534, 1.0, 0.8999694758711685, 0.10004037062200298, 0.9255436416474596, 0.07445635835254033, 0.010154469082271935, 0.030351819674483145, 0.009484943648275982, 0.9500565908402555, 0.025896780043825392, 0.010657521018035835, 0.9339773325805796, 0.0013944420023598288, 0.003984120006742368, 0.024004323040622767, 0.0442074485820274, 0.9350714757033898, 0.02070475439917739, 0.048869700203745044, 0.9511739594450377, 0.9416533388962287, 0.05841619729735994, 0.048869700203745044, 0.9511739594450377, 0.02897349810700763, 0.028750625044646032, 0.942195871133652, 0.8942316051331078, 0.022616173707193408, 0.03372587307213052, 0.009919374432979565, 0.03947911024325867, 1.0, 0.8550510539932337, 0.07711678887987386, 0.067862774214289, 0.9369333466175152, 0.06306665338248481, 0.018048881516569686, 0.9482949611718198, 0.0337435610961955, 0.01903624323420816, 0.009570707924380898, 0.03786214123930905, 0.9001724079645727, 0.016722445714028162, 0.016617273099474528, 0.018375597206909216, 0.018375597206909216, 0.07297737176458233, 0.8419173623142749, 0.03223604767154931, 0.0160655221294692, 0.9007499679711445, 0.09933872732110652, 0.01736371414080525, 0.01143464101955468, 0.8697738516263119, 0.08628918917534317, 0.015140311720336287, 0.07600832721772081, 0.9239467417514118, 0.03541553200106135, 0.964598433114081, 0.006988112508336392, 0.9135368897261574, 0.042881599482973314, 0.03652876992994023, 0.005286288861246818, 0.9576162142798245, 0.00468784106563397, 0.03241592226236256, 0.7825822014854381, 0.04793153715873552, 0.05542083983978795, 0.03734665603618143, 0.013980031671297861, 0.06271042778267898], \"Term\": [\"age\", \"age\", \"age\", \"age\", \"allocation\", \"allocation\", \"biologique\", \"biologique\", \"biologique\", \"biologique\", \"biologique\", \"biologique\", \"bouteille\", \"bouteille\", \"bouteille\", \"bouteille\", \"circulaire\", \"circulaire\", \"circulaire\", \"circulaire\", \"conscience\", \"conscience\", \"conscience\", \"consigne\", \"consigne\", \"consigne\", \"consigne\", \"consigne\", \"consignees\", \"consignees\", \"consigner\", \"consigner\", \"conventionnel\", \"conventionnel\", \"dans\", \"dans\", \"decharge\", \"decharge\", \"decharge\", \"decharge\", \"eclairage\", \"eclairage\", \"eclairage\", \"eclairage\", \"eleveur\", \"eleveur\", \"enseigner\", \"enseigner\", \"enseigner\", \"eteindre\", \"eteindre\", \"eteindre\", \"eteindre\", \"evaluer\", \"evaluer\", \"fabrique\", \"fabrique\", \"fabrique\", \"ferroviaire\", \"ferroviaire\", \"ferroviaire\", \"ferroviaire\", \"ferroviaire\", \"fluvial\", \"fluvial\", \"fossile\", \"fossile\", \"fossile\", \"fossile\", \"fossile\", \"fret\", \"fret\", \"fret\", \"fret\", \"futur\", \"futur\", \"futur\", \"futur\", \"futur\", \"garantie\", \"garantie\", \"gare\", \"gare\", \"gare\", \"gobelet\", \"gobelet\", \"importe\", \"importe\", \"importer\", \"importer\", \"jeune\", \"jeune\", \"jeune\", \"jeune\", \"jeune\", \"jeune\", \"mail\", \"mail\", \"mail\", \"mail\", \"mail\", \"manger\", \"manger\", \"manger\", \"maternelle\", \"maternelle\", \"megot\", \"megot\", \"megot\", \"menagerer\", \"menagerer\", \"menagerer\", \"menagerer\", \"naissance\", \"naissance\", \"naissance\", \"naissance\", \"obsolescence\", \"obsolescence\", \"obsolescence\", \"obsolescence\", \"organique\", \"organique\", \"organique\", \"ouvert\", \"pac\", \"pac\", \"paille\", \"paille\", \"planter\", \"planter\", \"planter\", \"planter\", \"plastique\", \"plastique\", \"plastique\", \"plastique\", \"plastique\", \"plastique\", \"pluie\", \"pluie\", \"pluie\", \"potable\", \"potable\", \"proteine\", \"proteine\", \"recuperateur\", \"recuperateur\", \"replanter\", \"replanter\", \"replanter\", \"saison\", \"saison\", \"saison\", \"saison\", \"saison\", \"serviette\", \"sobriete\", \"sobriete\", \"sobriete\", \"tasse\", \"tasse\", \"toit\", \"toit\", \"toit\", \"train\", \"train\", \"train\", \"train\", \"train\", \"train\", \"trajet\", \"trajet\", \"trajet\", \"trajet\", \"trajet\", \"trajet\", \"transaction\", \"transaction\", \"transport_commun\", \"transport_commun\", \"transport_commun\", \"transport_commun\", \"transport_commun\", \"traverser\", \"traverser\", \"vegetaliser\", \"vegetaliser\", \"velo\", \"velo\", \"velo\", \"velo\", \"verre\", \"verre\", \"verre\", \"verre\", \"viande\", \"viande\", \"viande\", \"viande\", \"viande\", \"viande\"]}, \"R\": 10, \"lambda.step\": 1, \"plot.opts\": {\"xlab\": \"PC1\", \"ylab\": \"PC2\"}, \"topic.order\": [6, 4, 2, 1, 5, 3]};\n",
       "\n",
       "function LDAvis_load_lib(url, callback){\n",
       "  var s = document.createElement('script');\n",
       "  s.src = url;\n",
       "  s.async = true;\n",
       "  s.onreadystatechange = s.onload = callback;\n",
       "  s.onerror = function(){console.warn(\"failed to load library \" + url);};\n",
       "  document.getElementsByTagName(\"head\")[0].appendChild(s);\n",
       "}\n",
       "\n",
       "if(typeof(LDAvis) !== \"undefined\"){\n",
       "   // already loaded: just create the visualization\n",
       "   !function(LDAvis){\n",
       "       new LDAvis(\"#\" + \"ldavis_el1234424416379263207230910244\", ldavis_el1234424416379263207230910244_data);\n",
       "   }(LDAvis);\n",
       "}else if(typeof define === \"function\" && define.amd){\n",
       "   // require.js is available: use it to load d3/LDAvis\n",
       "   require.config({paths: {d3: \"https://d3js.org/d3.v5\"}});\n",
       "   require([\"d3\"], function(d3){\n",
       "      window.d3 = d3;\n",
       "      LDAvis_load_lib(\"https://cdn.jsdelivr.net/gh/bmabey/pyLDAvis@3.3.1/pyLDAvis/js/ldavis.v3.0.0.js\", function(){\n",
       "        new LDAvis(\"#\" + \"ldavis_el1234424416379263207230910244\", ldavis_el1234424416379263207230910244_data);\n",
       "      });\n",
       "    });\n",
       "}else{\n",
       "    // require.js not available: dynamically load d3 & LDAvis\n",
       "    LDAvis_load_lib(\"https://d3js.org/d3.v5.js\", function(){\n",
       "         LDAvis_load_lib(\"https://cdn.jsdelivr.net/gh/bmabey/pyLDAvis@3.3.1/pyLDAvis/js/ldavis.v3.0.0.js\", function(){\n",
       "                 new LDAvis(\"#\" + \"ldavis_el1234424416379263207230910244\", ldavis_el1234424416379263207230910244_data);\n",
       "            })\n",
       "         });\n",
       "}\n",
       "</script>"
      ],
      "text/plain": [
       "<IPython.core.display.HTML object>"
      ]
     },
     "execution_count": 17,
     "metadata": {},
     "output_type": "execute_result"
    }
   ],
   "source": [
    "pyLDAvis.save_html(visualisation, \"data/LDAvis/GloVe.html\")\n",
    "pyLDAvis.save_json(visualisation, \"data/LDAvis/GloVe.json\")\n",
    "pyLDAvis.display(visualisation)"
   ]
  }
 ],
 "metadata": {
  "interpreter": {
   "hash": "5b30fa72fb85a99ca85a46e451030dfd87e2e54de7bf1c3c1af71cbda6f4de60"
  },
  "kernelspec": {
   "display_name": "Python 3.10.4 64-bit",
   "language": "python",
   "name": "python3"
  },
  "language_info": {
   "codemirror_mode": {
    "name": "ipython",
    "version": 3
   },
   "file_extension": ".py",
   "mimetype": "text/x-python",
   "name": "python",
   "nbconvert_exporter": "python",
   "pygments_lexer": "ipython3",
   "version": "3.10.0"
  },
  "orig_nbformat": 4
 },
 "nbformat": 4,
 "nbformat_minor": 2
}
