{
 "cells": [
  {
   "cell_type": "code",
   "execution_count": 1,
   "metadata": {},
   "outputs": [
    {
     "name": "stdout",
     "output_type": "stream",
     "text": [
      "d:\\users\\atero\\Github\\projet-statistique-2022\n"
     ]
    },
    {
     "name": "stderr",
     "output_type": "stream",
     "text": [
      "C:\\Users\\atero\\AppData\\Local\\Programs\\Python\\Python310\\lib\\site-packages\\scipy\\sparse\\sparsetools.py:21: DeprecationWarning: `scipy.sparse.sparsetools` is deprecated!\n",
      "scipy.sparse.sparsetools is a private module for scipy.sparse, and should not be used.\n",
      "  _deprecated()\n"
     ]
    }
   ],
   "source": [
    "%cd \"..\"\n",
    "import pyLDAvis\n",
    "import json\n",
    "import pandas as pd\n",
    "import doc_embedding.moyenne as moyenne\n",
    "from gensim import models\n",
    "from sklearn.cluster import k_means"
   ]
  },
  {
   "cell_type": "markdown",
   "metadata": {},
   "source": [
    "Chargement des documents"
   ]
  },
  {
   "cell_type": "code",
   "execution_count": 2,
   "metadata": {},
   "outputs": [
    {
     "name": "stdout",
     "output_type": "stream",
     "text": [
      "Nombre de documents : 9501\n"
     ]
    }
   ],
   "source": [
    "with open('data/docs.json', encoding = \"utf8\") as f:\n",
    "    docs: list[str] = json.load(f)\n",
    "print(f\"Nombre de documents : {len(docs)}\")"
   ]
  },
  {
   "cell_type": "code",
   "execution_count": 3,
   "metadata": {},
   "outputs": [
    {
     "name": "stdout",
     "output_type": "stream",
     "text": [
      "Taille du vocabulaire : 7231\n"
     ]
    }
   ],
   "source": [
    "with open('data/liste_lemmes.txt') as f:\n",
    "    vocabulaire = f.readlines()\n",
    "\n",
    "# Suppression des retours chariots sur chaque ligne\n",
    "for i in range(len(vocabulaire)):\n",
    "    vocabulaire[i] = vocabulaire[i].replace('\\n', '')\n",
    "\n",
    "print(f\"Taille du vocabulaire : {len(vocabulaire)}\")"
   ]
  },
  {
   "cell_type": "markdown",
   "metadata": {},
   "source": [
    "Calcul du nombre d'apparition de chaque mot, on conserve seulement ceux présents un certain nombre de fois"
   ]
  },
  {
   "cell_type": "code",
   "execution_count": 4,
   "metadata": {},
   "outputs": [],
   "source": [
    "# Nombre de fois où chaque mot apparaît\n",
    "term_frequency_corpus: dict = {mot: 0 for mot in vocabulaire}\n",
    "for doc in docs:\n",
    "    for mot in doc:\n",
    "        term_frequency_corpus[mot] += 1\n",
    "\n",
    "term_freq_min: int = 15\n",
    "vocabulaireMin: list = [mot for mot in vocabulaire if term_frequency_corpus[mot] >= term_freq_min]\n",
    "term_frequency_corpus_min = {mot: term_frequency_corpus[mot] for mot in vocabulaireMin}"
   ]
  },
  {
   "cell_type": "markdown",
   "metadata": {},
   "source": [
    "Chargement des valeurs génériques à toutes les représentations de modèles"
   ]
  },
  {
   "cell_type": "code",
   "execution_count": 5,
   "metadata": {},
   "outputs": [],
   "source": [
    "args_pyLDA = {'doc_lengths': [len(doc) for doc in docs], 'vocab': vocabulaireMin, 'term_frequency': list(term_frequency_corpus_min.values()), 'n_jobs': -1}"
   ]
  },
  {
   "cell_type": "markdown",
   "metadata": {},
   "source": [
    "# Modèle CBOW"
   ]
  },
  {
   "cell_type": "markdown",
   "metadata": {},
   "source": [
    "Chargement de modèle et de labels clusters"
   ]
  },
  {
   "cell_type": "code",
   "execution_count": 6,
   "metadata": {},
   "outputs": [],
   "source": [
    "w2vec: models.Word2Vec = models.Word2Vec.load(\"./data/w2vec.bin\")\n",
    "ev = moyenne.word_emb_vers_doc_emb_moyenne(docs, w2vec.wv)"
   ]
  },
  {
   "cell_type": "code",
   "execution_count": 7,
   "metadata": {},
   "outputs": [],
   "source": [
    "res = k_means(ev, n_clusters = 4)"
   ]
  },
  {
   "cell_type": "code",
   "execution_count": 8,
   "metadata": {},
   "outputs": [],
   "source": [
    "clustersDocs: list[int] = res[1]\n",
    "nomsClusters = list(set(clustersDocs))\n",
    "K: int = len(nomsClusters)"
   ]
  },
  {
   "cell_type": "markdown",
   "metadata": {},
   "source": [
    "Calcul des probabilités empiriques d'appartenance des mots aux divers clusters"
   ]
  },
  {
   "cell_type": "code",
   "execution_count": 9,
   "metadata": {},
   "outputs": [],
   "source": [
    "# Probabilité que chaque mot appartienne à un cluster / topic\n",
    "term_frequency_topics: pd.DataFrame = pd.DataFrame(columns = vocabulaireMin, index = nomsClusters, dtype = float)\n",
    "term_frequency_topics.loc[:,:] = 0\n",
    "\n",
    "for i, doc in enumerate(docs):\n",
    "    clusterDoc: int = clustersDocs[i]\n",
    "    for mot in doc:\n",
    "        if mot in vocabulaireMin:\n",
    "            term_frequency_topics.loc[clusterDoc, mot] += 1 / term_frequency_corpus[mot]\n"
   ]
  },
  {
   "cell_type": "markdown",
   "metadata": {},
   "source": [
    "Probabilité d'appartenance d'un document à un cluster. Dans notre cadre l'appartenance est certaine (probabilité de 0 ou de 1)"
   ]
  },
  {
   "cell_type": "code",
   "execution_count": 10,
   "metadata": {},
   "outputs": [],
   "source": [
    "# Probabilité qu'un document appartienne à un cluster / topic (soit 0 soit 1 pour notre cas)\n",
    "topic_docs_matrice: pd.DataFrame = pd.DataFrame(columns = nomsClusters, index = range(len(docs)), dtype = float)\n",
    "topic_docs_matrice.loc[:,:] = 0\n",
    "\n",
    "for i in range(len(docs)):\n",
    "    topic_docs_matrice.loc[i,clustersDocs[i]] = 1"
   ]
  },
  {
   "cell_type": "code",
   "execution_count": 11,
   "metadata": {},
   "outputs": [
    {
     "name": "stderr",
     "output_type": "stream",
     "text": [
      "C:\\Users\\atero\\AppData\\Local\\Programs\\Python\\Python310\\lib\\site-packages\\pyLDAvis\\_prepare.py:247: FutureWarning: In a future version of pandas all arguments of DataFrame.drop except for the argument 'labels' will be keyword-only\n",
      "  by='saliency', ascending=False).head(R).drop('saliency', 1)\n"
     ]
    }
   ],
   "source": [
    "visualisation = pyLDAvis.prepare(topic_term_dists = term_frequency_topics.to_numpy(), doc_topic_dists = topic_docs_matrice.to_numpy(), **args_pyLDA)\n",
    "pyLDAvis.save_html(visualisation, \"data/LDAvis/CBOW.html\")"
   ]
  },
  {
   "cell_type": "code",
   "execution_count": 12,
   "metadata": {},
   "outputs": [
    {
     "data": {
      "text/html": [
       "\n",
       "<link rel=\"stylesheet\" type=\"text/css\" href=\"https://cdn.jsdelivr.net/gh/bmabey/pyLDAvis@3.3.1/pyLDAvis/js/ldavis.v1.0.0.css\">\n",
       "\n",
       "\n",
       "<div id=\"ldavis_el2365215586265495686093126626\"></div>\n",
       "<script type=\"text/javascript\">\n",
       "\n",
       "var ldavis_el2365215586265495686093126626_data = {\"mdsDat\": {\"x\": [0.09300452180174605, 0.15883980913133702, -0.00473377507448948, -0.24711055585859357], \"y\": [0.008270811697998075, -0.0050801179373366374, -0.0030974585506746335, -9.323520998581346e-05], \"topics\": [1, 2, 3, 4], \"cluster\": [1, 1, 1, 1], \"Freq\": [39.56513815485119, 27.436109514530443, 25.592642956275498, 7.40610937434287]}, \"tinfo\": {\"Term\": [\"restreindre\", \"retrouver\", \"feuille\", \"atelier\", \"affichage\", \"securite\", \"lien\", \"eolien\", \"allocation\", \"gare\", \"urgence\", \"priveer\", \"accord\", \"date\", \"noel\", \"faune\", \"trottoir\", \"compenser\", \"consigne\", \"carte\", \"isoler\", \"terrasse\", \"risque\", \"energivore\", \"bouteille\", \"nettoyage\", \"tourner\", \"croissance\", \"vide\", \"reguler\", \"securite\", \"atelier\", \"gare\", \"compenser\", \"nettoyage\", \"terrasse\", \"ramassage\", \"risque\", \"rare\", \"couvert\", \"renovation\", \"billet\", \"reserve\", \"traitement\", \"lien\", \"eolien\", \"borne\", \"affichage\", \"frais\", \"depot\", \"mois\", \"urgence\", \"professionnel\", \"changement\", \"verts\", \"source\", \"bonus\", \"financierement\", \"agricole\", \"gratuite\", \"sachet\", \"argent\", \"interdir\", \"date\", \"paysan\", \"grace\", \"restreindre\", \"feuille\", \"noel\", \"energivore\", \"fleur\", \"tourner\", \"accepter\", \"retrouver\", \"demain\", \"isoler\", \"croissance\", \"carte\", \"ticket\", \"vide\", \"elu\", \"inscrire\", \"reguler\", \"boire\", \"conserver\", \"technique\", \"decision\", \"navire\", \"peche\", \"materiel\", \"lycee\", \"contenir\", \"distribuer\", \"methode\", \"destruction\", \"medicament\", \"controler\", \"charbon\", \"allocation\", \"feu\", \"expliquer\", \"saison\", \"panneau\", \"maternelle\", \"publicitaire\", \"poisson\", \"maximum\", \"recyclable\", \"legume\", \"local\", \"fruit\", \"potable\", \"verre\", \"habitude\", \"transport\", \"intensif\", \"lumineux\", \"suremballage\", \"vrac\", \"entree\", \"severement\", \"toit\", \"consigne\", \"deplacement\", \"compost\", \"solaire\", \"consignees\", \"responsable\", \"consommer\", \"privilegier\", \"suv\", \"sac\", \"manger\", \"marchandise\", \"promouvoir\", \"echelle\", \"service\", \"marque\", \"fortement\", \"commercant\", \"consigne\", \"bouteille\", \"verre\", \"consignees\", \"emballage\", \"plastique\", \"remettre\", \"unique\", \"consommer\", \"recyclable\", \"vrac\", \"saison\", \"transport_commun\", \"reduire\", \"production\", \"payer\", \"contenant\", \"utilisation\", \"boire\", \"fonction\", \"fruit\", \"emballe\", \"local\", \"voiture\", \"polluant\", \"usage\", \"revenir\", \"avion\", \"train\", \"gratuit\"], \"Freq\": [20636.0, 22455.0, 21235.0, 25506.0, 24705.0, 26518.0, 25339.0, 25339.0, 23416.0, 26426.0, 25194.0, 23608.0, 23608.0, 24978.0, 20750.0, 24290.0, 24437.0, 24963.0, 14184.0, 22264.0, 22038.0, 25977.0, 25876.0, 20461.0, 15433.0, 25988.0, 20135.0, 22078.0, 22381.0, 22533.0, 22931.1875, 21951.22222222223, 22578.400000000005, 20696.866666666665, 21449.480000000003, 21167.25, 20939.64516129031, 20795.8947368421, 20696.866666666665, 20383.277777777785, 20029.225806451603, 18815.33333333334, 18815.333333333332, 18815.33333333334, 18815.333333333336, 18815.333333333332, 17639.375, 18261.941176470587, 17960.090909090908, 17639.375, 18344.95, 18344.95, 17639.375, 17471.380952380954, 17247.388888888894, 17104.848484848477, 17825.052631578947, 17135.39285714285, 16724.74074074075, 16933.8, 17639.375, 17065.06976744186, 17560.977777777774, 17639.375, 17247.388888888894, 17247.388888888894, 15656.8, 14678.250000000002, 14301.88461538461, 13047.333333333332, 12721.15, 12360.631578947368, 12454.272727272728, 13047.333333333332, 11742.6, 12663.588235294119, 12394.966666666665, 12454.272727272728, 11512.35294117647, 11960.055555555558, 10764.05, 11742.6, 11742.6, 9133.133333333333, 10437.866666666667, 10872.777777777781, 10675.09090909091, 10437.866666666667, 11008.6875, 11008.6875, 10872.777777777781, 10872.777777777781, 10361.117647058823, 10361.117647058823, 10361.117647058823, 10484.464285714283, 10872.777777777777, 10764.05, 10872.777777777781, 10437.866666666667, 10437.866666666667, 10051.056179775293, 9888.666666666677, 9664.94117647059, 9562.666666666672, 9127.999999999996, 8671.600000000004, 7846.877192982466, 8080.52459016394, 8039.3394495413, 8007.01754385966, 7937.391304347823, 6690.680628272256, 7824.000000000003, 8425.846153846143, 8397.760000000002, 8941.71428571429, 8113.777777777773, 7396.8275862069, 7987.0, 8519.466666666665, 8354.440677966104, 5797.513513513507, 7899.230769230775, 8611.32075471698, 8130.823529411776, 6389.599999999999, 8354.440677966093, 7108.530973451337, 7762.393700787392, 8298.181818181814, 8225.230769230773, 7655.741935483866, 8233.098039215682, 8258.666666666673, 8113.77777777778, 7875.137254901965, 8215.199999999999, 7950.193548387092, 7937.391304347825, 2355.9324324324293, 2167.924302788843, 1908.5183246073314, 1849.05, 1552.407744874714, 1553.8235294117605, 1431.841121495327, 1390.2631578947362, 1355.814159292037, 1297.578947368421, 1275.2068965517235, 1127.8314606741574, 1192.9354838709671, 1168.6636363636355, 1164.5322580645156, 1137.876923076923, 1120.6363636363633, 1147.1657142857155, 1056.6000000000001, 1132.071428571429, 1065.8684210526314, 1093.034482758621, 1033.9816513761461, 1046.4728434504775, 1056.6000000000006, 1049.602649006623, 1037.7321428571424, 1065.120967741935, 1084.9017857142853, 1083.6923076923078], \"Total\": [20636.0, 22455.0, 21235.0, 25506.0, 24705.0, 26518.0, 25339.0, 25339.0, 23416.0, 26426.0, 25194.0, 23608.0, 23608.0, 24978.0, 20750.0, 24290.0, 24437.0, 24963.0, 14184.0, 22264.0, 22038.0, 25977.0, 25876.0, 20461.0, 15433.0, 25988.0, 20135.0, 22078.0, 22381.0, 22533.0, 26518.5625, 25506.555555555562, 26426.850000000006, 24963.266666666666, 25988.720000000005, 25977.8125, 25820.548387096762, 25876.947368421046, 25828.13333333333, 25673.555555555562, 25456.612903225796, 25119.83333333334, 25251.333333333332, 25265.94444444445, 25339.0, 25339.0, 23756.75, 24705.235294117647, 24307.818181818184, 24003.3125, 25063.3, 25194.8, 24285.4375, 24058.761904761905, 23772.333333333336, 23709.606060606056, 24758.57894736842, 23891.03571428571, 23331.283950617293, 23719.05, 24731.9375, 23923.81395348837, 24808.355555555554, 24978.5, 24566.111111111117, 24712.222222222226, 20636.93333333333, 21235.65, 20750.34615384615, 20461.6, 20455.5, 20135.684210526317, 20768.36363636364, 22455.0, 20373.933333333334, 22038.35294117647, 22078.93333333333, 22264.136363636364, 21197.882352941175, 22381.94444444445, 20173.699999999997, 22367.333333333332, 22533.45, 17604.0, 20286.266666666666, 21201.444444444445, 21101.863636363636, 20950.733333333334, 22110.375, 22110.375, 22308.888888888894, 22308.888888888894, 21297.352941176472, 21297.352941176472, 21883.647058823528, 22164.14285714285, 23047.185185185186, 22966.05, 23416.33333333334, 22279.666666666664, 22944.13333333333, 17352.17977528091, 19906.44166666668, 21419.529411764706, 21426.000000000004, 20566.214285714283, 19577.375000000007, 17925.07894736843, 18706.524590163943, 18656.149847094817, 18616.105263157908, 18583.347826086952, 15739.366492146608, 18480.09523809524, 19909.33566433565, 19847.14, 21168.87755102041, 19593.592592592588, 17901.543103448275, 19372.6875, 20687.73333333333, 20397.96610169492, 14184.749999999989, 19437.00961538462, 21243.62264150943, 20070.53781512607, 15840.349999999999, 20739.01694915253, 17650.84070796462, 19282.44881889762, 20820.54545454545, 20859.97802197803, 19360.064516129023, 21080.627450980384, 21246.833333333347, 21557.444444444453, 20402.137254901965, 22872.649999999998, 21795.693548387084, 22008.65217391304, 14184.749999999989, 15433.262948207159, 15739.366492146608, 15840.349999999999, 17044.41913439634, 17445.7873303167, 18103.672897196262, 18014.105263157886, 17650.84070796462, 17925.07894736843, 17901.543103448275, 17352.17977528091, 18522.413978494613, 18610.378787878803, 18874.231182795687, 18618.015384615384, 18381.818181818173, 18945.240000000023, 17604.0, 19470.77142857143, 18616.105263157908, 19190.206896551725, 18656.149847094817, 18907.089456868965, 19102.687499999993, 19082.033112582783, 18867.51785714286, 19465.169354838697, 19922.178571428583, 20279.320512820523], \"Category\": [\"Default\", \"Default\", \"Default\", \"Default\", \"Default\", \"Default\", \"Default\", \"Default\", \"Default\", \"Default\", \"Default\", \"Default\", \"Default\", \"Default\", \"Default\", \"Default\", \"Default\", \"Default\", \"Default\", \"Default\", \"Default\", \"Default\", \"Default\", \"Default\", \"Default\", \"Default\", \"Default\", \"Default\", \"Default\", \"Default\", \"Topic1\", \"Topic1\", \"Topic1\", \"Topic1\", \"Topic1\", \"Topic1\", \"Topic1\", \"Topic1\", \"Topic1\", \"Topic1\", \"Topic1\", \"Topic1\", \"Topic1\", \"Topic1\", \"Topic1\", \"Topic1\", \"Topic1\", \"Topic1\", \"Topic1\", \"Topic1\", \"Topic1\", \"Topic1\", \"Topic1\", \"Topic1\", \"Topic1\", \"Topic1\", \"Topic1\", \"Topic1\", \"Topic1\", \"Topic1\", \"Topic1\", \"Topic1\", \"Topic1\", \"Topic1\", \"Topic1\", \"Topic1\", \"Topic2\", \"Topic2\", \"Topic2\", \"Topic2\", \"Topic2\", \"Topic2\", \"Topic2\", \"Topic2\", \"Topic2\", \"Topic2\", \"Topic2\", \"Topic2\", \"Topic2\", \"Topic2\", \"Topic2\", \"Topic2\", \"Topic2\", \"Topic2\", \"Topic2\", \"Topic2\", \"Topic2\", \"Topic2\", \"Topic2\", \"Topic2\", \"Topic2\", \"Topic2\", \"Topic2\", \"Topic2\", \"Topic2\", \"Topic2\", \"Topic2\", \"Topic2\", \"Topic2\", \"Topic2\", \"Topic2\", \"Topic3\", \"Topic3\", \"Topic3\", \"Topic3\", \"Topic3\", \"Topic3\", \"Topic3\", \"Topic3\", \"Topic3\", \"Topic3\", \"Topic3\", \"Topic3\", \"Topic3\", \"Topic3\", \"Topic3\", \"Topic3\", \"Topic3\", \"Topic3\", \"Topic3\", \"Topic3\", \"Topic3\", \"Topic3\", \"Topic3\", \"Topic3\", \"Topic3\", \"Topic3\", \"Topic3\", \"Topic3\", \"Topic3\", \"Topic3\", \"Topic3\", \"Topic3\", \"Topic3\", \"Topic3\", \"Topic3\", \"Topic3\", \"Topic3\", \"Topic3\", \"Topic3\", \"Topic4\", \"Topic4\", \"Topic4\", \"Topic4\", \"Topic4\", \"Topic4\", \"Topic4\", \"Topic4\", \"Topic4\", \"Topic4\", \"Topic4\", \"Topic4\", \"Topic4\", \"Topic4\", \"Topic4\", \"Topic4\", \"Topic4\", \"Topic4\", \"Topic4\", \"Topic4\", \"Topic4\", \"Topic4\", \"Topic4\", \"Topic4\", \"Topic4\", \"Topic4\", \"Topic4\", \"Topic4\", \"Topic4\", \"Topic4\"], \"logprob\": [30.0, 29.0, 28.0, 27.0, 26.0, 25.0, 24.0, 23.0, 22.0, 21.0, 20.0, 19.0, 18.0, 17.0, 16.0, 15.0, 14.0, 13.0, 12.0, 11.0, 10.0, 9.0, 8.0, 7.0, 6.0, 5.0, 4.0, 3.0, 2.0, 1.0, -0.2076, -0.2513, -0.2231, -0.3102, -0.2744, -0.2877, -0.2985, -0.3054, -0.3102, -0.3254, -0.3429, -0.4055, -0.4055, -0.4055, -0.4055, -0.4055, -0.47, -0.4353, -0.452, -0.47, -0.4308, -0.4308, -0.47, -0.4796, -0.4925, -0.5008, -0.4595, -0.499, -0.5232, -0.5108, -0.47, -0.5031, -0.4745, -0.47, -0.4925, -0.4925, -0.2231, -0.2877, -0.3137, -0.4055, -0.4308, -0.4595, -0.452, -0.4055, -0.5108, -0.4353, -0.4568, -0.452, -0.5306, -0.4925, -0.5978, -0.5108, -0.5108, -0.7621, -0.6286, -0.5878, -0.6061, -0.6286, -0.5754, -0.5754, -0.5878, -0.5878, -0.636, -0.636, -0.636, -0.6242, -0.5878, -0.5978, -0.5878, -0.6286, -0.6286, -0.5968, -0.6131, -0.636, -0.6466, -0.6931, -0.7444, -0.8444, -0.815, -0.8201, -0.8242, -0.8329, -1.0038, -0.8473, -0.7732, -0.7765, -0.7138, -0.8109, -0.9034, -0.8267, -0.7621, -0.7817, -1.1471, -0.8377, -0.7514, -0.8088, -1.0498, -0.7817, -0.9432, -0.8552, -0.7885, -0.7973, -0.869, -0.7963, -0.7932, -0.8109, -0.8408, -0.7985, -0.8313, -0.8329, -0.8076, -0.8907, -1.0182, -1.0498, -1.2247, -1.2238, -1.3055, -1.335, -1.3601, -1.404, -1.4214, -1.5442, -1.4881, -1.5086, -1.5122, -1.5353, -1.5506, -1.5272, -1.6094, -1.5404, -1.6007, -1.5755, -1.6311, -1.6191, -1.6094, -1.6161, -1.6275, -1.6014, -1.583, -1.5841], \"loglift\": [30.0, 29.0, 28.0, 27.0, 26.0, 25.0, 24.0, 23.0, 22.0, 21.0, 20.0, 19.0, 18.0, 17.0, 16.0, 15.0, 14.0, 13.0, 12.0, 11.0, 10.0, 9.0, 8.0, 7.0, 6.0, 5.0, 4.0, 3.0, 2.0, 1.0, 6.4264, 6.4216, 6.4144, 6.3843, 6.3798, 6.367, 6.3622, 6.3532, 6.3503, 6.341, 6.332, 6.2828, 6.2776, 6.277, 6.2741, 6.2741, 6.274, 6.2696, 6.2691, 6.2637, 6.2597, 6.2545, 6.252, 6.2518, 6.2509, 6.2452, 6.2432, 6.2394, 6.2389, 6.2348, 6.2338, 6.2339, 6.2263, 6.2239, 6.2181, 6.2121, 6.6617, 6.5685, 6.5657, 6.4879, 6.4629, 6.4499, 6.4265, 6.3949, 6.3868, 6.3838, 6.3605, 6.3569, 6.3274, 6.3112, 6.3097, 6.2935, 6.2861, 6.2816, 6.2733, 6.27, 6.2564, 6.2411, 6.2405, 6.2405, 6.2191, 6.2191, 6.2173, 6.2173, 6.1902, 6.1893, 6.1866, 6.18, 6.1707, 6.1796, 6.1502, 6.4614, 6.3077, 6.2116, 6.2007, 6.1951, 6.1931, 6.1813, 6.168, 6.1656, 6.1637, 6.1567, 6.152, 6.1479, 6.1475, 6.1473, 6.1456, 6.1258, 6.1236, 6.1214, 6.1202, 6.1148, 6.1127, 6.107, 6.1044, 6.1038, 6.0995, 6.0982, 6.0979, 6.0975, 6.0875, 6.0768, 6.0796, 6.0672, 6.0625, 6.0302, 6.0555, 5.9834, 5.9989, 5.9876, 6.4522, 6.2846, 6.1376, 6.0995, 5.8514, 5.829, 5.7102, 5.6857, 5.681, 5.6217, 5.6056, 5.514, 5.5048, 5.4795, 5.4619, 5.4524, 5.4499, 5.4431, 5.4343, 5.4025, 5.3872, 5.382, 5.3546, 5.3533, 5.3526, 5.3471, 5.347, 5.3419, 5.3371, 5.3182]}, \"token.table\": {\"Topic\": [1, 2, 3, 4, 1, 2, 1, 3, 1, 2, 3, 4, 1, 2, 1, 2, 3, 4, 1, 2, 4, 1, 2, 3, 4, 1, 2, 3, 1, 2, 3, 4, 1, 2, 3, 1, 2, 3, 4, 1, 2, 3, 4, 1, 2, 3, 1, 2, 3, 4, 1, 2, 3, 1, 2, 3, 1, 2, 4, 1, 2, 3, 4, 1, 2, 3, 1, 2, 3, 4, 1, 2, 3, 4, 1, 2, 3, 4, 1, 2, 3, 4, 1, 2, 3, 1, 2, 3, 1, 2, 3, 1, 2, 3, 1, 2, 1, 2, 3, 4, 1, 2, 3, 1, 2, 3, 4, 1, 2, 3, 4, 1, 2, 3, 1, 2, 3, 1, 2, 3, 4, 1, 2, 3, 4, 1, 2, 3, 4, 1, 2, 3, 4, 1, 2, 3, 1, 2, 3, 4, 1, 2, 1, 2, 3, 1, 2, 1, 2, 3, 1, 2, 3, 1, 2, 3, 4, 1, 2, 3, 4, 1, 2, 3, 4, 1, 2, 3, 4, 1, 2, 3, 4, 1, 2, 3, 4, 1, 2, 3, 1, 2, 3, 1, 2, 3, 4, 1, 2, 3, 4, 1, 2, 3, 4, 1, 2, 3, 1, 2, 3, 4, 1, 2, 3, 1, 2, 3, 1, 2, 3, 4, 1, 2, 1, 2, 3, 4, 1, 2, 3, 4, 1, 2, 3, 1, 2, 3, 4, 1, 2, 3, 4, 1, 2, 3, 1, 2, 3, 1, 2, 3, 1, 2, 3, 4, 1, 2, 3, 1, 2, 3, 1, 2, 3, 1, 2, 3, 1, 2, 3, 1, 2, 3, 1, 2, 3, 4, 1, 2, 3, 4, 1, 2, 3, 1, 2, 3, 1, 2, 3, 4, 1, 2, 3, 4, 1, 2, 3, 4, 1, 2, 3, 4, 1, 2, 1, 2, 3, 4, 1, 2, 3, 4, 1, 2, 3, 4, 1, 2, 3, 4, 1, 2, 3, 4, 1, 2, 3, 1, 2, 3, 1, 2, 3, 4, 1, 2, 3, 4, 1, 2, 3, 1, 2, 3, 4, 1, 2, 3, 1, 2, 3, 1, 2, 3, 4, 1, 2, 3, 1, 2, 1, 2, 3, 4, 1, 2, 3, 1, 2, 3, 4, 1, 2, 3, 1, 2, 3, 4, 1, 2, 3, 1, 2, 3, 4, 1, 2, 3, 1, 2, 3, 4, 1, 2, 3, 4, 1, 2, 3, 4, 1, 2, 3, 4, 1, 2, 3, 1, 2, 3, 1, 2, 3, 4, 1, 2, 3, 4, 1, 2, 3, 1, 2, 3, 4, 1, 2, 3, 1, 2, 3, 4, 1, 2, 3, 4, 1, 2, 1, 2, 3, 4, 1, 2, 1, 2, 3, 4, 1, 2, 3, 4, 1, 2, 3, 4, 1, 2, 3, 4, 1, 2, 3, 1, 2, 3, 4, 1, 2, 3, 4], \"Freq\": [0.3088351163482919, 0.5996620734333689, 0.07992926303993836, 0.011556038029870605, 0.5578899214692952, 0.4421270215091111, 0.7391955503596522, 0.2607949255813843, 0.7168486755979623, 0.08285013392710679, 0.18353040531602238, 0.016758614777805873, 0.5356944582841036, 0.464334011872055, 0.7133059984991116, 0.15219145271229212, 0.12422768400465042, 0.010282641408191118, 0.8606022852512859, 0.12788869092477312, 0.011526448538284273, 0.5378838380051054, 0.09730200469738964, 0.31009234443159656, 0.05471311246183737, 0.7490097466145607, 0.12985754947949493, 0.12113933876949817, 0.21375823676437172, 0.5188025448761645, 0.20739604635310158, 0.06004317200636219, 0.7199524673000108, 0.12480522434541563, 0.15521892464706546, 0.7424837151546403, 0.0514801056541825, 0.1921138202826565, 0.013890788933671483, 0.4444296726504483, 0.07581028094489349, 0.3393320011182968, 0.14047580263976847, 0.4033392471790139, 0.5593749425798931, 0.03727968542968614, 0.7261803441573608, 0.15495394213374397, 0.10840125565579514, 0.010474354457538488, 0.4915516599502309, 0.4686918298967389, 0.039754333026358474, 0.44605184917394153, 0.1933330567622615, 0.36063089812504573, 0.8290982216536832, 0.15679037732775358, 0.014100718655945135, 0.47628411456668024, 0.10431365861630396, 0.4053451779535168, 0.014074812241098774, 0.18549494896383104, 0.514535284954682, 0.2999566208995248, 0.32267047357197015, 0.10257494844815743, 0.408748832372795, 0.1660938684150233, 0.356368388324753, 0.1235452499471287, 0.4034001773950702, 0.11672721877988808, 0.4174305418027666, 0.10305458137068844, 0.40275701977142614, 0.0768235361949717, 0.4187289812067262, 0.12904055390702282, 0.3912561819980219, 0.060984174085064326, 0.4217153102898694, 0.48738420161370644, 0.09090546867217848, 0.4988895566904611, 0.47177127760439935, 0.029331130659484405, 0.7939297677679582, 0.12705680726385124, 0.07899178575447281, 0.38348772887579113, 0.5613948741485096, 0.05512041644523891, 0.706167303881338, 0.2938126789038573, 0.36475451328081754, 0.5058794893169711, 0.11795166734519355, 0.011373403038508017, 0.1846967857621994, 0.5763737324489789, 0.23893275394376473, 0.41884014882393755, 0.13556612113389946, 0.4063896739418109, 0.03920356140570451, 0.7348569077705421, 0.20384686488583606, 0.04753510583174718, 0.013748102475439589, 0.3793243410335948, 0.47345855890243055, 0.1472332281424217, 0.31182278935520846, 0.4864923837538495, 0.20171520901520487, 0.509151259941139, 0.10089322069715537, 0.3763896978099856, 0.013637980176994795, 0.3497623143003019, 0.5335659794683177, 0.09051388689234004, 0.02617269018573688, 0.4111609756097565, 0.10983067156698975, 0.3879275643167394, 0.09105619779485474, 0.5071336673159442, 0.14064465352298947, 0.2952547635647493, 0.0569561342351343, 0.18390546193846036, 0.6376334206513665, 0.17843179419009267, 0.3642241170720376, 0.18944196565396515, 0.4122814658523759, 0.034068582379187196, 0.7425312758988121, 0.2574687241011879, 0.4920211993189254, 0.4549311080247093, 0.053041881439554635, 0.6337516327149293, 0.36623713944601866, 0.4222684360927004, 0.46849893026526435, 0.1092475949670103, 0.2658265699425259, 0.6911961724741178, 0.04299373930159896, 0.7172146157629358, 0.029257835799141645, 0.24561513657991868, 0.007910916975733578, 0.27596489941580504, 0.6218865341839603, 0.0892669453203295, 0.012906064383662095, 0.5590944375232033, 0.11489015770158054, 0.26788871818124455, 0.05813842580160446, 0.5221214904098401, 0.10139617696008318, 0.36475095331794627, 0.011745439503068458, 0.7388569334220938, 0.18298639420164106, 0.06829078560582827, 0.009873366593613726, 0.4388673078771632, 0.07375334317201286, 0.43011144849111943, 0.05726224604615128, 0.854358351449378, 0.11109912834863025, 0.034548196247377184, 0.6979137628703744, 0.21997212355559548, 0.08206465536621553, 0.642329213731052, 0.06188570268942655, 0.24236512248488565, 0.05345346750226165, 0.7139409040412664, 0.08250752032648863, 0.1924191736178304, 0.01113029400418651, 0.3272710406563561, 0.201730562097701, 0.4233744414840162, 0.04761880221190366, 0.420613394533695, 0.5250067062084588, 0.054409704628774105, 0.4266105846988533, 0.11835458408617061, 0.42313401326337197, 0.03194414913181446, 0.7078663461056132, 0.21037267013980954, 0.08174665166574703, 0.37666154191089335, 0.5746345942367851, 0.04873322443227315, 0.4204415396398905, 0.09435210647989914, 0.4319883130108017, 0.0532434549880904, 0.7425312758988121, 0.2574687241011879, 0.4302602662279744, 0.08340413283302954, 0.4309034857613911, 0.05542408312940395, 0.4353561013231785, 0.13208069219830806, 0.42241257140102667, 0.010203658624761995, 0.4217153102898694, 0.48738420161370644, 0.09090546867217848, 0.329182787314092, 0.2445756312462303, 0.39545322762854046, 0.030785021377561405, 0.49875175795638055, 0.09103144602608848, 0.39054814754183764, 0.019638884134862235, 0.5552482987323288, 0.08556070241095808, 0.3591625806366993, 0.39890775258221534, 0.49791104854621415, 0.10320946614428747, 0.38754352817110277, 0.16125470983050103, 0.4512237320532115, 0.4324890338975474, 0.08744788307931985, 0.4429603049438445, 0.03708362331517886, 0.40930976029494237, 0.4730162617870564, 0.11766753250101518, 0.31182278935520846, 0.4864923837538495, 0.20171520901520487, 0.7319467109279305, 0.19522568855657477, 0.07285552979855008, 0.26944164245642954, 0.4982164506572562, 0.23235463515994667, 0.8253196001957771, 0.09038536719007322, 0.08430580651913598, 0.20924952132401875, 0.6892415140433248, 0.10149228279787735, 0.42533970368888097, 0.04918006022338662, 0.49677386675083784, 0.028734417209169708, 0.44311919555170304, 0.19405935194282461, 0.30169703289865646, 0.061123593277313704, 0.7020647233089846, 0.13278454962798794, 0.1651462041204007, 0.39890775258221534, 0.49791104854621415, 0.10320946614428747, 0.4684798596505436, 0.1015144783361205, 0.34094190691318166, 0.08907594541746541, 0.3430869630149309, 0.2039266897512217, 0.4438347219955059, 0.009189829366471364, 0.48940757681347213, 0.10883285401595984, 0.34644339965253595, 0.055332528472760725, 0.3631746046600861, 0.1602509960998276, 0.42710280592489314, 0.04945287623094075, 0.5578899214692952, 0.4421270215091111, 0.426398123870143, 0.12788832078129075, 0.40254223272683654, 0.04314804658963257, 0.498457389277695, 0.12265400256992602, 0.31720497338494474, 0.061724368463915255, 0.7263200426181328, 0.12591908216600997, 0.14094866522375807, 0.006794195080899819, 0.42698127564107563, 0.17546144131282299, 0.3887167499470507, 0.00889544324252241, 0.4390926911229347, 0.10874638289928124, 0.4463268925604405, 0.005880705684682161, 0.8109820010819094, 0.09779033203112804, 0.091245157332807, 0.8013354946285963, 0.1515401809912705, 0.047119162050683755, 0.44195063370490895, 0.047865897970059565, 0.4377665517145191, 0.07241251231367986, 0.46871695087052234, 0.11472093203124673, 0.35372735155114626, 0.06281441196464985, 0.4383705113952812, 0.5211363550632504, 0.04051754169911842, 0.49536909172662336, 0.1616798986935578, 0.2638691069556289, 0.07909997093583013, 0.7867896674290858, 0.07440109991066397, 0.13878515627474963, 0.745109169152784, 0.2066821553977348, 0.04819547482641181, 0.4497802389992827, 0.1279713501612453, 0.4028156214193833, 0.01943197216088239, 0.18234298377665933, 0.7586883064021142, 0.05897194027536392, 0.4189712758851035, 0.5810287241148965, 0.4407574998982567, 0.17596379264817366, 0.32828907580204447, 0.05501518577373623, 0.8036496617595017, 0.15921507051592357, 0.03713730164218509, 0.4906524824338945, 0.09280930200215141, 0.39429571744199143, 0.022243551719523892, 0.7132073659817392, 0.14839112382521588, 0.13840403728984033, 0.29241283030205684, 0.06333498236144275, 0.57923558481789, 0.06500624213258181, 0.8647150463001152, 0.09223727719027003, 0.04302646495261574, 0.4475511504465602, 0.1410636525008433, 0.385988972704705, 0.02538949687124282, 0.2728670129803169, 0.31535595973137065, 0.4117899173745473, 0.5081079587371258, 0.049176559646356456, 0.40512118184855556, 0.037617327794325355, 0.7214375454521056, 0.12505479814472337, 0.1399854553262519, 0.013496639260138778, 0.45346456797101103, 0.09247921183606889, 0.41411496955731947, 0.03996204352518871, 0.49292656728930356, 0.08544444735532213, 0.3985486363993609, 0.023054151057085227, 0.29582890054660843, 0.5128424163972056, 0.1913548867215546, 0.8148107158753263, 0.14127440484066933, 0.04392209698179937, 0.3915957198832292, 0.543073114961539, 0.05066543827907338, 0.014671276820104119, 0.4221009073686309, 0.14633811945358458, 0.4095506364875194, 0.02196297404194502, 0.1475489965444955, 0.6138852730684984, 0.2385814134633983, 0.6071625127056883, 0.04387070404305321, 0.29454609991377145, 0.05446191520218848, 0.7446782779630903, 0.21515126861585748, 0.04013307328485642, 0.46591208046265714, 0.07559267799658247, 0.42321854139481985, 0.03525984050073149, 0.46694777527604625, 0.11359210535100027, 0.3550293178651035, 0.06440845137060043, 0.6496097226626838, 0.35035958711419835, 0.474128460738369, 0.1286769432140896, 0.3200269963887949, 0.077161756284549, 0.7281264387889564, 0.27188149935701017, 0.4701805068184176, 0.18336620523379885, 0.2914259695070464, 0.055025583165329746, 0.49373879665815734, 0.15940679558559281, 0.286351611275444, 0.060542912098236736, 0.3755551408596643, 0.07814799919766319, 0.42511240864354827, 0.12128823615312116, 0.7255072423124921, 0.0914929119284322, 0.17066057181317215, 0.012367317750326007, 0.4203388147688488, 0.5343592925845485, 0.04530437480608128, 0.45781768895451364, 0.12899923097967406, 0.3578551852433271, 0.05532316342957732, 0.42130446277266603, 0.09423768611740753, 0.41320460237727535, 0.07122291037326295], \"Term\": [\"accepter\", \"accepter\", \"accepter\", \"accepter\", \"accord\", \"accord\", \"affichage\", \"affichage\", \"agricole\", \"agricole\", \"agricole\", \"agricole\", \"allocation\", \"allocation\", \"argent\", \"argent\", \"argent\", \"argent\", \"atelier\", \"atelier\", \"atelier\", \"avion\", \"avion\", \"avion\", \"avion\", \"billet\", \"billet\", \"billet\", \"boire\", \"boire\", \"boire\", \"boire\", \"bonus\", \"bonus\", \"bonus\", \"borne\", \"borne\", \"borne\", \"borne\", \"bouteille\", \"bouteille\", \"bouteille\", \"bouteille\", \"carte\", \"carte\", \"carte\", \"changement\", \"changement\", \"changement\", \"changement\", \"charbon\", \"charbon\", \"charbon\", \"commercant\", \"commercant\", \"commercant\", \"compenser\", \"compenser\", \"compenser\", \"compost\", \"compost\", \"compost\", \"compost\", \"conserver\", \"conserver\", \"conserver\", \"consigne\", \"consigne\", \"consigne\", \"consigne\", \"consignees\", \"consignees\", \"consignees\", \"consignees\", \"consommer\", \"consommer\", \"consommer\", \"consommer\", \"contenant\", \"contenant\", \"contenant\", \"contenant\", \"contenir\", \"contenir\", \"contenir\", \"controler\", \"controler\", \"controler\", \"couvert\", \"couvert\", \"couvert\", \"croissance\", \"croissance\", \"croissance\", \"date\", \"date\", \"decision\", \"decision\", \"decision\", \"decision\", \"demain\", \"demain\", \"demain\", \"deplacement\", \"deplacement\", \"deplacement\", \"deplacement\", \"depot\", \"depot\", \"depot\", \"depot\", \"destruction\", \"destruction\", \"destruction\", \"distribuer\", \"distribuer\", \"distribuer\", \"echelle\", \"echelle\", \"echelle\", \"echelle\", \"elu\", \"elu\", \"elu\", \"elu\", \"emballage\", \"emballage\", \"emballage\", \"emballage\", \"emballe\", \"emballe\", \"emballe\", \"emballe\", \"energivore\", \"energivore\", \"energivore\", \"entree\", \"entree\", \"entree\", \"entree\", \"eolien\", \"eolien\", \"expliquer\", \"expliquer\", \"expliquer\", \"faune\", \"faune\", \"feu\", \"feu\", \"feu\", \"feuille\", \"feuille\", \"feuille\", \"financierement\", \"financierement\", \"financierement\", \"financierement\", \"fleur\", \"fleur\", \"fleur\", \"fleur\", \"fonction\", \"fonction\", \"fonction\", \"fonction\", \"fortement\", \"fortement\", \"fortement\", \"fortement\", \"frais\", \"frais\", \"frais\", \"frais\", \"fruit\", \"fruit\", \"fruit\", \"fruit\", \"gare\", \"gare\", \"gare\", \"grace\", \"grace\", \"grace\", \"gratuit\", \"gratuit\", \"gratuit\", \"gratuit\", \"gratuite\", \"gratuite\", \"gratuite\", \"gratuite\", \"habitude\", \"habitude\", \"habitude\", \"habitude\", \"inscrire\", \"inscrire\", \"inscrire\", \"intensif\", \"intensif\", \"intensif\", \"intensif\", \"interdir\", \"interdir\", \"interdir\", \"isoler\", \"isoler\", \"isoler\", \"legume\", \"legume\", \"legume\", \"legume\", \"lien\", \"lien\", \"local\", \"local\", \"local\", \"local\", \"lumineux\", \"lumineux\", \"lumineux\", \"lumineux\", \"lycee\", \"lycee\", \"lycee\", \"manger\", \"manger\", \"manger\", \"manger\", \"marchandise\", \"marchandise\", \"marchandise\", \"marchandise\", \"marque\", \"marque\", \"marque\", \"materiel\", \"materiel\", \"materiel\", \"maternelle\", \"maternelle\", \"maternelle\", \"maximum\", \"maximum\", \"maximum\", \"maximum\", \"medicament\", \"medicament\", \"medicament\", \"methode\", \"methode\", \"methode\", \"mois\", \"mois\", \"mois\", \"navire\", \"navire\", \"navire\", \"nettoyage\", \"nettoyage\", \"nettoyage\", \"noel\", \"noel\", \"noel\", \"panneau\", \"panneau\", \"panneau\", \"panneau\", \"payer\", \"payer\", \"payer\", \"payer\", \"paysan\", \"paysan\", \"paysan\", \"peche\", \"peche\", \"peche\", \"plastique\", \"plastique\", \"plastique\", \"plastique\", \"poisson\", \"poisson\", \"poisson\", \"poisson\", \"polluant\", \"polluant\", \"polluant\", \"polluant\", \"potable\", \"potable\", \"potable\", \"potable\", \"priveer\", \"priveer\", \"privilegier\", \"privilegier\", \"privilegier\", \"privilegier\", \"production\", \"production\", \"production\", \"production\", \"professionnel\", \"professionnel\", \"professionnel\", \"professionnel\", \"promouvoir\", \"promouvoir\", \"promouvoir\", \"promouvoir\", \"publicitaire\", \"publicitaire\", \"publicitaire\", \"publicitaire\", \"ramassage\", \"ramassage\", \"ramassage\", \"rare\", \"rare\", \"rare\", \"recyclable\", \"recyclable\", \"recyclable\", \"recyclable\", \"reduire\", \"reduire\", \"reduire\", \"reduire\", \"reguler\", \"reguler\", \"reguler\", \"remettre\", \"remettre\", \"remettre\", \"remettre\", \"renovation\", \"renovation\", \"renovation\", \"reserve\", \"reserve\", \"reserve\", \"responsable\", \"responsable\", \"responsable\", \"responsable\", \"restreindre\", \"restreindre\", \"restreindre\", \"retrouver\", \"retrouver\", \"revenir\", \"revenir\", \"revenir\", \"revenir\", \"risque\", \"risque\", \"risque\", \"sac\", \"sac\", \"sac\", \"sac\", \"sachet\", \"sachet\", \"sachet\", \"saison\", \"saison\", \"saison\", \"saison\", \"securite\", \"securite\", \"securite\", \"service\", \"service\", \"service\", \"service\", \"severement\", \"severement\", \"severement\", \"solaire\", \"solaire\", \"solaire\", \"solaire\", \"source\", \"source\", \"source\", \"source\", \"suremballage\", \"suremballage\", \"suremballage\", \"suremballage\", \"suv\", \"suv\", \"suv\", \"suv\", \"technique\", \"technique\", \"technique\", \"terrasse\", \"terrasse\", \"terrasse\", \"ticket\", \"ticket\", \"ticket\", \"ticket\", \"toit\", \"toit\", \"toit\", \"toit\", \"tourner\", \"tourner\", \"tourner\", \"train\", \"train\", \"train\", \"train\", \"traitement\", \"traitement\", \"traitement\", \"transport\", \"transport\", \"transport\", \"transport\", \"transport_commun\", \"transport_commun\", \"transport_commun\", \"transport_commun\", \"trottoir\", \"trottoir\", \"unique\", \"unique\", \"unique\", \"unique\", \"urgence\", \"urgence\", \"usage\", \"usage\", \"usage\", \"usage\", \"utilisation\", \"utilisation\", \"utilisation\", \"utilisation\", \"verre\", \"verre\", \"verre\", \"verre\", \"verts\", \"verts\", \"verts\", \"verts\", \"vide\", \"vide\", \"vide\", \"voiture\", \"voiture\", \"voiture\", \"voiture\", \"vrac\", \"vrac\", \"vrac\", \"vrac\"]}, \"R\": 30, \"lambda.step\": 0.01, \"plot.opts\": {\"xlab\": \"PC1\", \"ylab\": \"PC2\"}, \"topic.order\": [1, 3, 2, 4]};\n",
       "\n",
       "function LDAvis_load_lib(url, callback){\n",
       "  var s = document.createElement('script');\n",
       "  s.src = url;\n",
       "  s.async = true;\n",
       "  s.onreadystatechange = s.onload = callback;\n",
       "  s.onerror = function(){console.warn(\"failed to load library \" + url);};\n",
       "  document.getElementsByTagName(\"head\")[0].appendChild(s);\n",
       "}\n",
       "\n",
       "if(typeof(LDAvis) !== \"undefined\"){\n",
       "   // already loaded: just create the visualization\n",
       "   !function(LDAvis){\n",
       "       new LDAvis(\"#\" + \"ldavis_el2365215586265495686093126626\", ldavis_el2365215586265495686093126626_data);\n",
       "   }(LDAvis);\n",
       "}else if(typeof define === \"function\" && define.amd){\n",
       "   // require.js is available: use it to load d3/LDAvis\n",
       "   require.config({paths: {d3: \"https://d3js.org/d3.v5\"}});\n",
       "   require([\"d3\"], function(d3){\n",
       "      window.d3 = d3;\n",
       "      LDAvis_load_lib(\"https://cdn.jsdelivr.net/gh/bmabey/pyLDAvis@3.3.1/pyLDAvis/js/ldavis.v3.0.0.js\", function(){\n",
       "        new LDAvis(\"#\" + \"ldavis_el2365215586265495686093126626\", ldavis_el2365215586265495686093126626_data);\n",
       "      });\n",
       "    });\n",
       "}else{\n",
       "    // require.js not available: dynamically load d3 & LDAvis\n",
       "    LDAvis_load_lib(\"https://d3js.org/d3.v5.js\", function(){\n",
       "         LDAvis_load_lib(\"https://cdn.jsdelivr.net/gh/bmabey/pyLDAvis@3.3.1/pyLDAvis/js/ldavis.v3.0.0.js\", function(){\n",
       "                 new LDAvis(\"#\" + \"ldavis_el2365215586265495686093126626\", ldavis_el2365215586265495686093126626_data);\n",
       "            })\n",
       "         });\n",
       "}\n",
       "</script>"
      ],
      "text/plain": [
       "<IPython.core.display.HTML object>"
      ]
     },
     "execution_count": 12,
     "metadata": {},
     "output_type": "execute_result"
    }
   ],
   "source": [
    "pyLDAvis.display(visualisation)"
   ]
  },
  {
   "cell_type": "markdown",
   "metadata": {},
   "source": [
    "# Modèle Skip-Gram"
   ]
  },
  {
   "cell_type": "markdown",
   "metadata": {},
   "source": [
    "Chargement de modèle et de labels clusters"
   ]
  },
  {
   "cell_type": "code",
   "execution_count": 13,
   "metadata": {},
   "outputs": [],
   "source": [
    "w2vec: models.Word2Vec = models.Word2Vec.load(\"./data/w2vec.bin\")\n",
    "ev = moyenne.word_emb_vers_doc_emb_moyenne(docs, w2vec.wv)"
   ]
  },
  {
   "cell_type": "code",
   "execution_count": 14,
   "metadata": {},
   "outputs": [],
   "source": [
    "res = k_means(ev, n_clusters = 4)"
   ]
  },
  {
   "cell_type": "code",
   "execution_count": 15,
   "metadata": {},
   "outputs": [],
   "source": [
    "clustersDocs: list[int] = res[1]\n",
    "nomsClusters = list(set(clustersDocs))\n",
    "K: int = len(nomsClusters)"
   ]
  },
  {
   "cell_type": "markdown",
   "metadata": {},
   "source": [
    "Calcul des probabilités empiriques d'appartenance des mots aux divers clusters"
   ]
  },
  {
   "cell_type": "code",
   "execution_count": 16,
   "metadata": {},
   "outputs": [],
   "source": [
    "# Probabilité que chaque mot appartienne à un cluster / topic\n",
    "term_frequency_topics: pd.DataFrame = pd.DataFrame(columns = vocabulaireMin, index = nomsClusters, dtype = float)\n",
    "term_frequency_topics.loc[:,:] = 0\n",
    "\n",
    "for i, doc in enumerate(docs):\n",
    "    clusterDoc: int = clustersDocs[i]\n",
    "    for mot in doc:\n",
    "        if mot in vocabulaireMin:\n",
    "            term_frequency_topics.loc[clusterDoc, mot] += 1 / term_frequency_corpus[mot]\n"
   ]
  },
  {
   "cell_type": "markdown",
   "metadata": {},
   "source": [
    "Probabilité d'appartenance d'un document à un cluster. Dans notre cadre l'appartenance est certaine (probabilité de 0 ou de 1)"
   ]
  },
  {
   "cell_type": "code",
   "execution_count": 17,
   "metadata": {},
   "outputs": [],
   "source": [
    "# Probabilité qu'un document appartienne à un cluster / topic (soit 0 soit 1 pour notre cas)\n",
    "topic_docs_matrice: pd.DataFrame = pd.DataFrame(columns = nomsClusters, index = range(len(docs)), dtype = float)\n",
    "topic_docs_matrice.loc[:,:] = 0\n",
    "\n",
    "for i in range(len(docs)):\n",
    "    topic_docs_matrice.loc[i,clustersDocs[i]] = 1"
   ]
  },
  {
   "cell_type": "code",
   "execution_count": 18,
   "metadata": {},
   "outputs": [
    {
     "name": "stderr",
     "output_type": "stream",
     "text": [
      "C:\\Users\\atero\\AppData\\Local\\Programs\\Python\\Python310\\lib\\site-packages\\pyLDAvis\\_prepare.py:247: FutureWarning: In a future version of pandas all arguments of DataFrame.drop except for the argument 'labels' will be keyword-only\n",
      "  by='saliency', ascending=False).head(R).drop('saliency', 1)\n"
     ]
    }
   ],
   "source": [
    "visualisation = pyLDAvis.prepare(topic_term_dists = term_frequency_topics.to_numpy(), doc_topic_dists = topic_docs_matrice.to_numpy(), **args_pyLDA)\n",
    "pyLDAvis.save_html(visualisation, \"data/LDAvis/Skip_Gram.html\")"
   ]
  },
  {
   "cell_type": "code",
   "execution_count": 19,
   "metadata": {},
   "outputs": [
    {
     "data": {
      "text/html": [
       "\n",
       "<link rel=\"stylesheet\" type=\"text/css\" href=\"https://cdn.jsdelivr.net/gh/bmabey/pyLDAvis@3.3.1/pyLDAvis/js/ldavis.v1.0.0.css\">\n",
       "\n",
       "\n",
       "<div id=\"ldavis_el2365215629648883682645236605\"></div>\n",
       "<script type=\"text/javascript\">\n",
       "\n",
       "var ldavis_el2365215629648883682645236605_data = {\"mdsDat\": {\"x\": [0.09304522653983006, 0.15866191277938113, -0.004672738425927947, -0.24703440089328338], \"y\": [0.008501380725744445, -0.005229893736825662, -0.0031745853371171417, -9.69016518012612e-05], \"topics\": [1, 2, 3, 4], \"cluster\": [1, 1, 1, 1], \"Freq\": [39.5441100192057, 27.436109514530443, 25.594044831985197, 7.425735634278665]}, \"tinfo\": {\"Term\": [\"restreindre\", \"retrouver\", \"feuille\", \"atelier\", \"affichage\", \"securite\", \"lien\", \"eolien\", \"allocation\", \"gare\", \"urgence\", \"priveer\", \"accord\", \"date\", \"noel\", \"faune\", \"trottoir\", \"compenser\", \"consigne\", \"carte\", \"isoler\", \"terrasse\", \"risque\", \"energivore\", \"bouteille\", \"nettoyage\", \"tourner\", \"croissance\", \"vide\", \"reguler\", \"securite\", \"atelier\", \"gare\", \"compenser\", \"nettoyage\", \"terrasse\", \"ramassage\", \"risque\", \"rare\", \"couvert\", \"renovation\", \"billet\", \"reserve\", \"traitement\", \"lien\", \"eolien\", \"borne\", \"affichage\", \"frais\", \"depot\", \"mois\", \"urgence\", \"professionnel\", \"changement\", \"verts\", \"source\", \"bonus\", \"financierement\", \"agricole\", \"gratuite\", \"sachet\", \"argent\", \"interdir\", \"date\", \"paysan\", \"grace\", \"restreindre\", \"feuille\", \"noel\", \"energivore\", \"fleur\", \"tourner\", \"accepter\", \"retrouver\", \"demain\", \"isoler\", \"croissance\", \"carte\", \"ticket\", \"vide\", \"elu\", \"inscrire\", \"reguler\", \"boire\", \"conserver\", \"technique\", \"decision\", \"navire\", \"peche\", \"materiel\", \"lycee\", \"contenir\", \"distribuer\", \"methode\", \"destruction\", \"medicament\", \"controler\", \"charbon\", \"allocation\", \"feu\", \"expliquer\", \"saison\", \"panneau\", \"maternelle\", \"publicitaire\", \"poisson\", \"maximum\", \"recyclable\", \"local\", \"potable\", \"verre\", \"habitude\", \"transport\", \"intensif\", \"lumineux\", \"legume\", \"fruit\", \"suremballage\", \"vrac\", \"entree\", \"severement\", \"toit\", \"consigne\", \"deplacement\", \"compost\", \"solaire\", \"consignees\", \"responsable\", \"consommer\", \"privilegier\", \"suv\", \"sac\", \"manger\", \"marchandise\", \"promouvoir\", \"echelle\", \"service\", \"marque\", \"fortement\", \"commercant\", \"commune\", \"consigne\", \"bouteille\", \"verre\", \"consignees\", \"emballage\", \"plastique\", \"remettre\", \"unique\", \"consommer\", \"saison\", \"recyclable\", \"vrac\", \"transport_commun\", \"fruit\", \"reduire\", \"production\", \"payer\", \"contenant\", \"utilisation\", \"boire\", \"legume\", \"fonction\", \"emballe\", \"local\", \"voiture\", \"polluant\", \"usage\", \"revenir\", \"avion\", \"train\", \"gratuit\"], \"Freq\": [20635.0, 22450.0, 21232.0, 25495.0, 24695.0, 26506.0, 25329.0, 25329.0, 23409.0, 26414.0, 25185.0, 23601.0, 23601.0, 24969.0, 20748.0, 24282.0, 24429.0, 24953.0, 14188.0, 22259.0, 22034.0, 25966.0, 25865.0, 20459.0, 15435.0, 25977.0, 20134.0, 22074.0, 22377.0, 22528.0, 22919.0, 21939.555555555562, 22566.400000000005, 20685.866666666665, 21438.08, 21156.0, 20928.516129032247, 20784.842105263153, 20685.866666666665, 20372.44444444445, 20018.580645161277, 18805.33333333334, 18805.333333333332, 18805.33333333334, 18805.333333333336, 18805.333333333332, 17630.0, 18252.235294117647, 17950.545454545456, 17630.0, 18335.2, 18335.2, 17630.0, 17462.09523809524, 17238.222222222226, 17095.757575757565, 17815.57894736842, 17126.28571428571, 16715.851851851865, 16924.8, 17630.0, 17056.0, 17551.644444444442, 17630.0, 17238.222222222226, 17238.222222222226, 15656.8, 14678.250000000002, 14301.88461538461, 13047.333333333332, 12721.15, 12360.631578947368, 12454.272727272728, 13047.333333333332, 11742.6, 12663.588235294119, 12394.966666666665, 12454.272727272728, 11512.35294117647, 11960.055555555558, 10764.05, 11742.6, 11742.6, 9133.133333333333, 10437.866666666667, 10872.777777777781, 10675.09090909091, 10437.866666666667, 11008.6875, 11008.6875, 10872.777777777781, 10872.777777777781, 10361.117647058823, 10361.117647058823, 10361.117647058823, 10484.464285714283, 10872.777777777777, 10764.05, 10872.777777777781, 10437.866666666667, 10437.866666666667, 9641.337078651697, 9889.208333333343, 9665.470588235294, 9563.19047619048, 9128.499999999996, 8672.075000000004, 7847.30701754387, 8039.779816513777, 7937.826086956518, 6691.047120418853, 7824.428571428574, 8426.307692307682, 8398.220000000003, 8942.204081632657, 7781.672131147547, 7687.157894736852, 8114.222222222218, 7397.232758620693, 7987.4375, 8519.933333333332, 8354.89830508475, 5797.831081081074, 7899.663461538467, 8611.792452830188, 8131.268907563036, 6389.95, 8354.898305084738, 7108.92035398231, 7762.818897637786, 8298.63636363636, 8225.681318681321, 7656.161290322576, 8233.549019607839, 8259.119047619053, 8114.222222222224, 7875.568627450984, 8215.65, 7950.62903225806, 7937.82608695652, 7854.755813953492, 2362.175675675672, 2173.669322709162, 1913.575916230368, 1853.9499999999998, 1556.521640091115, 1557.9411764705842, 1435.6355140186915, 1393.947368421052, 1359.4070796460192, 1249.8539325842696, 1301.017543859649, 1278.5862068965512, 1196.0967741935478, 1161.622807017544, 1171.7606060606051, 1167.618279569892, 1140.8923076923077, 1123.6060606060603, 1150.2057142857154, 1059.4, 1085.4508196721315, 1135.071428571429, 1095.9310344827588, 1036.7217125382256, 1049.2460063897747, 1059.4000000000005, 1052.3841059602655, 1040.4821428571424, 1067.9435483870961, 1087.7767857142853, 1086.5641025641028], \"Total\": [20635.0, 22450.0, 21232.0, 25495.0, 24695.0, 26506.0, 25329.0, 25329.0, 23409.0, 26414.0, 25185.0, 23601.0, 23601.0, 24969.0, 20748.0, 24282.0, 24429.0, 24953.0, 14188.0, 22259.0, 22034.0, 25966.0, 25865.0, 20459.0, 15435.0, 25977.0, 20134.0, 22074.0, 22377.0, 22528.0, 26506.4375, 25495.66666666667, 26414.900000000005, 24953.2, 25977.440000000002, 25966.625, 25809.548387096762, 25865.94736842105, 25817.199999999997, 25662.833333333336, 25446.16129032257, 25110.000000000004, 25241.4, 25256.000000000004, 25329.0, 25329.0, 23748.5, 24695.882352941175, 24299.0, 23994.875, 25053.65, 25185.05, 24276.6875, 24050.285714285714, 23764.166666666668, 23701.545454545445, 24749.315789473683, 23882.749999999996, 23323.666666666675, 23710.999999999996, 24722.75, 23915.55813953488, 24799.13333333333, 24969.125, 24557.166666666668, 24703.16666666667, 20635.0, 21232.7, 20748.15384615384, 20459.8, 20453.3, 20134.36842105263, 20765.68181818182, 22450.0, 20372.2, 22034.0, 22074.5, 22259.409090909092, 21194.35294117647, 22377.000000000004, 20171.45, 22362.4, 22528.25, 17605.000000000004, 20284.6, 21198.333333333336, 21098.545454545456, 20948.0, 22105.8125, 22105.8125, 22304.000000000004, 22304.000000000004, 21294.058823529413, 21294.058823529413, 21879.411764705885, 22159.464285714283, 23041.111111111113, 22960.1, 23409.66666666667, 22274.8, 22938.199999999997, 17061.786516853943, 19904.000000000015, 21415.647058823528, 21421.857142857145, 20563.464285714283, 19575.27500000001, 17924.736842105274, 18655.0642201835, 18582.630434782604, 15741.649214659696, 18479.64285714286, 19906.727272727254, 19844.780000000002, 21165.040816326535, 18492.967213114764, 18387.657894736854, 19591.388888888883, 17901.318965517243, 19371.125, 20685.199999999997, 20395.03389830509, 14188.87837837837, 19435.134615384617, 21239.509433962266, 20067.563025210104, 15842.600000000002, 20735.584745762702, 17650.907079646036, 19280.708661417306, 20816.818181818177, 20856.219780219788, 19358.677419354826, 21076.588235294108, 21242.964285714297, 21552.83333333334, 20399.08823529412, 22866.35, 21790.758064516114, 22003.86956521739, 22188.779069767454, 14188.87837837837, 15435.649402390429, 15741.649214659696, 15842.600000000002, 17045.170842824587, 17445.886877828012, 18102.962616822428, 18013.565789473676, 17650.907079646036, 17061.786516853943, 17924.736842105274, 17901.318965517243, 18521.338709677413, 18387.657894736854, 18609.20000000001, 18872.64516129031, 18616.95384615385, 18381.0909090909, 18943.60571428574, 17605.000000000004, 18492.967213114764, 19468.27142857143, 19188.241379310344, 18655.0642201835, 18905.63258785938, 19100.88124999999, 19080.350993377484, 18866.1875, 19462.758064516114, 19918.946428571442, 20275.53846153847], \"Category\": [\"Default\", \"Default\", \"Default\", \"Default\", \"Default\", \"Default\", \"Default\", \"Default\", \"Default\", \"Default\", \"Default\", \"Default\", \"Default\", \"Default\", \"Default\", \"Default\", \"Default\", \"Default\", \"Default\", \"Default\", \"Default\", \"Default\", \"Default\", \"Default\", \"Default\", \"Default\", \"Default\", \"Default\", \"Default\", \"Default\", \"Topic1\", \"Topic1\", \"Topic1\", \"Topic1\", \"Topic1\", \"Topic1\", \"Topic1\", \"Topic1\", \"Topic1\", \"Topic1\", \"Topic1\", \"Topic1\", \"Topic1\", \"Topic1\", \"Topic1\", \"Topic1\", \"Topic1\", \"Topic1\", \"Topic1\", \"Topic1\", \"Topic1\", \"Topic1\", \"Topic1\", \"Topic1\", \"Topic1\", \"Topic1\", \"Topic1\", \"Topic1\", \"Topic1\", \"Topic1\", \"Topic1\", \"Topic1\", \"Topic1\", \"Topic1\", \"Topic1\", \"Topic1\", \"Topic2\", \"Topic2\", \"Topic2\", \"Topic2\", \"Topic2\", \"Topic2\", \"Topic2\", \"Topic2\", \"Topic2\", \"Topic2\", \"Topic2\", \"Topic2\", \"Topic2\", \"Topic2\", \"Topic2\", \"Topic2\", \"Topic2\", \"Topic2\", \"Topic2\", \"Topic2\", \"Topic2\", \"Topic2\", \"Topic2\", \"Topic2\", \"Topic2\", \"Topic2\", \"Topic2\", \"Topic2\", \"Topic2\", \"Topic2\", \"Topic2\", \"Topic2\", \"Topic2\", \"Topic2\", \"Topic2\", \"Topic3\", \"Topic3\", \"Topic3\", \"Topic3\", \"Topic3\", \"Topic3\", \"Topic3\", \"Topic3\", \"Topic3\", \"Topic3\", \"Topic3\", \"Topic3\", \"Topic3\", \"Topic3\", \"Topic3\", \"Topic3\", \"Topic3\", \"Topic3\", \"Topic3\", \"Topic3\", \"Topic3\", \"Topic3\", \"Topic3\", \"Topic3\", \"Topic3\", \"Topic3\", \"Topic3\", \"Topic3\", \"Topic3\", \"Topic3\", \"Topic3\", \"Topic3\", \"Topic3\", \"Topic3\", \"Topic3\", \"Topic3\", \"Topic3\", \"Topic3\", \"Topic3\", \"Topic3\", \"Topic4\", \"Topic4\", \"Topic4\", \"Topic4\", \"Topic4\", \"Topic4\", \"Topic4\", \"Topic4\", \"Topic4\", \"Topic4\", \"Topic4\", \"Topic4\", \"Topic4\", \"Topic4\", \"Topic4\", \"Topic4\", \"Topic4\", \"Topic4\", \"Topic4\", \"Topic4\", \"Topic4\", \"Topic4\", \"Topic4\", \"Topic4\", \"Topic4\", \"Topic4\", \"Topic4\", \"Topic4\", \"Topic4\", \"Topic4\", \"Topic4\"], \"logprob\": [30.0, 29.0, 28.0, 27.0, 26.0, 25.0, 24.0, 23.0, 22.0, 21.0, 20.0, 19.0, 18.0, 17.0, 16.0, 15.0, 14.0, 13.0, 12.0, 11.0, 10.0, 9.0, 8.0, 7.0, 6.0, 5.0, 4.0, 3.0, 2.0, 1.0, -0.2076, -0.2513, -0.2231, -0.3102, -0.2744, -0.2877, -0.2985, -0.3054, -0.3102, -0.3254, -0.3429, -0.4055, -0.4055, -0.4055, -0.4055, -0.4055, -0.47, -0.4353, -0.452, -0.47, -0.4308, -0.4308, -0.47, -0.4796, -0.4925, -0.5008, -0.4595, -0.499, -0.5232, -0.5108, -0.47, -0.5031, -0.4745, -0.47, -0.4925, -0.4925, -0.2231, -0.2877, -0.3137, -0.4055, -0.4308, -0.4595, -0.452, -0.4055, -0.5108, -0.4353, -0.4568, -0.452, -0.5306, -0.4925, -0.5978, -0.5108, -0.5108, -0.7621, -0.6286, -0.5878, -0.6061, -0.6286, -0.5754, -0.5754, -0.5878, -0.5878, -0.636, -0.636, -0.636, -0.6242, -0.5878, -0.5978, -0.5878, -0.6286, -0.6286, -0.6385, -0.6131, -0.636, -0.6466, -0.6931, -0.7444, -0.8444, -0.8201, -0.8329, -1.0038, -0.8473, -0.7732, -0.7765, -0.7138, -0.8528, -0.865, -0.8109, -0.9034, -0.8267, -0.7621, -0.7817, -1.1471, -0.8377, -0.7514, -0.8088, -1.0498, -0.7817, -0.9432, -0.8552, -0.7885, -0.7973, -0.869, -0.7963, -0.7932, -0.8109, -0.8408, -0.7985, -0.8313, -0.8329, -0.8434, -0.8076, -0.8907, -1.0182, -1.0498, -1.2247, -1.2238, -1.3055, -1.335, -1.3601, -1.4441, -1.404, -1.4214, -1.4881, -1.5173, -1.5086, -1.5122, -1.5353, -1.5506, -1.5272, -1.6094, -1.5851, -1.5404, -1.5755, -1.6311, -1.6191, -1.6094, -1.6161, -1.6275, -1.6014, -1.583, -1.5841], \"loglift\": [30.0, 29.0, 28.0, 27.0, 26.0, 25.0, 24.0, 23.0, 22.0, 21.0, 20.0, 19.0, 18.0, 17.0, 16.0, 15.0, 14.0, 13.0, 12.0, 11.0, 10.0, 9.0, 8.0, 7.0, 6.0, 5.0, 4.0, 3.0, 2.0, 1.0, 6.4265, 6.4217, 6.4144, 6.3843, 6.3798, 6.367, 6.3623, 6.3532, 6.3503, 6.341, 6.332, 6.2828, 6.2775, 6.277, 6.2741, 6.2741, 6.274, 6.2695, 6.2691, 6.2636, 6.2597, 6.2545, 6.252, 6.2518, 6.2508, 6.2452, 6.2432, 6.2393, 6.2388, 6.2347, 6.2338, 6.2339, 6.2262, 6.2238, 6.218, 6.2121, 6.6614, 6.5683, 6.5654, 6.4876, 6.4626, 6.4495, 6.4262, 6.3947, 6.3865, 6.3836, 6.3603, 6.3567, 6.3271, 6.311, 6.3094, 6.2933, 6.2859, 6.2812, 6.273, 6.2698, 6.2562, 6.2408, 6.2403, 6.2403, 6.2189, 6.2189, 6.2171, 6.2171, 6.19, 6.1891, 6.1864, 6.1799, 6.1706, 6.1794, 6.1501, 6.4362, 6.3075, 6.2114, 6.2005, 6.1948, 6.1928, 6.1809, 6.1652, 6.1564, 6.1514, 6.1475, 6.1472, 6.147, 6.1454, 6.1413, 6.1348, 6.1255, 6.1232, 6.121, 6.1199, 6.1145, 6.112, 6.1067, 6.1042, 6.1036, 6.099, 6.0979, 6.0975, 6.0972, 6.0873, 6.0766, 6.0793, 6.067, 6.0622, 6.0301, 6.0552, 5.9833, 5.9987, 5.9874, 5.9685, 6.4515, 6.2841, 6.137, 6.099, 5.8509, 5.8286, 5.7099, 5.6854, 5.6806, 5.6305, 5.6213, 5.6052, 5.5045, 5.4825, 5.4792, 5.4616, 5.4521, 5.4496, 5.4428, 5.4339, 5.409, 5.4023, 5.3817, 5.3543, 5.353, 5.3523, 5.3467, 5.3467, 5.3416, 5.3368, 5.318]}, \"token.table\": {\"Topic\": [1, 2, 3, 4, 1, 2, 1, 3, 1, 2, 3, 4, 1, 2, 1, 2, 3, 4, 1, 2, 4, 1, 2, 3, 4, 1, 2, 3, 1, 2, 3, 4, 1, 2, 3, 1, 2, 3, 4, 1, 2, 3, 4, 1, 2, 3, 1, 2, 3, 4, 1, 2, 3, 1, 2, 3, 1, 2, 3, 4, 1, 2, 4, 1, 2, 3, 4, 1, 2, 3, 1, 2, 3, 4, 1, 2, 3, 4, 1, 2, 3, 4, 1, 2, 3, 4, 1, 2, 3, 1, 2, 3, 1, 2, 3, 1, 2, 3, 1, 2, 1, 2, 3, 4, 1, 2, 3, 1, 2, 3, 4, 1, 2, 3, 4, 1, 2, 3, 1, 2, 3, 1, 2, 3, 4, 1, 2, 3, 4, 1, 2, 3, 4, 1, 2, 3, 4, 1, 2, 3, 1, 2, 3, 4, 1, 2, 1, 2, 3, 1, 2, 1, 2, 3, 1, 2, 3, 1, 2, 3, 4, 1, 2, 3, 4, 1, 2, 3, 4, 1, 2, 3, 4, 1, 2, 3, 4, 1, 2, 3, 4, 1, 2, 3, 1, 2, 3, 1, 2, 3, 4, 1, 2, 3, 4, 1, 2, 3, 4, 1, 2, 3, 1, 2, 3, 4, 1, 2, 3, 1, 2, 3, 1, 2, 3, 4, 1, 2, 1, 2, 3, 4, 1, 2, 3, 4, 1, 2, 3, 1, 2, 3, 4, 1, 2, 3, 4, 1, 2, 3, 1, 2, 3, 1, 2, 3, 1, 2, 3, 4, 1, 2, 3, 1, 2, 3, 1, 2, 3, 1, 2, 3, 1, 2, 3, 1, 2, 3, 1, 2, 3, 4, 1, 2, 3, 4, 1, 2, 3, 1, 2, 3, 1, 2, 3, 4, 1, 2, 3, 4, 1, 2, 3, 4, 1, 2, 3, 4, 1, 2, 1, 2, 3, 4, 1, 2, 3, 4, 1, 2, 3, 4, 1, 2, 3, 4, 1, 2, 3, 4, 1, 2, 3, 1, 2, 3, 1, 2, 3, 4, 1, 2, 3, 4, 1, 2, 3, 1, 2, 3, 4, 1, 2, 3, 1, 2, 3, 1, 2, 3, 4, 1, 2, 3, 1, 2, 1, 2, 3, 4, 1, 2, 3, 1, 2, 3, 4, 1, 2, 3, 1, 2, 3, 4, 1, 2, 3, 1, 2, 3, 4, 1, 2, 3, 1, 2, 3, 4, 1, 2, 3, 4, 1, 2, 3, 4, 1, 2, 3, 4, 1, 2, 3, 1, 2, 3, 1, 2, 3, 4, 1, 2, 3, 4, 1, 2, 3, 1, 2, 3, 4, 1, 2, 3, 1, 2, 3, 4, 1, 2, 3, 4, 1, 2, 1, 2, 3, 4, 1, 2, 1, 2, 3, 4, 1, 2, 3, 4, 1, 2, 3, 4, 1, 2, 3, 4, 1, 2, 3, 1, 2, 3, 4, 1, 2, 3, 4], \"Freq\": [0.3087305322374109, 0.5997395177795531, 0.07993958563626612, 0.011605686830325384, 0.5577587960138296, 0.44225815198969565, 0.739070576185599, 0.2609341876473811, 0.7166969172943074, 0.08287719197953435, 0.18363321947664027, 0.016806962884623623, 0.535547992994347, 0.4644662461376354, 0.7131759125372313, 0.15224399024085714, 0.12427056824933463, 0.010286191046210067, 0.8605383921450702, 0.12794331062794984, 0.011531371344149985, 0.5376421967181328, 0.09731405968885165, 0.3101821427357959, 0.054874031545772736, 0.7489048187972918, 0.12990840302668258, 0.12118677817602547, 0.21363249076966767, 0.5187730758307298, 0.20738426583356998, 0.06015336552115875, 0.7198582842268899, 0.12485193636400368, 0.15531742504311657, 0.7423626755374023, 0.05149798934669558, 0.19218055877213297, 0.013937722382466261, 0.44410182048695707, 0.07579856017064038, 0.33927953813131934, 0.14084279471023262, 0.4032002809843437, 0.5594937380923695, 0.03728760258685295, 0.7260620604447824, 0.15500855350693785, 0.10843946017867326, 0.010478045998859533, 0.49141772030609626, 0.4688132891407268, 0.039764635171449604, 0.4458761206032932, 0.1933750782965052, 0.36075472891131805, 0.517378624750096, 0.12308022858819793, 0.35400776109860665, 0.005543342408036743, 0.8289918727858551, 0.1568536299953513, 0.014146482214705929, 0.47609385854415137, 0.10433385982336228, 0.4054707584832112, 0.014124620012188034, 0.18541159303116653, 0.5145775613026632, 0.3000305650592075, 0.3223651565700965, 0.10254510336893101, 0.4086299033216921, 0.16646840835561172, 0.3561284132654993, 0.1235277037859947, 0.40334288563745846, 0.11702624569199499, 0.4172023549141971, 0.1030541938605275, 0.4027555053075811, 0.07699321025643588, 0.4185279338450584, 0.12904565957110078, 0.3912716625781437, 0.06114979821160088, 0.4215835724533715, 0.4874910329985652, 0.09097022955523672, 0.498760669335005, 0.4718956454646284, 0.02933886290205912, 0.7938328451651869, 0.1271098930359729, 0.07906375627528786, 0.38333824095676006, 0.5615076219166912, 0.055131486556886905, 0.7060719989186646, 0.2939229948986999, 0.36462229192878437, 0.5059590493097327, 0.11801761431205941, 0.01142258837317523, 0.18461432736768732, 0.576422772209187, 0.2390021696233102, 0.4186747435008168, 0.1355791998432656, 0.40648033349593865, 0.03931024997353128, 0.7347402309868253, 0.20391854510598617, 0.047551820961767875, 0.013794612391187702, 0.37916924317784645, 0.4735502083613388, 0.14726172872697943, 0.3116831814452526, 0.486567642452051, 0.20174641366412613, 0.5089818044031332, 0.1009148062513049, 0.37647022433245425, 0.01364089794845225, 0.349603028042109, 0.5336254954403377, 0.09052398315440882, 0.026274759623130712, 0.41090817244277933, 0.10982582792873828, 0.38791045633804355, 0.09134552034457559, 0.5069250385023875, 0.14065906023624383, 0.29528500752076975, 0.05711831419745211, 0.18382388879656694, 0.637689517981603, 0.17844749215534855, 0.3640470029489769, 0.18945724628796728, 0.41231472100871785, 0.034174576850854045, 0.7424296261202574, 0.2575703738797426, 0.49188689609472414, 0.4550487832523913, 0.05305560157292203, 0.6336357135636818, 0.3663605425622327, 0.4221362256900174, 0.4686012893493993, 0.10927146371684594, 0.26572221149453434, 0.6912922049480282, 0.0429997127072864, 0.7170866001612043, 0.029267986308109412, 0.24570034857794856, 0.007913661533952331, 0.27584790718368185, 0.6219534256085815, 0.08927654706086549, 0.01295634445297336, 0.558858039344604, 0.11490491121451094, 0.267923118862266, 0.0582999884794233, 0.5219644018957433, 0.10141914262261235, 0.36487945836759766, 0.011748099778908942, 0.7387546812626034, 0.18305280052677064, 0.06831556854191531, 0.009918103625663607, 0.4440478524639665, 0.0746696511246817, 0.41805215454874595, 0.0631945627144065, 0.8542905708520568, 0.11114938917050601, 0.03456382571957493, 0.6978052746274093, 0.22005275976764108, 0.08213521883159378, 0.6421037855392248, 0.061897246397705434, 0.2424103315097388, 0.05361139986797276, 0.7138037197925015, 0.08253553203154655, 0.19248450086457766, 0.01117624731137447, 0.3271167114392285, 0.2017355004541677, 0.42338480567419745, 0.04778230871808747, 0.42048259578578323, 0.5251225270990592, 0.05442170786677637, 0.4264093630667611, 0.11836865916377, 0.42318433361317176, 0.03204873019504373, 0.7077666692653238, 0.210450902854132, 0.08181737533838548, 0.3765090314967777, 0.5747481165471544, 0.048742851956067895, 0.4250805135492356, 0.09544168762427183, 0.42080861931562796, 0.05867095244891497, 0.7424296261202574, 0.2575703738797426, 0.430017281383612, 0.083408986516193, 0.43098216683174273, 0.05558812276175588, 0.43519878274435986, 0.13210463538738793, 0.42248914507654606, 0.010205508313188767, 0.4215835724533715, 0.4874910329985652, 0.09097022955523672, 0.32905140480471395, 0.24459315569078816, 0.3954815628233736, 0.030890540042891514, 0.4986101110236618, 0.09104889171704321, 0.39067044001987167, 0.01969009383146062, 0.5551388831186438, 0.08558427558399133, 0.3593052673469968, 0.39876389976618143, 0.49801381424003305, 0.1032307679258566, 0.3873803101635418, 0.16128394302132032, 0.45130553251333555, 0.43228000628343644, 0.08745726432961985, 0.44300782492199964, 0.03718977128035237, 0.4091705414487522, 0.4731161306439526, 0.1176923758793808, 0.3116831814452526, 0.486567642452051, 0.20174641366412613, 0.7318294939060775, 0.1953008843022873, 0.0728835918119715, 0.26933358793202217, 0.4982814588504869, 0.23243269047164408, 0.825254528544768, 0.09042461458865846, 0.08434241403309949, 0.20917523709245686, 0.6893143412203497, 0.10155120381424115, 0.42514067524115723, 0.04918609324758839, 0.4968348070739546, 0.028838424437299014, 0.44287588980102494, 0.19407041720450008, 0.3017679501397402, 0.06128822198459302, 0.7019539441982313, 0.13283291367760938, 0.16520635523913588, 0.39876389976618143, 0.49801381424003305, 0.1032307679258566, 0.4682479060655831, 0.10151389908705444, 0.3409399614736306, 0.08930471754806935, 0.3429383250807171, 0.20395396134267263, 0.4438940770471902, 0.009191058343768509, 0.4891920889775703, 0.10884314565329288, 0.3464761606221704, 0.055442468132196804, 0.3629733704101891, 0.16025718266590708, 0.4271731081269209, 0.049562412772095506, 0.5577587960138296, 0.44225815198969565, 0.4262291466726567, 0.12789986318992108, 0.4026304290119049, 0.043255671492455065, 0.4982343449813011, 0.12266431018097544, 0.3172846174357153, 0.061888515892604454, 0.7262111027297279, 0.12596446693973384, 0.1409994670813306, 0.006837835680835781, 0.4268236710305763, 0.17549339865468053, 0.3887875481461927, 0.008897063397461004, 0.43894420251678856, 0.10876741378965409, 0.4464132094723013, 0.005881842977466272, 0.8109014418269811, 0.097832010158781, 0.09128404591449031, 0.8012487798831788, 0.1516043567853989, 0.047139116557953616, 0.4417359133217838, 0.04786681152186038, 0.43777490677393754, 0.07258126082743631, 0.4685316940008165, 0.11472819895535534, 0.35380349504546116, 0.06297960148743628, 0.4382497530877898, 0.52125664443532, 0.04052689401085304, 0.4951123299382505, 0.16168624229937065, 0.26393469959220806, 0.07932403277823583, 0.7867198423997033, 0.07443165899920265, 0.13888145876619967, 0.7450062199402568, 0.20676349172391387, 0.04821444135428304, 0.4496135563239974, 0.12799253228401686, 0.40293052269516233, 0.019483414861621254, 0.18226314514174946, 0.7587593893869639, 0.05897746547128665, 0.41884187082405344, 0.5811581291759466, 0.44052355569984664, 0.175976200808987, 0.32831222524423653, 0.05512507495221279, 0.8035661599379799, 0.15928277983856037, 0.037153095006033136, 0.4904532128924566, 0.09282602602011887, 0.39441471593052574, 0.022343454610214565, 0.7131083718437472, 0.14844626912459172, 0.13845547117533447, 0.29721389345663035, 0.06441294989328274, 0.5650639216752856, 0.07326313682129519, 0.8646578779211653, 0.0922794698457686, 0.043046146808676196, 0.44737293621831425, 0.141084737062931, 0.38609568766770136, 0.02544231359821445, 0.2727553999961325, 0.3153945816332451, 0.4118886933653047, 0.5079341217065035, 0.049183849516758464, 0.4051812364952007, 0.037722567461181515, 0.7213031754737899, 0.1250973277538481, 0.1400330626694846, 0.013543420643839878, 0.4532603609862611, 0.09248961420125057, 0.41416155056785164, 0.04006862425385304, 0.4927265978120839, 0.08545974627158986, 0.39866803502412834, 0.023154355088761278, 0.29568362292633066, 0.5129176822077207, 0.19138297035930496, 0.8147381494514593, 0.14133527171898544, 0.04394102044451291, 0.3914250188729518, 0.543163550779342, 0.050673875394111646, 0.014720902349127405, 0.4219654668343157, 0.14635915855222312, 0.409658549314514, 0.02201516321271296, 0.14745930629220005, 0.6139253907301734, 0.2385970048594574, 0.6069096095694959, 0.043877822711865286, 0.29459389436295824, 0.054621362826669836, 0.7445755464048146, 0.21523598352866644, 0.04014887551472917, 0.46572195785801096, 0.07560258295505409, 0.4232739959995255, 0.03536492916967315, 0.46670492535636765, 0.11359870001732966, 0.35504992933172996, 0.06457416597943264, 0.6495066121897618, 0.3504805958006391, 0.473920605157955, 0.12868079685558623, 0.3200365806179701, 0.0773861220089246, 0.7280112606486785, 0.2719867540465475, 0.4699599081333628, 0.18338237075483846, 0.29150407148854285, 0.05513525408233497, 0.49351745074327313, 0.15942054778529094, 0.28637631514410705, 0.06070649998446509, 0.3752465780077858, 0.07813666682742113, 0.4250507623920933, 0.12158827667291384, 0.7253778447943332, 0.09152435389416838, 0.17071922011431775, 0.012371567836728967, 0.4202082495419403, 0.5344773651517182, 0.045314385306341326, 0.45764139125162356, 0.12900917166697987, 0.357882761582118, 0.05548610950334641, 0.42108629059792835, 0.09423886604387173, 0.41320977600860653, 0.07144724935987667], \"Term\": [\"accepter\", \"accepter\", \"accepter\", \"accepter\", \"accord\", \"accord\", \"affichage\", \"affichage\", \"agricole\", \"agricole\", \"agricole\", \"agricole\", \"allocation\", \"allocation\", \"argent\", \"argent\", \"argent\", \"argent\", \"atelier\", \"atelier\", \"atelier\", \"avion\", \"avion\", \"avion\", \"avion\", \"billet\", \"billet\", \"billet\", \"boire\", \"boire\", \"boire\", \"boire\", \"bonus\", \"bonus\", \"bonus\", \"borne\", \"borne\", \"borne\", \"borne\", \"bouteille\", \"bouteille\", \"bouteille\", \"bouteille\", \"carte\", \"carte\", \"carte\", \"changement\", \"changement\", \"changement\", \"changement\", \"charbon\", \"charbon\", \"charbon\", \"commercant\", \"commercant\", \"commercant\", \"commune\", \"commune\", \"commune\", \"commune\", \"compenser\", \"compenser\", \"compenser\", \"compost\", \"compost\", \"compost\", \"compost\", \"conserver\", \"conserver\", \"conserver\", \"consigne\", \"consigne\", \"consigne\", \"consigne\", \"consignees\", \"consignees\", \"consignees\", \"consignees\", \"consommer\", \"consommer\", \"consommer\", \"consommer\", \"contenant\", \"contenant\", \"contenant\", \"contenant\", \"contenir\", \"contenir\", \"contenir\", \"controler\", \"controler\", \"controler\", \"couvert\", \"couvert\", \"couvert\", \"croissance\", \"croissance\", \"croissance\", \"date\", \"date\", \"decision\", \"decision\", \"decision\", \"decision\", \"demain\", \"demain\", \"demain\", \"deplacement\", \"deplacement\", \"deplacement\", \"deplacement\", \"depot\", \"depot\", \"depot\", \"depot\", \"destruction\", \"destruction\", \"destruction\", \"distribuer\", \"distribuer\", \"distribuer\", \"echelle\", \"echelle\", \"echelle\", \"echelle\", \"elu\", \"elu\", \"elu\", \"elu\", \"emballage\", \"emballage\", \"emballage\", \"emballage\", \"emballe\", \"emballe\", \"emballe\", \"emballe\", \"energivore\", \"energivore\", \"energivore\", \"entree\", \"entree\", \"entree\", \"entree\", \"eolien\", \"eolien\", \"expliquer\", \"expliquer\", \"expliquer\", \"faune\", \"faune\", \"feu\", \"feu\", \"feu\", \"feuille\", \"feuille\", \"feuille\", \"financierement\", \"financierement\", \"financierement\", \"financierement\", \"fleur\", \"fleur\", \"fleur\", \"fleur\", \"fonction\", \"fonction\", \"fonction\", \"fonction\", \"fortement\", \"fortement\", \"fortement\", \"fortement\", \"frais\", \"frais\", \"frais\", \"frais\", \"fruit\", \"fruit\", \"fruit\", \"fruit\", \"gare\", \"gare\", \"gare\", \"grace\", \"grace\", \"grace\", \"gratuit\", \"gratuit\", \"gratuit\", \"gratuit\", \"gratuite\", \"gratuite\", \"gratuite\", \"gratuite\", \"habitude\", \"habitude\", \"habitude\", \"habitude\", \"inscrire\", \"inscrire\", \"inscrire\", \"intensif\", \"intensif\", \"intensif\", \"intensif\", \"interdir\", \"interdir\", \"interdir\", \"isoler\", \"isoler\", \"isoler\", \"legume\", \"legume\", \"legume\", \"legume\", \"lien\", \"lien\", \"local\", \"local\", \"local\", \"local\", \"lumineux\", \"lumineux\", \"lumineux\", \"lumineux\", \"lycee\", \"lycee\", \"lycee\", \"manger\", \"manger\", \"manger\", \"manger\", \"marchandise\", \"marchandise\", \"marchandise\", \"marchandise\", \"marque\", \"marque\", \"marque\", \"materiel\", \"materiel\", \"materiel\", \"maternelle\", \"maternelle\", \"maternelle\", \"maximum\", \"maximum\", \"maximum\", \"maximum\", \"medicament\", \"medicament\", \"medicament\", \"methode\", \"methode\", \"methode\", \"mois\", \"mois\", \"mois\", \"navire\", \"navire\", \"navire\", \"nettoyage\", \"nettoyage\", \"nettoyage\", \"noel\", \"noel\", \"noel\", \"panneau\", \"panneau\", \"panneau\", \"panneau\", \"payer\", \"payer\", \"payer\", \"payer\", \"paysan\", \"paysan\", \"paysan\", \"peche\", \"peche\", \"peche\", \"plastique\", \"plastique\", \"plastique\", \"plastique\", \"poisson\", \"poisson\", \"poisson\", \"poisson\", \"polluant\", \"polluant\", \"polluant\", \"polluant\", \"potable\", \"potable\", \"potable\", \"potable\", \"priveer\", \"priveer\", \"privilegier\", \"privilegier\", \"privilegier\", \"privilegier\", \"production\", \"production\", \"production\", \"production\", \"professionnel\", \"professionnel\", \"professionnel\", \"professionnel\", \"promouvoir\", \"promouvoir\", \"promouvoir\", \"promouvoir\", \"publicitaire\", \"publicitaire\", \"publicitaire\", \"publicitaire\", \"ramassage\", \"ramassage\", \"ramassage\", \"rare\", \"rare\", \"rare\", \"recyclable\", \"recyclable\", \"recyclable\", \"recyclable\", \"reduire\", \"reduire\", \"reduire\", \"reduire\", \"reguler\", \"reguler\", \"reguler\", \"remettre\", \"remettre\", \"remettre\", \"remettre\", \"renovation\", \"renovation\", \"renovation\", \"reserve\", \"reserve\", \"reserve\", \"responsable\", \"responsable\", \"responsable\", \"responsable\", \"restreindre\", \"restreindre\", \"restreindre\", \"retrouver\", \"retrouver\", \"revenir\", \"revenir\", \"revenir\", \"revenir\", \"risque\", \"risque\", \"risque\", \"sac\", \"sac\", \"sac\", \"sac\", \"sachet\", \"sachet\", \"sachet\", \"saison\", \"saison\", \"saison\", \"saison\", \"securite\", \"securite\", \"securite\", \"service\", \"service\", \"service\", \"service\", \"severement\", \"severement\", \"severement\", \"solaire\", \"solaire\", \"solaire\", \"solaire\", \"source\", \"source\", \"source\", \"source\", \"suremballage\", \"suremballage\", \"suremballage\", \"suremballage\", \"suv\", \"suv\", \"suv\", \"suv\", \"technique\", \"technique\", \"technique\", \"terrasse\", \"terrasse\", \"terrasse\", \"ticket\", \"ticket\", \"ticket\", \"ticket\", \"toit\", \"toit\", \"toit\", \"toit\", \"tourner\", \"tourner\", \"tourner\", \"train\", \"train\", \"train\", \"train\", \"traitement\", \"traitement\", \"traitement\", \"transport\", \"transport\", \"transport\", \"transport\", \"transport_commun\", \"transport_commun\", \"transport_commun\", \"transport_commun\", \"trottoir\", \"trottoir\", \"unique\", \"unique\", \"unique\", \"unique\", \"urgence\", \"urgence\", \"usage\", \"usage\", \"usage\", \"usage\", \"utilisation\", \"utilisation\", \"utilisation\", \"utilisation\", \"verre\", \"verre\", \"verre\", \"verre\", \"verts\", \"verts\", \"verts\", \"verts\", \"vide\", \"vide\", \"vide\", \"voiture\", \"voiture\", \"voiture\", \"voiture\", \"vrac\", \"vrac\", \"vrac\", \"vrac\"]}, \"R\": 30, \"lambda.step\": 0.01, \"plot.opts\": {\"xlab\": \"PC1\", \"ylab\": \"PC2\"}, \"topic.order\": [2, 4, 1, 3]};\n",
       "\n",
       "function LDAvis_load_lib(url, callback){\n",
       "  var s = document.createElement('script');\n",
       "  s.src = url;\n",
       "  s.async = true;\n",
       "  s.onreadystatechange = s.onload = callback;\n",
       "  s.onerror = function(){console.warn(\"failed to load library \" + url);};\n",
       "  document.getElementsByTagName(\"head\")[0].appendChild(s);\n",
       "}\n",
       "\n",
       "if(typeof(LDAvis) !== \"undefined\"){\n",
       "   // already loaded: just create the visualization\n",
       "   !function(LDAvis){\n",
       "       new LDAvis(\"#\" + \"ldavis_el2365215629648883682645236605\", ldavis_el2365215629648883682645236605_data);\n",
       "   }(LDAvis);\n",
       "}else if(typeof define === \"function\" && define.amd){\n",
       "   // require.js is available: use it to load d3/LDAvis\n",
       "   require.config({paths: {d3: \"https://d3js.org/d3.v5\"}});\n",
       "   require([\"d3\"], function(d3){\n",
       "      window.d3 = d3;\n",
       "      LDAvis_load_lib(\"https://cdn.jsdelivr.net/gh/bmabey/pyLDAvis@3.3.1/pyLDAvis/js/ldavis.v3.0.0.js\", function(){\n",
       "        new LDAvis(\"#\" + \"ldavis_el2365215629648883682645236605\", ldavis_el2365215629648883682645236605_data);\n",
       "      });\n",
       "    });\n",
       "}else{\n",
       "    // require.js not available: dynamically load d3 & LDAvis\n",
       "    LDAvis_load_lib(\"https://d3js.org/d3.v5.js\", function(){\n",
       "         LDAvis_load_lib(\"https://cdn.jsdelivr.net/gh/bmabey/pyLDAvis@3.3.1/pyLDAvis/js/ldavis.v3.0.0.js\", function(){\n",
       "                 new LDAvis(\"#\" + \"ldavis_el2365215629648883682645236605\", ldavis_el2365215629648883682645236605_data);\n",
       "            })\n",
       "         });\n",
       "}\n",
       "</script>"
      ],
      "text/plain": [
       "<IPython.core.display.HTML object>"
      ]
     },
     "execution_count": 19,
     "metadata": {},
     "output_type": "execute_result"
    }
   ],
   "source": [
    "pyLDAvis.display(visualisation)"
   ]
  },
  {
   "cell_type": "markdown",
   "metadata": {},
   "source": [
    "# Modèle GloVe"
   ]
  },
  {
   "cell_type": "markdown",
   "metadata": {},
   "source": [
    "Chargement de modèle et de labels clusters"
   ]
  },
  {
   "cell_type": "code",
   "execution_count": 20,
   "metadata": {},
   "outputs": [],
   "source": [
    "w2vec: models.Word2Vec = models.Word2Vec.load(\"./data/w2vec.bin\")\n",
    "ev = moyenne.word_emb_vers_doc_emb_moyenne(docs, w2vec.wv)"
   ]
  },
  {
   "cell_type": "code",
   "execution_count": 21,
   "metadata": {},
   "outputs": [],
   "source": [
    "res = k_means(ev, n_clusters = 4)"
   ]
  },
  {
   "cell_type": "code",
   "execution_count": 22,
   "metadata": {},
   "outputs": [],
   "source": [
    "clustersDocs: list[int] = res[1]\n",
    "nomsClusters = list(set(clustersDocs))\n",
    "K: int = len(nomsClusters)"
   ]
  },
  {
   "cell_type": "markdown",
   "metadata": {},
   "source": [
    "Calcul des probabilités empiriques d'appartenance des mots aux divers clusters"
   ]
  },
  {
   "cell_type": "code",
   "execution_count": 23,
   "metadata": {},
   "outputs": [],
   "source": [
    "# Probabilité que chaque mot appartienne à un cluster / topic\n",
    "term_frequency_topics: pd.DataFrame = pd.DataFrame(columns = vocabulaireMin, index = nomsClusters, dtype = float)\n",
    "term_frequency_topics.loc[:,:] = 0\n",
    "\n",
    "for i, doc in enumerate(docs):\n",
    "    clusterDoc: int = clustersDocs[i]\n",
    "    for mot in doc:\n",
    "        if mot in vocabulaireMin:\n",
    "            term_frequency_topics.loc[clusterDoc, mot] += 1 / term_frequency_corpus[mot]"
   ]
  },
  {
   "cell_type": "markdown",
   "metadata": {},
   "source": [
    "Probabilité d'appartenance d'un document à un cluster. Dans notre cadre l'appartenance est certaine (probabilité de 0 ou de 1)"
   ]
  },
  {
   "cell_type": "code",
   "execution_count": 24,
   "metadata": {},
   "outputs": [],
   "source": [
    "# Probabilité qu'un document appartienne à un cluster / topic (soit 0 soit 1 pour notre cas)\n",
    "topic_docs_matrice: pd.DataFrame = pd.DataFrame(columns = nomsClusters, index = range(len(docs)), dtype = float)\n",
    "topic_docs_matrice.loc[:,:] = 0\n",
    "\n",
    "for i in range(len(docs)):\n",
    "    topic_docs_matrice.loc[i,clustersDocs[i]] = 1"
   ]
  },
  {
   "cell_type": "code",
   "execution_count": 25,
   "metadata": {},
   "outputs": [
    {
     "name": "stderr",
     "output_type": "stream",
     "text": [
      "C:\\Users\\atero\\AppData\\Local\\Programs\\Python\\Python310\\lib\\site-packages\\pyLDAvis\\_prepare.py:247: FutureWarning: In a future version of pandas all arguments of DataFrame.drop except for the argument 'labels' will be keyword-only\n",
      "  by='saliency', ascending=False).head(R).drop('saliency', 1)\n"
     ]
    }
   ],
   "source": [
    "visualisation = pyLDAvis.prepare(topic_term_dists = term_frequency_topics.to_numpy(), doc_topic_dists = topic_docs_matrice.to_numpy(), **args_pyLDA)\n",
    "pyLDAvis.save_html(visualisation, \"data/LDAvis/GloVe.html\")"
   ]
  },
  {
   "cell_type": "code",
   "execution_count": 26,
   "metadata": {},
   "outputs": [
    {
     "data": {
      "text/html": [
       "\n",
       "<link rel=\"stylesheet\" type=\"text/css\" href=\"https://cdn.jsdelivr.net/gh/bmabey/pyLDAvis@3.3.1/pyLDAvis/js/ldavis.v1.0.0.css\">\n",
       "\n",
       "\n",
       "<div id=\"ldavis_el2365215629648896009167443480\"></div>\n",
       "<script type=\"text/javascript\">\n",
       "\n",
       "var ldavis_el2365215629648896009167443480_data = {\"mdsDat\": {\"x\": [0.09304522653983006, 0.15866191277938113, -0.004672738425927947, -0.24703440089328338], \"y\": [0.008501380725744445, -0.005229893736825662, -0.0031745853371171417, -9.69016518012612e-05], \"topics\": [1, 2, 3, 4], \"cluster\": [1, 1, 1, 1], \"Freq\": [39.5441100192057, 27.436109514530443, 25.594044831985197, 7.425735634278665]}, \"tinfo\": {\"Term\": [\"restreindre\", \"retrouver\", \"feuille\", \"atelier\", \"affichage\", \"securite\", \"lien\", \"eolien\", \"allocation\", \"gare\", \"urgence\", \"priveer\", \"accord\", \"date\", \"noel\", \"faune\", \"trottoir\", \"compenser\", \"consigne\", \"carte\", \"isoler\", \"terrasse\", \"risque\", \"energivore\", \"bouteille\", \"nettoyage\", \"tourner\", \"croissance\", \"vide\", \"reguler\", \"securite\", \"atelier\", \"gare\", \"compenser\", \"nettoyage\", \"terrasse\", \"ramassage\", \"risque\", \"rare\", \"couvert\", \"renovation\", \"billet\", \"reserve\", \"traitement\", \"lien\", \"eolien\", \"borne\", \"affichage\", \"frais\", \"depot\", \"mois\", \"urgence\", \"professionnel\", \"changement\", \"verts\", \"source\", \"bonus\", \"financierement\", \"agricole\", \"gratuite\", \"sachet\", \"argent\", \"interdir\", \"date\", \"paysan\", \"grace\", \"restreindre\", \"feuille\", \"noel\", \"energivore\", \"fleur\", \"tourner\", \"accepter\", \"retrouver\", \"demain\", \"isoler\", \"croissance\", \"carte\", \"ticket\", \"vide\", \"elu\", \"inscrire\", \"reguler\", \"boire\", \"conserver\", \"technique\", \"decision\", \"navire\", \"peche\", \"materiel\", \"lycee\", \"contenir\", \"distribuer\", \"methode\", \"destruction\", \"medicament\", \"controler\", \"charbon\", \"allocation\", \"feu\", \"expliquer\", \"saison\", \"panneau\", \"maternelle\", \"publicitaire\", \"poisson\", \"maximum\", \"recyclable\", \"local\", \"potable\", \"verre\", \"habitude\", \"transport\", \"intensif\", \"lumineux\", \"legume\", \"fruit\", \"suremballage\", \"vrac\", \"entree\", \"severement\", \"toit\", \"consigne\", \"deplacement\", \"compost\", \"solaire\", \"consignees\", \"responsable\", \"consommer\", \"privilegier\", \"suv\", \"sac\", \"manger\", \"marchandise\", \"promouvoir\", \"echelle\", \"service\", \"marque\", \"fortement\", \"commercant\", \"commune\", \"consigne\", \"bouteille\", \"verre\", \"consignees\", \"emballage\", \"plastique\", \"remettre\", \"unique\", \"consommer\", \"saison\", \"recyclable\", \"vrac\", \"transport_commun\", \"fruit\", \"reduire\", \"production\", \"payer\", \"contenant\", \"utilisation\", \"boire\", \"legume\", \"fonction\", \"emballe\", \"local\", \"voiture\", \"polluant\", \"usage\", \"revenir\", \"avion\", \"train\", \"gratuit\"], \"Freq\": [20635.0, 22450.0, 21232.0, 25495.0, 24695.0, 26506.0, 25329.0, 25329.0, 23409.0, 26414.0, 25185.0, 23601.0, 23601.0, 24969.0, 20748.0, 24282.0, 24429.0, 24953.0, 14188.0, 22259.0, 22034.0, 25966.0, 25865.0, 20459.0, 15435.0, 25977.0, 20134.0, 22074.0, 22377.0, 22528.0, 22919.0, 21939.555555555562, 22566.400000000005, 20685.866666666665, 21438.08, 21156.0, 20928.516129032247, 20784.842105263153, 20685.866666666665, 20372.44444444445, 20018.580645161277, 18805.33333333334, 18805.333333333332, 18805.33333333334, 18805.333333333336, 18805.333333333332, 17630.0, 18252.235294117647, 17950.545454545456, 17630.0, 18335.2, 18335.2, 17630.0, 17462.09523809524, 17238.222222222226, 17095.757575757565, 17815.57894736842, 17126.28571428571, 16715.851851851865, 16924.8, 17630.0, 17056.0, 17551.644444444442, 17630.0, 17238.222222222226, 17238.222222222226, 15656.8, 14678.250000000002, 14301.88461538461, 13047.333333333332, 12721.15, 12360.631578947368, 12454.272727272728, 13047.333333333332, 11742.6, 12663.588235294119, 12394.966666666665, 12454.272727272728, 11512.35294117647, 11960.055555555558, 10764.05, 11742.6, 11742.6, 9133.133333333333, 10437.866666666667, 10872.777777777781, 10675.09090909091, 10437.866666666667, 11008.6875, 11008.6875, 10872.777777777781, 10872.777777777781, 10361.117647058823, 10361.117647058823, 10361.117647058823, 10484.464285714283, 10872.777777777777, 10764.05, 10872.777777777781, 10437.866666666667, 10437.866666666667, 9641.337078651697, 9889.208333333343, 9665.470588235294, 9563.19047619048, 9128.499999999996, 8672.075000000004, 7847.30701754387, 8039.779816513777, 7937.826086956518, 6691.047120418853, 7824.428571428574, 8426.307692307682, 8398.220000000003, 8942.204081632657, 7781.672131147547, 7687.157894736852, 8114.222222222218, 7397.232758620693, 7987.4375, 8519.933333333332, 8354.89830508475, 5797.831081081074, 7899.663461538467, 8611.792452830188, 8131.268907563036, 6389.95, 8354.898305084738, 7108.92035398231, 7762.818897637786, 8298.63636363636, 8225.681318681321, 7656.161290322576, 8233.549019607839, 8259.119047619053, 8114.222222222224, 7875.568627450984, 8215.65, 7950.62903225806, 7937.82608695652, 7854.755813953492, 2362.175675675672, 2173.669322709162, 1913.575916230368, 1853.9499999999998, 1556.521640091115, 1557.9411764705842, 1435.6355140186915, 1393.947368421052, 1359.4070796460192, 1249.8539325842696, 1301.017543859649, 1278.5862068965512, 1196.0967741935478, 1161.622807017544, 1171.7606060606051, 1167.618279569892, 1140.8923076923077, 1123.6060606060603, 1150.2057142857154, 1059.4, 1085.4508196721315, 1135.071428571429, 1095.9310344827588, 1036.7217125382256, 1049.2460063897747, 1059.4000000000005, 1052.3841059602655, 1040.4821428571424, 1067.9435483870961, 1087.7767857142853, 1086.5641025641028], \"Total\": [20635.0, 22450.0, 21232.0, 25495.0, 24695.0, 26506.0, 25329.0, 25329.0, 23409.0, 26414.0, 25185.0, 23601.0, 23601.0, 24969.0, 20748.0, 24282.0, 24429.0, 24953.0, 14188.0, 22259.0, 22034.0, 25966.0, 25865.0, 20459.0, 15435.0, 25977.0, 20134.0, 22074.0, 22377.0, 22528.0, 26506.4375, 25495.66666666667, 26414.900000000005, 24953.2, 25977.440000000002, 25966.625, 25809.548387096762, 25865.94736842105, 25817.199999999997, 25662.833333333336, 25446.16129032257, 25110.000000000004, 25241.4, 25256.000000000004, 25329.0, 25329.0, 23748.5, 24695.882352941175, 24299.0, 23994.875, 25053.65, 25185.05, 24276.6875, 24050.285714285714, 23764.166666666668, 23701.545454545445, 24749.315789473683, 23882.749999999996, 23323.666666666675, 23710.999999999996, 24722.75, 23915.55813953488, 24799.13333333333, 24969.125, 24557.166666666668, 24703.16666666667, 20635.0, 21232.7, 20748.15384615384, 20459.8, 20453.3, 20134.36842105263, 20765.68181818182, 22450.0, 20372.2, 22034.0, 22074.5, 22259.409090909092, 21194.35294117647, 22377.000000000004, 20171.45, 22362.4, 22528.25, 17605.000000000004, 20284.6, 21198.333333333336, 21098.545454545456, 20948.0, 22105.8125, 22105.8125, 22304.000000000004, 22304.000000000004, 21294.058823529413, 21294.058823529413, 21879.411764705885, 22159.464285714283, 23041.111111111113, 22960.1, 23409.66666666667, 22274.8, 22938.199999999997, 17061.786516853943, 19904.000000000015, 21415.647058823528, 21421.857142857145, 20563.464285714283, 19575.27500000001, 17924.736842105274, 18655.0642201835, 18582.630434782604, 15741.649214659696, 18479.64285714286, 19906.727272727254, 19844.780000000002, 21165.040816326535, 18492.967213114764, 18387.657894736854, 19591.388888888883, 17901.318965517243, 19371.125, 20685.199999999997, 20395.03389830509, 14188.87837837837, 19435.134615384617, 21239.509433962266, 20067.563025210104, 15842.600000000002, 20735.584745762702, 17650.907079646036, 19280.708661417306, 20816.818181818177, 20856.219780219788, 19358.677419354826, 21076.588235294108, 21242.964285714297, 21552.83333333334, 20399.08823529412, 22866.35, 21790.758064516114, 22003.86956521739, 22188.779069767454, 14188.87837837837, 15435.649402390429, 15741.649214659696, 15842.600000000002, 17045.170842824587, 17445.886877828012, 18102.962616822428, 18013.565789473676, 17650.907079646036, 17061.786516853943, 17924.736842105274, 17901.318965517243, 18521.338709677413, 18387.657894736854, 18609.20000000001, 18872.64516129031, 18616.95384615385, 18381.0909090909, 18943.60571428574, 17605.000000000004, 18492.967213114764, 19468.27142857143, 19188.241379310344, 18655.0642201835, 18905.63258785938, 19100.88124999999, 19080.350993377484, 18866.1875, 19462.758064516114, 19918.946428571442, 20275.53846153847], \"Category\": [\"Default\", \"Default\", \"Default\", \"Default\", \"Default\", \"Default\", \"Default\", \"Default\", \"Default\", \"Default\", \"Default\", \"Default\", \"Default\", \"Default\", \"Default\", \"Default\", \"Default\", \"Default\", \"Default\", \"Default\", \"Default\", \"Default\", \"Default\", \"Default\", \"Default\", \"Default\", \"Default\", \"Default\", \"Default\", \"Default\", \"Topic1\", \"Topic1\", \"Topic1\", \"Topic1\", \"Topic1\", \"Topic1\", \"Topic1\", \"Topic1\", \"Topic1\", \"Topic1\", \"Topic1\", \"Topic1\", \"Topic1\", \"Topic1\", \"Topic1\", \"Topic1\", \"Topic1\", \"Topic1\", \"Topic1\", \"Topic1\", \"Topic1\", \"Topic1\", \"Topic1\", \"Topic1\", \"Topic1\", \"Topic1\", \"Topic1\", \"Topic1\", \"Topic1\", \"Topic1\", \"Topic1\", \"Topic1\", \"Topic1\", \"Topic1\", \"Topic1\", \"Topic1\", \"Topic2\", \"Topic2\", \"Topic2\", \"Topic2\", \"Topic2\", \"Topic2\", \"Topic2\", \"Topic2\", \"Topic2\", \"Topic2\", \"Topic2\", \"Topic2\", \"Topic2\", \"Topic2\", \"Topic2\", \"Topic2\", \"Topic2\", \"Topic2\", \"Topic2\", \"Topic2\", \"Topic2\", \"Topic2\", \"Topic2\", \"Topic2\", \"Topic2\", \"Topic2\", \"Topic2\", \"Topic2\", \"Topic2\", \"Topic2\", \"Topic2\", \"Topic2\", \"Topic2\", \"Topic2\", \"Topic2\", \"Topic3\", \"Topic3\", \"Topic3\", \"Topic3\", \"Topic3\", \"Topic3\", \"Topic3\", \"Topic3\", \"Topic3\", \"Topic3\", \"Topic3\", \"Topic3\", \"Topic3\", \"Topic3\", \"Topic3\", \"Topic3\", \"Topic3\", \"Topic3\", \"Topic3\", \"Topic3\", \"Topic3\", \"Topic3\", \"Topic3\", \"Topic3\", \"Topic3\", \"Topic3\", \"Topic3\", \"Topic3\", \"Topic3\", \"Topic3\", \"Topic3\", \"Topic3\", \"Topic3\", \"Topic3\", \"Topic3\", \"Topic3\", \"Topic3\", \"Topic3\", \"Topic3\", \"Topic3\", \"Topic4\", \"Topic4\", \"Topic4\", \"Topic4\", \"Topic4\", \"Topic4\", \"Topic4\", \"Topic4\", \"Topic4\", \"Topic4\", \"Topic4\", \"Topic4\", \"Topic4\", \"Topic4\", \"Topic4\", \"Topic4\", \"Topic4\", \"Topic4\", \"Topic4\", \"Topic4\", \"Topic4\", \"Topic4\", \"Topic4\", \"Topic4\", \"Topic4\", \"Topic4\", \"Topic4\", \"Topic4\", \"Topic4\", \"Topic4\", \"Topic4\"], \"logprob\": [30.0, 29.0, 28.0, 27.0, 26.0, 25.0, 24.0, 23.0, 22.0, 21.0, 20.0, 19.0, 18.0, 17.0, 16.0, 15.0, 14.0, 13.0, 12.0, 11.0, 10.0, 9.0, 8.0, 7.0, 6.0, 5.0, 4.0, 3.0, 2.0, 1.0, -0.2076, -0.2513, -0.2231, -0.3102, -0.2744, -0.2877, -0.2985, -0.3054, -0.3102, -0.3254, -0.3429, -0.4055, -0.4055, -0.4055, -0.4055, -0.4055, -0.47, -0.4353, -0.452, -0.47, -0.4308, -0.4308, -0.47, -0.4796, -0.4925, -0.5008, -0.4595, -0.499, -0.5232, -0.5108, -0.47, -0.5031, -0.4745, -0.47, -0.4925, -0.4925, -0.2231, -0.2877, -0.3137, -0.4055, -0.4308, -0.4595, -0.452, -0.4055, -0.5108, -0.4353, -0.4568, -0.452, -0.5306, -0.4925, -0.5978, -0.5108, -0.5108, -0.7621, -0.6286, -0.5878, -0.6061, -0.6286, -0.5754, -0.5754, -0.5878, -0.5878, -0.636, -0.636, -0.636, -0.6242, -0.5878, -0.5978, -0.5878, -0.6286, -0.6286, -0.6385, -0.6131, -0.636, -0.6466, -0.6931, -0.7444, -0.8444, -0.8201, -0.8329, -1.0038, -0.8473, -0.7732, -0.7765, -0.7138, -0.8528, -0.865, -0.8109, -0.9034, -0.8267, -0.7621, -0.7817, -1.1471, -0.8377, -0.7514, -0.8088, -1.0498, -0.7817, -0.9432, -0.8552, -0.7885, -0.7973, -0.869, -0.7963, -0.7932, -0.8109, -0.8408, -0.7985, -0.8313, -0.8329, -0.8434, -0.8076, -0.8907, -1.0182, -1.0498, -1.2247, -1.2238, -1.3055, -1.335, -1.3601, -1.4441, -1.404, -1.4214, -1.4881, -1.5173, -1.5086, -1.5122, -1.5353, -1.5506, -1.5272, -1.6094, -1.5851, -1.5404, -1.5755, -1.6311, -1.6191, -1.6094, -1.6161, -1.6275, -1.6014, -1.583, -1.5841], \"loglift\": [30.0, 29.0, 28.0, 27.0, 26.0, 25.0, 24.0, 23.0, 22.0, 21.0, 20.0, 19.0, 18.0, 17.0, 16.0, 15.0, 14.0, 13.0, 12.0, 11.0, 10.0, 9.0, 8.0, 7.0, 6.0, 5.0, 4.0, 3.0, 2.0, 1.0, 6.4265, 6.4217, 6.4144, 6.3843, 6.3798, 6.367, 6.3623, 6.3532, 6.3503, 6.341, 6.332, 6.2828, 6.2775, 6.277, 6.2741, 6.2741, 6.274, 6.2695, 6.2691, 6.2636, 6.2597, 6.2545, 6.252, 6.2518, 6.2508, 6.2452, 6.2432, 6.2393, 6.2388, 6.2347, 6.2338, 6.2339, 6.2262, 6.2238, 6.218, 6.2121, 6.6614, 6.5683, 6.5654, 6.4876, 6.4626, 6.4495, 6.4262, 6.3947, 6.3865, 6.3836, 6.3603, 6.3567, 6.3271, 6.311, 6.3094, 6.2933, 6.2859, 6.2812, 6.273, 6.2698, 6.2562, 6.2408, 6.2403, 6.2403, 6.2189, 6.2189, 6.2171, 6.2171, 6.19, 6.1891, 6.1864, 6.1799, 6.1706, 6.1794, 6.1501, 6.4362, 6.3075, 6.2114, 6.2005, 6.1948, 6.1928, 6.1809, 6.1652, 6.1564, 6.1514, 6.1475, 6.1472, 6.147, 6.1454, 6.1413, 6.1348, 6.1255, 6.1232, 6.121, 6.1199, 6.1145, 6.112, 6.1067, 6.1042, 6.1036, 6.099, 6.0979, 6.0975, 6.0972, 6.0873, 6.0766, 6.0793, 6.067, 6.0622, 6.0301, 6.0552, 5.9833, 5.9987, 5.9874, 5.9685, 6.4515, 6.2841, 6.137, 6.099, 5.8509, 5.8286, 5.7099, 5.6854, 5.6806, 5.6305, 5.6213, 5.6052, 5.5045, 5.4825, 5.4792, 5.4616, 5.4521, 5.4496, 5.4428, 5.4339, 5.409, 5.4023, 5.3817, 5.3543, 5.353, 5.3523, 5.3467, 5.3467, 5.3416, 5.3368, 5.318]}, \"token.table\": {\"Topic\": [1, 2, 3, 4, 1, 2, 1, 3, 1, 2, 3, 4, 1, 2, 1, 2, 3, 4, 1, 2, 4, 1, 2, 3, 4, 1, 2, 3, 1, 2, 3, 4, 1, 2, 3, 1, 2, 3, 4, 1, 2, 3, 4, 1, 2, 3, 1, 2, 3, 4, 1, 2, 3, 1, 2, 3, 1, 2, 3, 4, 1, 2, 4, 1, 2, 3, 4, 1, 2, 3, 1, 2, 3, 4, 1, 2, 3, 4, 1, 2, 3, 4, 1, 2, 3, 4, 1, 2, 3, 1, 2, 3, 1, 2, 3, 1, 2, 3, 1, 2, 1, 2, 3, 4, 1, 2, 3, 1, 2, 3, 4, 1, 2, 3, 4, 1, 2, 3, 1, 2, 3, 1, 2, 3, 4, 1, 2, 3, 4, 1, 2, 3, 4, 1, 2, 3, 4, 1, 2, 3, 1, 2, 3, 4, 1, 2, 1, 2, 3, 1, 2, 1, 2, 3, 1, 2, 3, 1, 2, 3, 4, 1, 2, 3, 4, 1, 2, 3, 4, 1, 2, 3, 4, 1, 2, 3, 4, 1, 2, 3, 4, 1, 2, 3, 1, 2, 3, 1, 2, 3, 4, 1, 2, 3, 4, 1, 2, 3, 4, 1, 2, 3, 1, 2, 3, 4, 1, 2, 3, 1, 2, 3, 1, 2, 3, 4, 1, 2, 1, 2, 3, 4, 1, 2, 3, 4, 1, 2, 3, 1, 2, 3, 4, 1, 2, 3, 4, 1, 2, 3, 1, 2, 3, 1, 2, 3, 1, 2, 3, 4, 1, 2, 3, 1, 2, 3, 1, 2, 3, 1, 2, 3, 1, 2, 3, 1, 2, 3, 1, 2, 3, 4, 1, 2, 3, 4, 1, 2, 3, 1, 2, 3, 1, 2, 3, 4, 1, 2, 3, 4, 1, 2, 3, 4, 1, 2, 3, 4, 1, 2, 1, 2, 3, 4, 1, 2, 3, 4, 1, 2, 3, 4, 1, 2, 3, 4, 1, 2, 3, 4, 1, 2, 3, 1, 2, 3, 1, 2, 3, 4, 1, 2, 3, 4, 1, 2, 3, 1, 2, 3, 4, 1, 2, 3, 1, 2, 3, 1, 2, 3, 4, 1, 2, 3, 1, 2, 1, 2, 3, 4, 1, 2, 3, 1, 2, 3, 4, 1, 2, 3, 1, 2, 3, 4, 1, 2, 3, 1, 2, 3, 4, 1, 2, 3, 1, 2, 3, 4, 1, 2, 3, 4, 1, 2, 3, 4, 1, 2, 3, 4, 1, 2, 3, 1, 2, 3, 1, 2, 3, 4, 1, 2, 3, 4, 1, 2, 3, 1, 2, 3, 4, 1, 2, 3, 1, 2, 3, 4, 1, 2, 3, 4, 1, 2, 1, 2, 3, 4, 1, 2, 1, 2, 3, 4, 1, 2, 3, 4, 1, 2, 3, 4, 1, 2, 3, 4, 1, 2, 3, 1, 2, 3, 4, 1, 2, 3, 4], \"Freq\": [0.3087305322374109, 0.5997395177795531, 0.07993958563626612, 0.011605686830325384, 0.5577587960138296, 0.44225815198969565, 0.739070576185599, 0.2609341876473811, 0.7166969172943074, 0.08287719197953435, 0.18363321947664027, 0.016806962884623623, 0.535547992994347, 0.4644662461376354, 0.7131759125372313, 0.15224399024085714, 0.12427056824933463, 0.010286191046210067, 0.8605383921450702, 0.12794331062794984, 0.011531371344149985, 0.5376421967181328, 0.09731405968885165, 0.3101821427357959, 0.054874031545772736, 0.7489048187972918, 0.12990840302668258, 0.12118677817602547, 0.21363249076966767, 0.5187730758307298, 0.20738426583356998, 0.06015336552115875, 0.7198582842268899, 0.12485193636400368, 0.15531742504311657, 0.7423626755374023, 0.05149798934669558, 0.19218055877213297, 0.013937722382466261, 0.44410182048695707, 0.07579856017064038, 0.33927953813131934, 0.14084279471023262, 0.4032002809843437, 0.5594937380923695, 0.03728760258685295, 0.7260620604447824, 0.15500855350693785, 0.10843946017867326, 0.010478045998859533, 0.49141772030609626, 0.4688132891407268, 0.039764635171449604, 0.4458761206032932, 0.1933750782965052, 0.36075472891131805, 0.517378624750096, 0.12308022858819793, 0.35400776109860665, 0.005543342408036743, 0.8289918727858551, 0.1568536299953513, 0.014146482214705929, 0.47609385854415137, 0.10433385982336228, 0.4054707584832112, 0.014124620012188034, 0.18541159303116653, 0.5145775613026632, 0.3000305650592075, 0.3223651565700965, 0.10254510336893101, 0.4086299033216921, 0.16646840835561172, 0.3561284132654993, 0.1235277037859947, 0.40334288563745846, 0.11702624569199499, 0.4172023549141971, 0.1030541938605275, 0.4027555053075811, 0.07699321025643588, 0.4185279338450584, 0.12904565957110078, 0.3912716625781437, 0.06114979821160088, 0.4215835724533715, 0.4874910329985652, 0.09097022955523672, 0.498760669335005, 0.4718956454646284, 0.02933886290205912, 0.7938328451651869, 0.1271098930359729, 0.07906375627528786, 0.38333824095676006, 0.5615076219166912, 0.055131486556886905, 0.7060719989186646, 0.2939229948986999, 0.36462229192878437, 0.5059590493097327, 0.11801761431205941, 0.01142258837317523, 0.18461432736768732, 0.576422772209187, 0.2390021696233102, 0.4186747435008168, 0.1355791998432656, 0.40648033349593865, 0.03931024997353128, 0.7347402309868253, 0.20391854510598617, 0.047551820961767875, 0.013794612391187702, 0.37916924317784645, 0.4735502083613388, 0.14726172872697943, 0.3116831814452526, 0.486567642452051, 0.20174641366412613, 0.5089818044031332, 0.1009148062513049, 0.37647022433245425, 0.01364089794845225, 0.349603028042109, 0.5336254954403377, 0.09052398315440882, 0.026274759623130712, 0.41090817244277933, 0.10982582792873828, 0.38791045633804355, 0.09134552034457559, 0.5069250385023875, 0.14065906023624383, 0.29528500752076975, 0.05711831419745211, 0.18382388879656694, 0.637689517981603, 0.17844749215534855, 0.3640470029489769, 0.18945724628796728, 0.41231472100871785, 0.034174576850854045, 0.7424296261202574, 0.2575703738797426, 0.49188689609472414, 0.4550487832523913, 0.05305560157292203, 0.6336357135636818, 0.3663605425622327, 0.4221362256900174, 0.4686012893493993, 0.10927146371684594, 0.26572221149453434, 0.6912922049480282, 0.0429997127072864, 0.7170866001612043, 0.029267986308109412, 0.24570034857794856, 0.007913661533952331, 0.27584790718368185, 0.6219534256085815, 0.08927654706086549, 0.01295634445297336, 0.558858039344604, 0.11490491121451094, 0.267923118862266, 0.0582999884794233, 0.5219644018957433, 0.10141914262261235, 0.36487945836759766, 0.011748099778908942, 0.7387546812626034, 0.18305280052677064, 0.06831556854191531, 0.009918103625663607, 0.4440478524639665, 0.0746696511246817, 0.41805215454874595, 0.0631945627144065, 0.8542905708520568, 0.11114938917050601, 0.03456382571957493, 0.6978052746274093, 0.22005275976764108, 0.08213521883159378, 0.6421037855392248, 0.061897246397705434, 0.2424103315097388, 0.05361139986797276, 0.7138037197925015, 0.08253553203154655, 0.19248450086457766, 0.01117624731137447, 0.3271167114392285, 0.2017355004541677, 0.42338480567419745, 0.04778230871808747, 0.42048259578578323, 0.5251225270990592, 0.05442170786677637, 0.4264093630667611, 0.11836865916377, 0.42318433361317176, 0.03204873019504373, 0.7077666692653238, 0.210450902854132, 0.08181737533838548, 0.3765090314967777, 0.5747481165471544, 0.048742851956067895, 0.4250805135492356, 0.09544168762427183, 0.42080861931562796, 0.05867095244891497, 0.7424296261202574, 0.2575703738797426, 0.430017281383612, 0.083408986516193, 0.43098216683174273, 0.05558812276175588, 0.43519878274435986, 0.13210463538738793, 0.42248914507654606, 0.010205508313188767, 0.4215835724533715, 0.4874910329985652, 0.09097022955523672, 0.32905140480471395, 0.24459315569078816, 0.3954815628233736, 0.030890540042891514, 0.4986101110236618, 0.09104889171704321, 0.39067044001987167, 0.01969009383146062, 0.5551388831186438, 0.08558427558399133, 0.3593052673469968, 0.39876389976618143, 0.49801381424003305, 0.1032307679258566, 0.3873803101635418, 0.16128394302132032, 0.45130553251333555, 0.43228000628343644, 0.08745726432961985, 0.44300782492199964, 0.03718977128035237, 0.4091705414487522, 0.4731161306439526, 0.1176923758793808, 0.3116831814452526, 0.486567642452051, 0.20174641366412613, 0.7318294939060775, 0.1953008843022873, 0.0728835918119715, 0.26933358793202217, 0.4982814588504869, 0.23243269047164408, 0.825254528544768, 0.09042461458865846, 0.08434241403309949, 0.20917523709245686, 0.6893143412203497, 0.10155120381424115, 0.42514067524115723, 0.04918609324758839, 0.4968348070739546, 0.028838424437299014, 0.44287588980102494, 0.19407041720450008, 0.3017679501397402, 0.06128822198459302, 0.7019539441982313, 0.13283291367760938, 0.16520635523913588, 0.39876389976618143, 0.49801381424003305, 0.1032307679258566, 0.4682479060655831, 0.10151389908705444, 0.3409399614736306, 0.08930471754806935, 0.3429383250807171, 0.20395396134267263, 0.4438940770471902, 0.009191058343768509, 0.4891920889775703, 0.10884314565329288, 0.3464761606221704, 0.055442468132196804, 0.3629733704101891, 0.16025718266590708, 0.4271731081269209, 0.049562412772095506, 0.5577587960138296, 0.44225815198969565, 0.4262291466726567, 0.12789986318992108, 0.4026304290119049, 0.043255671492455065, 0.4982343449813011, 0.12266431018097544, 0.3172846174357153, 0.061888515892604454, 0.7262111027297279, 0.12596446693973384, 0.1409994670813306, 0.006837835680835781, 0.4268236710305763, 0.17549339865468053, 0.3887875481461927, 0.008897063397461004, 0.43894420251678856, 0.10876741378965409, 0.4464132094723013, 0.005881842977466272, 0.8109014418269811, 0.097832010158781, 0.09128404591449031, 0.8012487798831788, 0.1516043567853989, 0.047139116557953616, 0.4417359133217838, 0.04786681152186038, 0.43777490677393754, 0.07258126082743631, 0.4685316940008165, 0.11472819895535534, 0.35380349504546116, 0.06297960148743628, 0.4382497530877898, 0.52125664443532, 0.04052689401085304, 0.4951123299382505, 0.16168624229937065, 0.26393469959220806, 0.07932403277823583, 0.7867198423997033, 0.07443165899920265, 0.13888145876619967, 0.7450062199402568, 0.20676349172391387, 0.04821444135428304, 0.4496135563239974, 0.12799253228401686, 0.40293052269516233, 0.019483414861621254, 0.18226314514174946, 0.7587593893869639, 0.05897746547128665, 0.41884187082405344, 0.5811581291759466, 0.44052355569984664, 0.175976200808987, 0.32831222524423653, 0.05512507495221279, 0.8035661599379799, 0.15928277983856037, 0.037153095006033136, 0.4904532128924566, 0.09282602602011887, 0.39441471593052574, 0.022343454610214565, 0.7131083718437472, 0.14844626912459172, 0.13845547117533447, 0.29721389345663035, 0.06441294989328274, 0.5650639216752856, 0.07326313682129519, 0.8646578779211653, 0.0922794698457686, 0.043046146808676196, 0.44737293621831425, 0.141084737062931, 0.38609568766770136, 0.02544231359821445, 0.2727553999961325, 0.3153945816332451, 0.4118886933653047, 0.5079341217065035, 0.049183849516758464, 0.4051812364952007, 0.037722567461181515, 0.7213031754737899, 0.1250973277538481, 0.1400330626694846, 0.013543420643839878, 0.4532603609862611, 0.09248961420125057, 0.41416155056785164, 0.04006862425385304, 0.4927265978120839, 0.08545974627158986, 0.39866803502412834, 0.023154355088761278, 0.29568362292633066, 0.5129176822077207, 0.19138297035930496, 0.8147381494514593, 0.14133527171898544, 0.04394102044451291, 0.3914250188729518, 0.543163550779342, 0.050673875394111646, 0.014720902349127405, 0.4219654668343157, 0.14635915855222312, 0.409658549314514, 0.02201516321271296, 0.14745930629220005, 0.6139253907301734, 0.2385970048594574, 0.6069096095694959, 0.043877822711865286, 0.29459389436295824, 0.054621362826669836, 0.7445755464048146, 0.21523598352866644, 0.04014887551472917, 0.46572195785801096, 0.07560258295505409, 0.4232739959995255, 0.03536492916967315, 0.46670492535636765, 0.11359870001732966, 0.35504992933172996, 0.06457416597943264, 0.6495066121897618, 0.3504805958006391, 0.473920605157955, 0.12868079685558623, 0.3200365806179701, 0.0773861220089246, 0.7280112606486785, 0.2719867540465475, 0.4699599081333628, 0.18338237075483846, 0.29150407148854285, 0.05513525408233497, 0.49351745074327313, 0.15942054778529094, 0.28637631514410705, 0.06070649998446509, 0.3752465780077858, 0.07813666682742113, 0.4250507623920933, 0.12158827667291384, 0.7253778447943332, 0.09152435389416838, 0.17071922011431775, 0.012371567836728967, 0.4202082495419403, 0.5344773651517182, 0.045314385306341326, 0.45764139125162356, 0.12900917166697987, 0.357882761582118, 0.05548610950334641, 0.42108629059792835, 0.09423886604387173, 0.41320977600860653, 0.07144724935987667], \"Term\": [\"accepter\", \"accepter\", \"accepter\", \"accepter\", \"accord\", \"accord\", \"affichage\", \"affichage\", \"agricole\", \"agricole\", \"agricole\", \"agricole\", \"allocation\", \"allocation\", \"argent\", \"argent\", \"argent\", \"argent\", \"atelier\", \"atelier\", \"atelier\", \"avion\", \"avion\", \"avion\", \"avion\", \"billet\", \"billet\", \"billet\", \"boire\", \"boire\", \"boire\", \"boire\", \"bonus\", \"bonus\", \"bonus\", \"borne\", \"borne\", \"borne\", \"borne\", \"bouteille\", \"bouteille\", \"bouteille\", \"bouteille\", \"carte\", \"carte\", \"carte\", \"changement\", \"changement\", \"changement\", \"changement\", \"charbon\", \"charbon\", \"charbon\", \"commercant\", \"commercant\", \"commercant\", \"commune\", \"commune\", \"commune\", \"commune\", \"compenser\", \"compenser\", \"compenser\", \"compost\", \"compost\", \"compost\", \"compost\", \"conserver\", \"conserver\", \"conserver\", \"consigne\", \"consigne\", \"consigne\", \"consigne\", \"consignees\", \"consignees\", \"consignees\", \"consignees\", \"consommer\", \"consommer\", \"consommer\", \"consommer\", \"contenant\", \"contenant\", \"contenant\", \"contenant\", \"contenir\", \"contenir\", \"contenir\", \"controler\", \"controler\", \"controler\", \"couvert\", \"couvert\", \"couvert\", \"croissance\", \"croissance\", \"croissance\", \"date\", \"date\", \"decision\", \"decision\", \"decision\", \"decision\", \"demain\", \"demain\", \"demain\", \"deplacement\", \"deplacement\", \"deplacement\", \"deplacement\", \"depot\", \"depot\", \"depot\", \"depot\", \"destruction\", \"destruction\", \"destruction\", \"distribuer\", \"distribuer\", \"distribuer\", \"echelle\", \"echelle\", \"echelle\", \"echelle\", \"elu\", \"elu\", \"elu\", \"elu\", \"emballage\", \"emballage\", \"emballage\", \"emballage\", \"emballe\", \"emballe\", \"emballe\", \"emballe\", \"energivore\", \"energivore\", \"energivore\", \"entree\", \"entree\", \"entree\", \"entree\", \"eolien\", \"eolien\", \"expliquer\", \"expliquer\", \"expliquer\", \"faune\", \"faune\", \"feu\", \"feu\", \"feu\", \"feuille\", \"feuille\", \"feuille\", \"financierement\", \"financierement\", \"financierement\", \"financierement\", \"fleur\", \"fleur\", \"fleur\", \"fleur\", \"fonction\", \"fonction\", \"fonction\", \"fonction\", \"fortement\", \"fortement\", \"fortement\", \"fortement\", \"frais\", \"frais\", \"frais\", \"frais\", \"fruit\", \"fruit\", \"fruit\", \"fruit\", \"gare\", \"gare\", \"gare\", \"grace\", \"grace\", \"grace\", \"gratuit\", \"gratuit\", \"gratuit\", \"gratuit\", \"gratuite\", \"gratuite\", \"gratuite\", \"gratuite\", \"habitude\", \"habitude\", \"habitude\", \"habitude\", \"inscrire\", \"inscrire\", \"inscrire\", \"intensif\", \"intensif\", \"intensif\", \"intensif\", \"interdir\", \"interdir\", \"interdir\", \"isoler\", \"isoler\", \"isoler\", \"legume\", \"legume\", \"legume\", \"legume\", \"lien\", \"lien\", \"local\", \"local\", \"local\", \"local\", \"lumineux\", \"lumineux\", \"lumineux\", \"lumineux\", \"lycee\", \"lycee\", \"lycee\", \"manger\", \"manger\", \"manger\", \"manger\", \"marchandise\", \"marchandise\", \"marchandise\", \"marchandise\", \"marque\", \"marque\", \"marque\", \"materiel\", \"materiel\", \"materiel\", \"maternelle\", \"maternelle\", \"maternelle\", \"maximum\", \"maximum\", \"maximum\", \"maximum\", \"medicament\", \"medicament\", \"medicament\", \"methode\", \"methode\", \"methode\", \"mois\", \"mois\", \"mois\", \"navire\", \"navire\", \"navire\", \"nettoyage\", \"nettoyage\", \"nettoyage\", \"noel\", \"noel\", \"noel\", \"panneau\", \"panneau\", \"panneau\", \"panneau\", \"payer\", \"payer\", \"payer\", \"payer\", \"paysan\", \"paysan\", \"paysan\", \"peche\", \"peche\", \"peche\", \"plastique\", \"plastique\", \"plastique\", \"plastique\", \"poisson\", \"poisson\", \"poisson\", \"poisson\", \"polluant\", \"polluant\", \"polluant\", \"polluant\", \"potable\", \"potable\", \"potable\", \"potable\", \"priveer\", \"priveer\", \"privilegier\", \"privilegier\", \"privilegier\", \"privilegier\", \"production\", \"production\", \"production\", \"production\", \"professionnel\", \"professionnel\", \"professionnel\", \"professionnel\", \"promouvoir\", \"promouvoir\", \"promouvoir\", \"promouvoir\", \"publicitaire\", \"publicitaire\", \"publicitaire\", \"publicitaire\", \"ramassage\", \"ramassage\", \"ramassage\", \"rare\", \"rare\", \"rare\", \"recyclable\", \"recyclable\", \"recyclable\", \"recyclable\", \"reduire\", \"reduire\", \"reduire\", \"reduire\", \"reguler\", \"reguler\", \"reguler\", \"remettre\", \"remettre\", \"remettre\", \"remettre\", \"renovation\", \"renovation\", \"renovation\", \"reserve\", \"reserve\", \"reserve\", \"responsable\", \"responsable\", \"responsable\", \"responsable\", \"restreindre\", \"restreindre\", \"restreindre\", \"retrouver\", \"retrouver\", \"revenir\", \"revenir\", \"revenir\", \"revenir\", \"risque\", \"risque\", \"risque\", \"sac\", \"sac\", \"sac\", \"sac\", \"sachet\", \"sachet\", \"sachet\", \"saison\", \"saison\", \"saison\", \"saison\", \"securite\", \"securite\", \"securite\", \"service\", \"service\", \"service\", \"service\", \"severement\", \"severement\", \"severement\", \"solaire\", \"solaire\", \"solaire\", \"solaire\", \"source\", \"source\", \"source\", \"source\", \"suremballage\", \"suremballage\", \"suremballage\", \"suremballage\", \"suv\", \"suv\", \"suv\", \"suv\", \"technique\", \"technique\", \"technique\", \"terrasse\", \"terrasse\", \"terrasse\", \"ticket\", \"ticket\", \"ticket\", \"ticket\", \"toit\", \"toit\", \"toit\", \"toit\", \"tourner\", \"tourner\", \"tourner\", \"train\", \"train\", \"train\", \"train\", \"traitement\", \"traitement\", \"traitement\", \"transport\", \"transport\", \"transport\", \"transport\", \"transport_commun\", \"transport_commun\", \"transport_commun\", \"transport_commun\", \"trottoir\", \"trottoir\", \"unique\", \"unique\", \"unique\", \"unique\", \"urgence\", \"urgence\", \"usage\", \"usage\", \"usage\", \"usage\", \"utilisation\", \"utilisation\", \"utilisation\", \"utilisation\", \"verre\", \"verre\", \"verre\", \"verre\", \"verts\", \"verts\", \"verts\", \"verts\", \"vide\", \"vide\", \"vide\", \"voiture\", \"voiture\", \"voiture\", \"voiture\", \"vrac\", \"vrac\", \"vrac\", \"vrac\"]}, \"R\": 30, \"lambda.step\": 0.01, \"plot.opts\": {\"xlab\": \"PC1\", \"ylab\": \"PC2\"}, \"topic.order\": [2, 4, 1, 3]};\n",
       "\n",
       "function LDAvis_load_lib(url, callback){\n",
       "  var s = document.createElement('script');\n",
       "  s.src = url;\n",
       "  s.async = true;\n",
       "  s.onreadystatechange = s.onload = callback;\n",
       "  s.onerror = function(){console.warn(\"failed to load library \" + url);};\n",
       "  document.getElementsByTagName(\"head\")[0].appendChild(s);\n",
       "}\n",
       "\n",
       "if(typeof(LDAvis) !== \"undefined\"){\n",
       "   // already loaded: just create the visualization\n",
       "   !function(LDAvis){\n",
       "       new LDAvis(\"#\" + \"ldavis_el2365215629648896009167443480\", ldavis_el2365215629648896009167443480_data);\n",
       "   }(LDAvis);\n",
       "}else if(typeof define === \"function\" && define.amd){\n",
       "   // require.js is available: use it to load d3/LDAvis\n",
       "   require.config({paths: {d3: \"https://d3js.org/d3.v5\"}});\n",
       "   require([\"d3\"], function(d3){\n",
       "      window.d3 = d3;\n",
       "      LDAvis_load_lib(\"https://cdn.jsdelivr.net/gh/bmabey/pyLDAvis@3.3.1/pyLDAvis/js/ldavis.v3.0.0.js\", function(){\n",
       "        new LDAvis(\"#\" + \"ldavis_el2365215629648896009167443480\", ldavis_el2365215629648896009167443480_data);\n",
       "      });\n",
       "    });\n",
       "}else{\n",
       "    // require.js not available: dynamically load d3 & LDAvis\n",
       "    LDAvis_load_lib(\"https://d3js.org/d3.v5.js\", function(){\n",
       "         LDAvis_load_lib(\"https://cdn.jsdelivr.net/gh/bmabey/pyLDAvis@3.3.1/pyLDAvis/js/ldavis.v3.0.0.js\", function(){\n",
       "                 new LDAvis(\"#\" + \"ldavis_el2365215629648896009167443480\", ldavis_el2365215629648896009167443480_data);\n",
       "            })\n",
       "         });\n",
       "}\n",
       "</script>"
      ],
      "text/plain": [
       "<IPython.core.display.HTML object>"
      ]
     },
     "execution_count": 26,
     "metadata": {},
     "output_type": "execute_result"
    }
   ],
   "source": [
    "pyLDAvis.display(visualisation)"
   ]
  }
 ],
 "metadata": {
  "interpreter": {
   "hash": "5b30fa72fb85a99ca85a46e451030dfd87e2e54de7bf1c3c1af71cbda6f4de60"
  },
  "kernelspec": {
   "display_name": "Python 3.10.4 64-bit",
   "language": "python",
   "name": "python3"
  },
  "language_info": {
   "codemirror_mode": {
    "name": "ipython",
    "version": 3
   },
   "file_extension": ".py",
   "mimetype": "text/x-python",
   "name": "python",
   "nbconvert_exporter": "python",
   "pygments_lexer": "ipython3",
   "version": "3.10.4"
  },
  "orig_nbformat": 4
 },
 "nbformat": 4,
 "nbformat_minor": 2
}
