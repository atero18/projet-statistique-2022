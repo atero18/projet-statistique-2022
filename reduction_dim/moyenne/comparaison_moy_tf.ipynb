{
 "cells": [
  {
   "cell_type": "markdown",
   "source": [
    "# Imports"
   ],
   "metadata": {}
  },
  {
   "cell_type": "code",
   "execution_count": 1,
   "source": [
    "%cd \"../..\"\n",
    "import numpy as np\n",
    "import pandas as pd\n",
    "import matplotlib.pyplot as plt\n",
    "import json\n",
    "\n",
    "from sklearn import preprocessing\n",
    "from sklearn.manifold import TSNE\n",
    "from sklearn.metrics.pairwise import euclidean_distances\n",
    "import scipy.spatial as sp\n",
    "\n",
    "from gensim import models\n",
    "from reduction_dim.correlation_matrix import *\n",
    "from doc_embedding.moyenne import word_emb_vers_doc_emb_moyenne"
   ],
   "outputs": [
    {
     "output_type": "stream",
     "name": "stdout",
     "text": [
      "/home/id1897/projet-statistique-2022/projet-statistique-2022\n"
     ]
    }
   ],
   "metadata": {}
  },
  {
   "cell_type": "markdown",
   "source": [
    "# CBOW"
   ],
   "metadata": {}
  },
  {
   "cell_type": "markdown",
   "source": [
    "### Matrice distance avant reduction"
   ],
   "metadata": {}
  },
  {
   "cell_type": "code",
   "execution_count": 2,
   "source": [
    "#fichier sous la forme d'un dataframe\n",
    "cbow_model = models.KeyedVectors.load_word2vec_format('data/tunning/cbow.kv')\n",
    "data = pd.DataFrame(cbow_model.vectors,index=cbow_model.index_to_key)\n",
    "\n",
    "with open(\"data/docs.json\") as file:\n",
    "    docs = json.load(file)\n",
    "moy_embedding_tf = word_emb_vers_doc_emb_moyenne(docs=docs, modele=cbow_model, methode = 'TF')\n",
    "\n",
    "moy_embedding_tf = np.array(moy_embedding_tf)\n",
    "\n",
    "initial_distance_cbow = euclidean_distances(moy_embedding_tf)"
   ],
   "outputs": [],
   "metadata": {}
  },
  {
   "cell_type": "markdown",
   "source": [
    "### Matrice après réduction TSNE"
   ],
   "metadata": {}
  },
  {
   "cell_type": "code",
   "execution_count": 3,
   "source": [
    "data=pd.DataFrame(moy_embedding_tf)\n",
    "X = data.values\n",
    "\n",
    "# Centrage et Réduction\n",
    "std_scale = preprocessing.StandardScaler().fit(X)\n",
    "X_scaled = std_scale.transform(X)\n",
    "mod_tsne=[]\n",
    "divergence=[]\n",
    "for index, p in enumerate([50,75,100,125,150,200]):\n",
    "    tsne = TSNE(n_components = 2, perplexity=p, n_iter=2000, random_state=0)\n",
    "    tsne_results = tsne.fit_transform(X_scaled)\n",
    "    tsne_distance = euclidean_distances(tsne_results)\n",
    "    mod_tsne.append(tsne_distance)  \n",
    "    divergence.append(tsne.kl_divergence_)"
   ],
   "outputs": [
    {
     "output_type": "stream",
     "name": "stderr",
     "text": [
      "/home/id1897/.local/lib/python3.9/site-packages/sklearn/manifold/_t_sne.py:780: FutureWarning: The default initialization in TSNE will change from 'random' to 'pca' in 1.2.\n",
      "  warnings.warn(\n",
      "/home/id1897/.local/lib/python3.9/site-packages/sklearn/manifold/_t_sne.py:790: FutureWarning: The default learning rate in TSNE will change from 200.0 to 'auto' in 1.2.\n",
      "  warnings.warn(\n",
      "/home/id1897/.local/lib/python3.9/site-packages/sklearn/manifold/_t_sne.py:780: FutureWarning: The default initialization in TSNE will change from 'random' to 'pca' in 1.2.\n",
      "  warnings.warn(\n",
      "/home/id1897/.local/lib/python3.9/site-packages/sklearn/manifold/_t_sne.py:790: FutureWarning: The default learning rate in TSNE will change from 200.0 to 'auto' in 1.2.\n",
      "  warnings.warn(\n",
      "/home/id1897/.local/lib/python3.9/site-packages/sklearn/manifold/_t_sne.py:780: FutureWarning: The default initialization in TSNE will change from 'random' to 'pca' in 1.2.\n",
      "  warnings.warn(\n",
      "/home/id1897/.local/lib/python3.9/site-packages/sklearn/manifold/_t_sne.py:790: FutureWarning: The default learning rate in TSNE will change from 200.0 to 'auto' in 1.2.\n",
      "  warnings.warn(\n",
      "/home/id1897/.local/lib/python3.9/site-packages/sklearn/manifold/_t_sne.py:780: FutureWarning: The default initialization in TSNE will change from 'random' to 'pca' in 1.2.\n",
      "  warnings.warn(\n",
      "/home/id1897/.local/lib/python3.9/site-packages/sklearn/manifold/_t_sne.py:790: FutureWarning: The default learning rate in TSNE will change from 200.0 to 'auto' in 1.2.\n",
      "  warnings.warn(\n",
      "/home/id1897/.local/lib/python3.9/site-packages/sklearn/manifold/_t_sne.py:780: FutureWarning: The default initialization in TSNE will change from 'random' to 'pca' in 1.2.\n",
      "  warnings.warn(\n",
      "/home/id1897/.local/lib/python3.9/site-packages/sklearn/manifold/_t_sne.py:790: FutureWarning: The default learning rate in TSNE will change from 200.0 to 'auto' in 1.2.\n",
      "  warnings.warn(\n",
      "/home/id1897/.local/lib/python3.9/site-packages/sklearn/manifold/_t_sne.py:780: FutureWarning: The default initialization in TSNE will change from 'random' to 'pca' in 1.2.\n",
      "  warnings.warn(\n",
      "/home/id1897/.local/lib/python3.9/site-packages/sklearn/manifold/_t_sne.py:790: FutureWarning: The default learning rate in TSNE will change from 200.0 to 'auto' in 1.2.\n",
      "  warnings.warn(\n"
     ]
    }
   ],
   "metadata": {}
  },
  {
   "cell_type": "markdown",
   "source": [
    "### Etude hyperparamètres"
   ],
   "metadata": {}
  },
  {
   "cell_type": "code",
   "execution_count": 4,
   "source": [
    "#Etude de la perplexité et de epsilon\n",
    "x = np.array([50,75,100,125,150,200])\n",
    "correlation=[]\n",
    "correlation1=[]\n",
    "correlation2=[]\n",
    "correlation3=[]\n",
    "for i in range(len(mod_tsne)):\n",
    "    c=correlation_epsilon(initial_distance=initial_distance_cbow,new_distance=mod_tsne[i],epsilon=np.inf)\n",
    "    c1=correlation_epsilon(initial_distance=initial_distance_cbow,new_distance=mod_tsne[i],epsilon=0.7)\n",
    "    c2=correlation_epsilon(initial_distance=initial_distance_cbow,new_distance=mod_tsne[i],epsilon=0.5)\n",
    "    c3=correlation_epsilon(initial_distance=initial_distance_cbow,new_distance=mod_tsne[i],epsilon=0.2)\n",
    "    correlation.append(c)\n",
    "    correlation1.append(c1)\n",
    "    correlation2.append(c2)\n",
    "    correlation3.append(c3)\n",
    "\n",
    "plt.plot(x, correlation, \"o-\",label=\"np.inf\")\n",
    "plt.plot(x, correlation1, \"o-\",label=\"0.7\")\n",
    "plt.plot(x, correlation2,\"o-\", label= \"0.5\")\n",
    "plt.plot(x, correlation3,\"o-\",label=\"0.2\")\n",
    "plt.legend()\n",
    "plt.title(\"Correlation en fonction de la perplexité pour différents epsilons\")\n",
    "\n",
    "plt.show()"
   ],
   "outputs": [
    {
     "output_type": "display_data",
     "data": {
      "text/plain": [
       "<Figure size 432x288 with 1 Axes>"
      ],
      "image/svg+xml": "<?xml version=\"1.0\" encoding=\"utf-8\" standalone=\"no\"?>\n<!DOCTYPE svg PUBLIC \"-//W3C//DTD SVG 1.1//EN\"\n  \"http://www.w3.org/Graphics/SVG/1.1/DTD/svg11.dtd\">\n<svg xmlns:xlink=\"http://www.w3.org/1999/xlink\" width=\"395.10375pt\" height=\"264.11625pt\" viewBox=\"0 0 395.10375 264.11625\" xmlns=\"http://www.w3.org/2000/svg\" version=\"1.1\">\n <metadata>\n  <rdf:RDF xmlns:dc=\"http://purl.org/dc/elements/1.1/\" xmlns:cc=\"http://creativecommons.org/ns#\" xmlns:rdf=\"http://www.w3.org/1999/02/22-rdf-syntax-ns#\">\n   <cc:Work>\n    <dc:type rdf:resource=\"http://purl.org/dc/dcmitype/StillImage\"/>\n    <dc:date>2022-03-28T15:28:55.419919</dc:date>\n    <dc:format>image/svg+xml</dc:format>\n    <dc:creator>\n     <cc:Agent>\n      <dc:title>Matplotlib v3.5.1, https://matplotlib.org/</dc:title>\n     </cc:Agent>\n    </dc:creator>\n   </cc:Work>\n  </rdf:RDF>\n </metadata>\n <defs>\n  <style type=\"text/css\">*{stroke-linejoin: round; stroke-linecap: butt}</style>\n </defs>\n <g id=\"figure_1\">\n  <g id=\"patch_1\">\n   <path d=\"M 0 264.11625 \nL 395.10375 264.11625 \nL 395.10375 0 \nL 0 0 \nL 0 264.11625 \nz\n\" style=\"fill: none\"/>\n  </g>\n  <g id=\"axes_1\">\n   <g id=\"patch_2\">\n    <path d=\"M 30.151875 240.238125 \nL 364.951875 240.238125 \nL 364.951875 22.798125 \nL 30.151875 22.798125 \nz\n\" style=\"fill: #ffffff\"/>\n   </g>\n   <g id=\"matplotlib.axis_1\">\n    <g id=\"xtick_1\">\n     <g id=\"line2d_1\">\n      <defs>\n       <path id=\"mdacf7c3ff8\" d=\"M 0 0 \nL 0 3.5 \n\" style=\"stroke: #000000; stroke-width: 0.8\"/>\n      </defs>\n      <g>\n       <use xlink:href=\"#mdacf7c3ff8\" x=\"65.660966\" y=\"240.238125\" style=\"stroke: #000000; stroke-width: 0.8\"/>\n      </g>\n     </g>\n     <g id=\"text_1\">\n      <!-- 60 -->\n      <g transform=\"translate(59.298466 254.836562)scale(0.1 -0.1)\">\n       <defs>\n        <path id=\"DejaVuSans-36\" d=\"M 2113 2584 \nQ 1688 2584 1439 2293 \nQ 1191 2003 1191 1497 \nQ 1191 994 1439 701 \nQ 1688 409 2113 409 \nQ 2538 409 2786 701 \nQ 3034 994 3034 1497 \nQ 3034 2003 2786 2293 \nQ 2538 2584 2113 2584 \nz\nM 3366 4563 \nL 3366 3988 \nQ 3128 4100 2886 4159 \nQ 2644 4219 2406 4219 \nQ 1781 4219 1451 3797 \nQ 1122 3375 1075 2522 \nQ 1259 2794 1537 2939 \nQ 1816 3084 2150 3084 \nQ 2853 3084 3261 2657 \nQ 3669 2231 3669 1497 \nQ 3669 778 3244 343 \nQ 2819 -91 2113 -91 \nQ 1303 -91 875 529 \nQ 447 1150 447 2328 \nQ 447 3434 972 4092 \nQ 1497 4750 2381 4750 \nQ 2619 4750 2861 4703 \nQ 3103 4656 3366 4563 \nz\n\" transform=\"scale(0.015625)\"/>\n        <path id=\"DejaVuSans-30\" d=\"M 2034 4250 \nQ 1547 4250 1301 3770 \nQ 1056 3291 1056 2328 \nQ 1056 1369 1301 889 \nQ 1547 409 2034 409 \nQ 2525 409 2770 889 \nQ 3016 1369 3016 2328 \nQ 3016 3291 2770 3770 \nQ 2525 4250 2034 4250 \nz\nM 2034 4750 \nQ 2819 4750 3233 4129 \nQ 3647 3509 3647 2328 \nQ 3647 1150 3233 529 \nQ 2819 -91 2034 -91 \nQ 1250 -91 836 529 \nQ 422 1150 422 2328 \nQ 422 3509 836 4129 \nQ 1250 4750 2034 4750 \nz\n\" transform=\"scale(0.015625)\"/>\n       </defs>\n       <use xlink:href=\"#DejaVuSans-36\"/>\n       <use xlink:href=\"#DejaVuSans-30\" x=\"63.623047\"/>\n      </g>\n     </g>\n    </g>\n    <g id=\"xtick_2\">\n     <g id=\"line2d_2\">\n      <g>\n       <use xlink:href=\"#mdacf7c3ff8\" x=\"106.242784\" y=\"240.238125\" style=\"stroke: #000000; stroke-width: 0.8\"/>\n      </g>\n     </g>\n     <g id=\"text_2\">\n      <!-- 80 -->\n      <g transform=\"translate(99.880284 254.836562)scale(0.1 -0.1)\">\n       <defs>\n        <path id=\"DejaVuSans-38\" d=\"M 2034 2216 \nQ 1584 2216 1326 1975 \nQ 1069 1734 1069 1313 \nQ 1069 891 1326 650 \nQ 1584 409 2034 409 \nQ 2484 409 2743 651 \nQ 3003 894 3003 1313 \nQ 3003 1734 2745 1975 \nQ 2488 2216 2034 2216 \nz\nM 1403 2484 \nQ 997 2584 770 2862 \nQ 544 3141 544 3541 \nQ 544 4100 942 4425 \nQ 1341 4750 2034 4750 \nQ 2731 4750 3128 4425 \nQ 3525 4100 3525 3541 \nQ 3525 3141 3298 2862 \nQ 3072 2584 2669 2484 \nQ 3125 2378 3379 2068 \nQ 3634 1759 3634 1313 \nQ 3634 634 3220 271 \nQ 2806 -91 2034 -91 \nQ 1263 -91 848 271 \nQ 434 634 434 1313 \nQ 434 1759 690 2068 \nQ 947 2378 1403 2484 \nz\nM 1172 3481 \nQ 1172 3119 1398 2916 \nQ 1625 2713 2034 2713 \nQ 2441 2713 2670 2916 \nQ 2900 3119 2900 3481 \nQ 2900 3844 2670 4047 \nQ 2441 4250 2034 4250 \nQ 1625 4250 1398 4047 \nQ 1172 3844 1172 3481 \nz\n\" transform=\"scale(0.015625)\"/>\n       </defs>\n       <use xlink:href=\"#DejaVuSans-38\"/>\n       <use xlink:href=\"#DejaVuSans-30\" x=\"63.623047\"/>\n      </g>\n     </g>\n    </g>\n    <g id=\"xtick_3\">\n     <g id=\"line2d_3\">\n      <g>\n       <use xlink:href=\"#mdacf7c3ff8\" x=\"146.824602\" y=\"240.238125\" style=\"stroke: #000000; stroke-width: 0.8\"/>\n      </g>\n     </g>\n     <g id=\"text_3\">\n      <!-- 100 -->\n      <g transform=\"translate(137.280852 254.836562)scale(0.1 -0.1)\">\n       <defs>\n        <path id=\"DejaVuSans-31\" d=\"M 794 531 \nL 1825 531 \nL 1825 4091 \nL 703 3866 \nL 703 4441 \nL 1819 4666 \nL 2450 4666 \nL 2450 531 \nL 3481 531 \nL 3481 0 \nL 794 0 \nL 794 531 \nz\n\" transform=\"scale(0.015625)\"/>\n       </defs>\n       <use xlink:href=\"#DejaVuSans-31\"/>\n       <use xlink:href=\"#DejaVuSans-30\" x=\"63.623047\"/>\n       <use xlink:href=\"#DejaVuSans-30\" x=\"127.246094\"/>\n      </g>\n     </g>\n    </g>\n    <g id=\"xtick_4\">\n     <g id=\"line2d_4\">\n      <g>\n       <use xlink:href=\"#mdacf7c3ff8\" x=\"187.40642\" y=\"240.238125\" style=\"stroke: #000000; stroke-width: 0.8\"/>\n      </g>\n     </g>\n     <g id=\"text_4\">\n      <!-- 120 -->\n      <g transform=\"translate(177.86267 254.836562)scale(0.1 -0.1)\">\n       <defs>\n        <path id=\"DejaVuSans-32\" d=\"M 1228 531 \nL 3431 531 \nL 3431 0 \nL 469 0 \nL 469 531 \nQ 828 903 1448 1529 \nQ 2069 2156 2228 2338 \nQ 2531 2678 2651 2914 \nQ 2772 3150 2772 3378 \nQ 2772 3750 2511 3984 \nQ 2250 4219 1831 4219 \nQ 1534 4219 1204 4116 \nQ 875 4013 500 3803 \nL 500 4441 \nQ 881 4594 1212 4672 \nQ 1544 4750 1819 4750 \nQ 2544 4750 2975 4387 \nQ 3406 4025 3406 3419 \nQ 3406 3131 3298 2873 \nQ 3191 2616 2906 2266 \nQ 2828 2175 2409 1742 \nQ 1991 1309 1228 531 \nz\n\" transform=\"scale(0.015625)\"/>\n       </defs>\n       <use xlink:href=\"#DejaVuSans-31\"/>\n       <use xlink:href=\"#DejaVuSans-32\" x=\"63.623047\"/>\n       <use xlink:href=\"#DejaVuSans-30\" x=\"127.246094\"/>\n      </g>\n     </g>\n    </g>\n    <g id=\"xtick_5\">\n     <g id=\"line2d_5\">\n      <g>\n       <use xlink:href=\"#mdacf7c3ff8\" x=\"227.988239\" y=\"240.238125\" style=\"stroke: #000000; stroke-width: 0.8\"/>\n      </g>\n     </g>\n     <g id=\"text_5\">\n      <!-- 140 -->\n      <g transform=\"translate(218.444489 254.836562)scale(0.1 -0.1)\">\n       <defs>\n        <path id=\"DejaVuSans-34\" d=\"M 2419 4116 \nL 825 1625 \nL 2419 1625 \nL 2419 4116 \nz\nM 2253 4666 \nL 3047 4666 \nL 3047 1625 \nL 3713 1625 \nL 3713 1100 \nL 3047 1100 \nL 3047 0 \nL 2419 0 \nL 2419 1100 \nL 313 1100 \nL 313 1709 \nL 2253 4666 \nz\n\" transform=\"scale(0.015625)\"/>\n       </defs>\n       <use xlink:href=\"#DejaVuSans-31\"/>\n       <use xlink:href=\"#DejaVuSans-34\" x=\"63.623047\"/>\n       <use xlink:href=\"#DejaVuSans-30\" x=\"127.246094\"/>\n      </g>\n     </g>\n    </g>\n    <g id=\"xtick_6\">\n     <g id=\"line2d_6\">\n      <g>\n       <use xlink:href=\"#mdacf7c3ff8\" x=\"268.570057\" y=\"240.238125\" style=\"stroke: #000000; stroke-width: 0.8\"/>\n      </g>\n     </g>\n     <g id=\"text_6\">\n      <!-- 160 -->\n      <g transform=\"translate(259.026307 254.836562)scale(0.1 -0.1)\">\n       <use xlink:href=\"#DejaVuSans-31\"/>\n       <use xlink:href=\"#DejaVuSans-36\" x=\"63.623047\"/>\n       <use xlink:href=\"#DejaVuSans-30\" x=\"127.246094\"/>\n      </g>\n     </g>\n    </g>\n    <g id=\"xtick_7\">\n     <g id=\"line2d_7\">\n      <g>\n       <use xlink:href=\"#mdacf7c3ff8\" x=\"309.151875\" y=\"240.238125\" style=\"stroke: #000000; stroke-width: 0.8\"/>\n      </g>\n     </g>\n     <g id=\"text_7\">\n      <!-- 180 -->\n      <g transform=\"translate(299.608125 254.836562)scale(0.1 -0.1)\">\n       <use xlink:href=\"#DejaVuSans-31\"/>\n       <use xlink:href=\"#DejaVuSans-38\" x=\"63.623047\"/>\n       <use xlink:href=\"#DejaVuSans-30\" x=\"127.246094\"/>\n      </g>\n     </g>\n    </g>\n    <g id=\"xtick_8\">\n     <g id=\"line2d_8\">\n      <g>\n       <use xlink:href=\"#mdacf7c3ff8\" x=\"349.733693\" y=\"240.238125\" style=\"stroke: #000000; stroke-width: 0.8\"/>\n      </g>\n     </g>\n     <g id=\"text_8\">\n      <!-- 200 -->\n      <g transform=\"translate(340.189943 254.836562)scale(0.1 -0.1)\">\n       <use xlink:href=\"#DejaVuSans-32\"/>\n       <use xlink:href=\"#DejaVuSans-30\" x=\"63.623047\"/>\n       <use xlink:href=\"#DejaVuSans-30\" x=\"127.246094\"/>\n      </g>\n     </g>\n    </g>\n   </g>\n   <g id=\"matplotlib.axis_2\">\n    <g id=\"ytick_1\">\n     <g id=\"line2d_9\">\n      <defs>\n       <path id=\"me740148d8d\" d=\"M 0 0 \nL -3.5 0 \n\" style=\"stroke: #000000; stroke-width: 0.8\"/>\n      </defs>\n      <g>\n       <use xlink:href=\"#me740148d8d\" x=\"30.151875\" y=\"230.588384\" style=\"stroke: #000000; stroke-width: 0.8\"/>\n      </g>\n     </g>\n     <g id=\"text_9\">\n      <!-- 0.3 -->\n      <g transform=\"translate(7.24875 234.387602)scale(0.1 -0.1)\">\n       <defs>\n        <path id=\"DejaVuSans-2e\" d=\"M 684 794 \nL 1344 794 \nL 1344 0 \nL 684 0 \nL 684 794 \nz\n\" transform=\"scale(0.015625)\"/>\n        <path id=\"DejaVuSans-33\" d=\"M 2597 2516 \nQ 3050 2419 3304 2112 \nQ 3559 1806 3559 1356 \nQ 3559 666 3084 287 \nQ 2609 -91 1734 -91 \nQ 1441 -91 1130 -33 \nQ 819 25 488 141 \nL 488 750 \nQ 750 597 1062 519 \nQ 1375 441 1716 441 \nQ 2309 441 2620 675 \nQ 2931 909 2931 1356 \nQ 2931 1769 2642 2001 \nQ 2353 2234 1838 2234 \nL 1294 2234 \nL 1294 2753 \nL 1863 2753 \nQ 2328 2753 2575 2939 \nQ 2822 3125 2822 3475 \nQ 2822 3834 2567 4026 \nQ 2313 4219 1838 4219 \nQ 1578 4219 1281 4162 \nQ 984 4106 628 3988 \nL 628 4550 \nQ 988 4650 1302 4700 \nQ 1616 4750 1894 4750 \nQ 2613 4750 3031 4423 \nQ 3450 4097 3450 3541 \nQ 3450 3153 3228 2886 \nQ 3006 2619 2597 2516 \nz\n\" transform=\"scale(0.015625)\"/>\n       </defs>\n       <use xlink:href=\"#DejaVuSans-30\"/>\n       <use xlink:href=\"#DejaVuSans-2e\" x=\"63.623047\"/>\n       <use xlink:href=\"#DejaVuSans-33\" x=\"95.410156\"/>\n      </g>\n     </g>\n    </g>\n    <g id=\"ytick_2\">\n     <g id=\"line2d_10\">\n      <g>\n       <use xlink:href=\"#me740148d8d\" x=\"30.151875\" y=\"188.569268\" style=\"stroke: #000000; stroke-width: 0.8\"/>\n      </g>\n     </g>\n     <g id=\"text_10\">\n      <!-- 0.4 -->\n      <g transform=\"translate(7.24875 192.368487)scale(0.1 -0.1)\">\n       <use xlink:href=\"#DejaVuSans-30\"/>\n       <use xlink:href=\"#DejaVuSans-2e\" x=\"63.623047\"/>\n       <use xlink:href=\"#DejaVuSans-34\" x=\"95.410156\"/>\n      </g>\n     </g>\n    </g>\n    <g id=\"ytick_3\">\n     <g id=\"line2d_11\">\n      <g>\n       <use xlink:href=\"#me740148d8d\" x=\"30.151875\" y=\"146.550152\" style=\"stroke: #000000; stroke-width: 0.8\"/>\n      </g>\n     </g>\n     <g id=\"text_11\">\n      <!-- 0.5 -->\n      <g transform=\"translate(7.24875 150.349371)scale(0.1 -0.1)\">\n       <defs>\n        <path id=\"DejaVuSans-35\" d=\"M 691 4666 \nL 3169 4666 \nL 3169 4134 \nL 1269 4134 \nL 1269 2991 \nQ 1406 3038 1543 3061 \nQ 1681 3084 1819 3084 \nQ 2600 3084 3056 2656 \nQ 3513 2228 3513 1497 \nQ 3513 744 3044 326 \nQ 2575 -91 1722 -91 \nQ 1428 -91 1123 -41 \nQ 819 9 494 109 \nL 494 744 \nQ 775 591 1075 516 \nQ 1375 441 1709 441 \nQ 2250 441 2565 725 \nQ 2881 1009 2881 1497 \nQ 2881 1984 2565 2268 \nQ 2250 2553 1709 2553 \nQ 1456 2553 1204 2497 \nQ 953 2441 691 2322 \nL 691 4666 \nz\n\" transform=\"scale(0.015625)\"/>\n       </defs>\n       <use xlink:href=\"#DejaVuSans-30\"/>\n       <use xlink:href=\"#DejaVuSans-2e\" x=\"63.623047\"/>\n       <use xlink:href=\"#DejaVuSans-35\" x=\"95.410156\"/>\n      </g>\n     </g>\n    </g>\n    <g id=\"ytick_4\">\n     <g id=\"line2d_12\">\n      <g>\n       <use xlink:href=\"#me740148d8d\" x=\"30.151875\" y=\"104.531037\" style=\"stroke: #000000; stroke-width: 0.8\"/>\n      </g>\n     </g>\n     <g id=\"text_12\">\n      <!-- 0.6 -->\n      <g transform=\"translate(7.24875 108.330255)scale(0.1 -0.1)\">\n       <use xlink:href=\"#DejaVuSans-30\"/>\n       <use xlink:href=\"#DejaVuSans-2e\" x=\"63.623047\"/>\n       <use xlink:href=\"#DejaVuSans-36\" x=\"95.410156\"/>\n      </g>\n     </g>\n    </g>\n    <g id=\"ytick_5\">\n     <g id=\"line2d_13\">\n      <g>\n       <use xlink:href=\"#me740148d8d\" x=\"30.151875\" y=\"62.511921\" style=\"stroke: #000000; stroke-width: 0.8\"/>\n      </g>\n     </g>\n     <g id=\"text_13\">\n      <!-- 0.7 -->\n      <g transform=\"translate(7.24875 66.31114)scale(0.1 -0.1)\">\n       <defs>\n        <path id=\"DejaVuSans-37\" d=\"M 525 4666 \nL 3525 4666 \nL 3525 4397 \nL 1831 0 \nL 1172 0 \nL 2766 4134 \nL 525 4134 \nL 525 4666 \nz\n\" transform=\"scale(0.015625)\"/>\n       </defs>\n       <use xlink:href=\"#DejaVuSans-30\"/>\n       <use xlink:href=\"#DejaVuSans-2e\" x=\"63.623047\"/>\n       <use xlink:href=\"#DejaVuSans-37\" x=\"95.410156\"/>\n      </g>\n     </g>\n    </g>\n   </g>\n   <g id=\"line2d_14\">\n    <path d=\"M 45.370057 45.548609 \nL 96.09733 38.905483 \nL 146.824602 38.707051 \nL 197.551875 34.587146 \nL 248.279148 32.681761 \nL 349.733693 32.868758 \n\" clip-path=\"url(#pc124a61521)\" style=\"fill: none; stroke: #1f77b4; stroke-width: 1.5; stroke-linecap: square\"/>\n    <defs>\n     <path id=\"mba195c30b2\" d=\"M 0 3 \nC 0.795609 3 1.55874 2.683901 2.12132 2.12132 \nC 2.683901 1.55874 3 0.795609 3 0 \nC 3 -0.795609 2.683901 -1.55874 2.12132 -2.12132 \nC 1.55874 -2.683901 0.795609 -3 0 -3 \nC -0.795609 -3 -1.55874 -2.683901 -2.12132 -2.12132 \nC -2.683901 -1.55874 -3 -0.795609 -3 0 \nC -3 0.795609 -2.683901 1.55874 -2.12132 2.12132 \nC -1.55874 2.683901 -0.795609 3 0 3 \nz\n\" style=\"stroke: #1f77b4\"/>\n    </defs>\n    <g clip-path=\"url(#pc124a61521)\">\n     <use xlink:href=\"#mba195c30b2\" x=\"45.370057\" y=\"45.548609\" style=\"fill: #1f77b4; stroke: #1f77b4\"/>\n     <use xlink:href=\"#mba195c30b2\" x=\"96.09733\" y=\"38.905483\" style=\"fill: #1f77b4; stroke: #1f77b4\"/>\n     <use xlink:href=\"#mba195c30b2\" x=\"146.824602\" y=\"38.707051\" style=\"fill: #1f77b4; stroke: #1f77b4\"/>\n     <use xlink:href=\"#mba195c30b2\" x=\"197.551875\" y=\"34.587146\" style=\"fill: #1f77b4; stroke: #1f77b4\"/>\n     <use xlink:href=\"#mba195c30b2\" x=\"248.279148\" y=\"32.681761\" style=\"fill: #1f77b4; stroke: #1f77b4\"/>\n     <use xlink:href=\"#mba195c30b2\" x=\"349.733693\" y=\"32.868758\" style=\"fill: #1f77b4; stroke: #1f77b4\"/>\n    </g>\n   </g>\n   <g id=\"line2d_15\">\n    <path d=\"M 45.370057 156.886023 \nL 96.09733 153.464301 \nL 146.824602 154.21341 \nL 197.551875 147.038021 \nL 248.279148 144.378467 \nL 349.733693 144.566587 \n\" clip-path=\"url(#pc124a61521)\" style=\"fill: none; stroke: #ff7f0e; stroke-width: 1.5; stroke-linecap: square\"/>\n    <defs>\n     <path id=\"m36ca7787a6\" d=\"M 0 3 \nC 0.795609 3 1.55874 2.683901 2.12132 2.12132 \nC 2.683901 1.55874 3 0.795609 3 0 \nC 3 -0.795609 2.683901 -1.55874 2.12132 -2.12132 \nC 1.55874 -2.683901 0.795609 -3 0 -3 \nC -0.795609 -3 -1.55874 -2.683901 -2.12132 -2.12132 \nC -2.683901 -1.55874 -3 -0.795609 -3 0 \nC -3 0.795609 -2.683901 1.55874 -2.12132 2.12132 \nC -1.55874 2.683901 -0.795609 3 0 3 \nz\n\" style=\"stroke: #ff7f0e\"/>\n    </defs>\n    <g clip-path=\"url(#pc124a61521)\">\n     <use xlink:href=\"#m36ca7787a6\" x=\"45.370057\" y=\"156.886023\" style=\"fill: #ff7f0e; stroke: #ff7f0e\"/>\n     <use xlink:href=\"#m36ca7787a6\" x=\"96.09733\" y=\"153.464301\" style=\"fill: #ff7f0e; stroke: #ff7f0e\"/>\n     <use xlink:href=\"#m36ca7787a6\" x=\"146.824602\" y=\"154.21341\" style=\"fill: #ff7f0e; stroke: #ff7f0e\"/>\n     <use xlink:href=\"#m36ca7787a6\" x=\"197.551875\" y=\"147.038021\" style=\"fill: #ff7f0e; stroke: #ff7f0e\"/>\n     <use xlink:href=\"#m36ca7787a6\" x=\"248.279148\" y=\"144.378467\" style=\"fill: #ff7f0e; stroke: #ff7f0e\"/>\n     <use xlink:href=\"#m36ca7787a6\" x=\"349.733693\" y=\"144.566587\" style=\"fill: #ff7f0e; stroke: #ff7f0e\"/>\n    </g>\n   </g>\n   <g id=\"line2d_16\">\n    <path d=\"M 45.370057 193.546569 \nL 96.09733 191.466716 \nL 146.824602 190.906041 \nL 197.551875 184.160001 \nL 248.279148 181.678004 \nL 349.733693 180.686276 \n\" clip-path=\"url(#pc124a61521)\" style=\"fill: none; stroke: #2ca02c; stroke-width: 1.5; stroke-linecap: square\"/>\n    <defs>\n     <path id=\"me794ea7259\" d=\"M 0 3 \nC 0.795609 3 1.55874 2.683901 2.12132 2.12132 \nC 2.683901 1.55874 3 0.795609 3 0 \nC 3 -0.795609 2.683901 -1.55874 2.12132 -2.12132 \nC 1.55874 -2.683901 0.795609 -3 0 -3 \nC -0.795609 -3 -1.55874 -2.683901 -2.12132 -2.12132 \nC -2.683901 -1.55874 -3 -0.795609 -3 0 \nC -3 0.795609 -2.683901 1.55874 -2.12132 2.12132 \nC -1.55874 2.683901 -0.795609 3 0 3 \nz\n\" style=\"stroke: #2ca02c\"/>\n    </defs>\n    <g clip-path=\"url(#pc124a61521)\">\n     <use xlink:href=\"#me794ea7259\" x=\"45.370057\" y=\"193.546569\" style=\"fill: #2ca02c; stroke: #2ca02c\"/>\n     <use xlink:href=\"#me794ea7259\" x=\"96.09733\" y=\"191.466716\" style=\"fill: #2ca02c; stroke: #2ca02c\"/>\n     <use xlink:href=\"#me794ea7259\" x=\"146.824602\" y=\"190.906041\" style=\"fill: #2ca02c; stroke: #2ca02c\"/>\n     <use xlink:href=\"#me794ea7259\" x=\"197.551875\" y=\"184.160001\" style=\"fill: #2ca02c; stroke: #2ca02c\"/>\n     <use xlink:href=\"#me794ea7259\" x=\"248.279148\" y=\"181.678004\" style=\"fill: #2ca02c; stroke: #2ca02c\"/>\n     <use xlink:href=\"#me794ea7259\" x=\"349.733693\" y=\"180.686276\" style=\"fill: #2ca02c; stroke: #2ca02c\"/>\n    </g>\n   </g>\n   <g id=\"line2d_17\">\n    <path d=\"M 45.370057 230.354489 \nL 96.09733 229.773675 \nL 146.824602 228.630522 \nL 197.551875 225.392814 \nL 248.279148 224.250084 \nL 349.733693 220.465445 \n\" clip-path=\"url(#pc124a61521)\" style=\"fill: none; stroke: #d62728; stroke-width: 1.5; stroke-linecap: square\"/>\n    <defs>\n     <path id=\"m3a19487cc1\" d=\"M 0 3 \nC 0.795609 3 1.55874 2.683901 2.12132 2.12132 \nC 2.683901 1.55874 3 0.795609 3 0 \nC 3 -0.795609 2.683901 -1.55874 2.12132 -2.12132 \nC 1.55874 -2.683901 0.795609 -3 0 -3 \nC -0.795609 -3 -1.55874 -2.683901 -2.12132 -2.12132 \nC -2.683901 -1.55874 -3 -0.795609 -3 0 \nC -3 0.795609 -2.683901 1.55874 -2.12132 2.12132 \nC -1.55874 2.683901 -0.795609 3 0 3 \nz\n\" style=\"stroke: #d62728\"/>\n    </defs>\n    <g clip-path=\"url(#pc124a61521)\">\n     <use xlink:href=\"#m3a19487cc1\" x=\"45.370057\" y=\"230.354489\" style=\"fill: #d62728; stroke: #d62728\"/>\n     <use xlink:href=\"#m3a19487cc1\" x=\"96.09733\" y=\"229.773675\" style=\"fill: #d62728; stroke: #d62728\"/>\n     <use xlink:href=\"#m3a19487cc1\" x=\"146.824602\" y=\"228.630522\" style=\"fill: #d62728; stroke: #d62728\"/>\n     <use xlink:href=\"#m3a19487cc1\" x=\"197.551875\" y=\"225.392814\" style=\"fill: #d62728; stroke: #d62728\"/>\n     <use xlink:href=\"#m3a19487cc1\" x=\"248.279148\" y=\"224.250084\" style=\"fill: #d62728; stroke: #d62728\"/>\n     <use xlink:href=\"#m3a19487cc1\" x=\"349.733693\" y=\"220.465445\" style=\"fill: #d62728; stroke: #d62728\"/>\n    </g>\n   </g>\n   <g id=\"patch_3\">\n    <path d=\"M 30.151875 240.238125 \nL 30.151875 22.798125 \n\" style=\"fill: none; stroke: #000000; stroke-width: 0.8; stroke-linejoin: miter; stroke-linecap: square\"/>\n   </g>\n   <g id=\"patch_4\">\n    <path d=\"M 364.951875 240.238125 \nL 364.951875 22.798125 \n\" style=\"fill: none; stroke: #000000; stroke-width: 0.8; stroke-linejoin: miter; stroke-linecap: square\"/>\n   </g>\n   <g id=\"patch_5\">\n    <path d=\"M 30.151875 240.238125 \nL 364.951875 240.238125 \n\" style=\"fill: none; stroke: #000000; stroke-width: 0.8; stroke-linejoin: miter; stroke-linecap: square\"/>\n   </g>\n   <g id=\"patch_6\">\n    <path d=\"M 30.151875 22.798125 \nL 364.951875 22.798125 \n\" style=\"fill: none; stroke: #000000; stroke-width: 0.8; stroke-linejoin: miter; stroke-linecap: square\"/>\n   </g>\n   <g id=\"text_14\">\n    <!-- Correlation en fonction de la perplexité pour différents epsilons -->\n    <g transform=\"translate(7.2 16.798125)scale(0.12 -0.12)\">\n     <defs>\n      <path id=\"DejaVuSans-43\" d=\"M 4122 4306 \nL 4122 3641 \nQ 3803 3938 3442 4084 \nQ 3081 4231 2675 4231 \nQ 1875 4231 1450 3742 \nQ 1025 3253 1025 2328 \nQ 1025 1406 1450 917 \nQ 1875 428 2675 428 \nQ 3081 428 3442 575 \nQ 3803 722 4122 1019 \nL 4122 359 \nQ 3791 134 3420 21 \nQ 3050 -91 2638 -91 \nQ 1578 -91 968 557 \nQ 359 1206 359 2328 \nQ 359 3453 968 4101 \nQ 1578 4750 2638 4750 \nQ 3056 4750 3426 4639 \nQ 3797 4528 4122 4306 \nz\n\" transform=\"scale(0.015625)\"/>\n      <path id=\"DejaVuSans-6f\" d=\"M 1959 3097 \nQ 1497 3097 1228 2736 \nQ 959 2375 959 1747 \nQ 959 1119 1226 758 \nQ 1494 397 1959 397 \nQ 2419 397 2687 759 \nQ 2956 1122 2956 1747 \nQ 2956 2369 2687 2733 \nQ 2419 3097 1959 3097 \nz\nM 1959 3584 \nQ 2709 3584 3137 3096 \nQ 3566 2609 3566 1747 \nQ 3566 888 3137 398 \nQ 2709 -91 1959 -91 \nQ 1206 -91 779 398 \nQ 353 888 353 1747 \nQ 353 2609 779 3096 \nQ 1206 3584 1959 3584 \nz\n\" transform=\"scale(0.015625)\"/>\n      <path id=\"DejaVuSans-72\" d=\"M 2631 2963 \nQ 2534 3019 2420 3045 \nQ 2306 3072 2169 3072 \nQ 1681 3072 1420 2755 \nQ 1159 2438 1159 1844 \nL 1159 0 \nL 581 0 \nL 581 3500 \nL 1159 3500 \nL 1159 2956 \nQ 1341 3275 1631 3429 \nQ 1922 3584 2338 3584 \nQ 2397 3584 2469 3576 \nQ 2541 3569 2628 3553 \nL 2631 2963 \nz\n\" transform=\"scale(0.015625)\"/>\n      <path id=\"DejaVuSans-65\" d=\"M 3597 1894 \nL 3597 1613 \nL 953 1613 \nQ 991 1019 1311 708 \nQ 1631 397 2203 397 \nQ 2534 397 2845 478 \nQ 3156 559 3463 722 \nL 3463 178 \nQ 3153 47 2828 -22 \nQ 2503 -91 2169 -91 \nQ 1331 -91 842 396 \nQ 353 884 353 1716 \nQ 353 2575 817 3079 \nQ 1281 3584 2069 3584 \nQ 2775 3584 3186 3129 \nQ 3597 2675 3597 1894 \nz\nM 3022 2063 \nQ 3016 2534 2758 2815 \nQ 2500 3097 2075 3097 \nQ 1594 3097 1305 2825 \nQ 1016 2553 972 2059 \nL 3022 2063 \nz\n\" transform=\"scale(0.015625)\"/>\n      <path id=\"DejaVuSans-6c\" d=\"M 603 4863 \nL 1178 4863 \nL 1178 0 \nL 603 0 \nL 603 4863 \nz\n\" transform=\"scale(0.015625)\"/>\n      <path id=\"DejaVuSans-61\" d=\"M 2194 1759 \nQ 1497 1759 1228 1600 \nQ 959 1441 959 1056 \nQ 959 750 1161 570 \nQ 1363 391 1709 391 \nQ 2188 391 2477 730 \nQ 2766 1069 2766 1631 \nL 2766 1759 \nL 2194 1759 \nz\nM 3341 1997 \nL 3341 0 \nL 2766 0 \nL 2766 531 \nQ 2569 213 2275 61 \nQ 1981 -91 1556 -91 \nQ 1019 -91 701 211 \nQ 384 513 384 1019 \nQ 384 1609 779 1909 \nQ 1175 2209 1959 2209 \nL 2766 2209 \nL 2766 2266 \nQ 2766 2663 2505 2880 \nQ 2244 3097 1772 3097 \nQ 1472 3097 1187 3025 \nQ 903 2953 641 2809 \nL 641 3341 \nQ 956 3463 1253 3523 \nQ 1550 3584 1831 3584 \nQ 2591 3584 2966 3190 \nQ 3341 2797 3341 1997 \nz\n\" transform=\"scale(0.015625)\"/>\n      <path id=\"DejaVuSans-74\" d=\"M 1172 4494 \nL 1172 3500 \nL 2356 3500 \nL 2356 3053 \nL 1172 3053 \nL 1172 1153 \nQ 1172 725 1289 603 \nQ 1406 481 1766 481 \nL 2356 481 \nL 2356 0 \nL 1766 0 \nQ 1100 0 847 248 \nQ 594 497 594 1153 \nL 594 3053 \nL 172 3053 \nL 172 3500 \nL 594 3500 \nL 594 4494 \nL 1172 4494 \nz\n\" transform=\"scale(0.015625)\"/>\n      <path id=\"DejaVuSans-69\" d=\"M 603 3500 \nL 1178 3500 \nL 1178 0 \nL 603 0 \nL 603 3500 \nz\nM 603 4863 \nL 1178 4863 \nL 1178 4134 \nL 603 4134 \nL 603 4863 \nz\n\" transform=\"scale(0.015625)\"/>\n      <path id=\"DejaVuSans-6e\" d=\"M 3513 2113 \nL 3513 0 \nL 2938 0 \nL 2938 2094 \nQ 2938 2591 2744 2837 \nQ 2550 3084 2163 3084 \nQ 1697 3084 1428 2787 \nQ 1159 2491 1159 1978 \nL 1159 0 \nL 581 0 \nL 581 3500 \nL 1159 3500 \nL 1159 2956 \nQ 1366 3272 1645 3428 \nQ 1925 3584 2291 3584 \nQ 2894 3584 3203 3211 \nQ 3513 2838 3513 2113 \nz\n\" transform=\"scale(0.015625)\"/>\n      <path id=\"DejaVuSans-20\" transform=\"scale(0.015625)\"/>\n      <path id=\"DejaVuSans-66\" d=\"M 2375 4863 \nL 2375 4384 \nL 1825 4384 \nQ 1516 4384 1395 4259 \nQ 1275 4134 1275 3809 \nL 1275 3500 \nL 2222 3500 \nL 2222 3053 \nL 1275 3053 \nL 1275 0 \nL 697 0 \nL 697 3053 \nL 147 3053 \nL 147 3500 \nL 697 3500 \nL 697 3744 \nQ 697 4328 969 4595 \nQ 1241 4863 1831 4863 \nL 2375 4863 \nz\n\" transform=\"scale(0.015625)\"/>\n      <path id=\"DejaVuSans-63\" d=\"M 3122 3366 \nL 3122 2828 \nQ 2878 2963 2633 3030 \nQ 2388 3097 2138 3097 \nQ 1578 3097 1268 2742 \nQ 959 2388 959 1747 \nQ 959 1106 1268 751 \nQ 1578 397 2138 397 \nQ 2388 397 2633 464 \nQ 2878 531 3122 666 \nL 3122 134 \nQ 2881 22 2623 -34 \nQ 2366 -91 2075 -91 \nQ 1284 -91 818 406 \nQ 353 903 353 1747 \nQ 353 2603 823 3093 \nQ 1294 3584 2113 3584 \nQ 2378 3584 2631 3529 \nQ 2884 3475 3122 3366 \nz\n\" transform=\"scale(0.015625)\"/>\n      <path id=\"DejaVuSans-64\" d=\"M 2906 2969 \nL 2906 4863 \nL 3481 4863 \nL 3481 0 \nL 2906 0 \nL 2906 525 \nQ 2725 213 2448 61 \nQ 2172 -91 1784 -91 \nQ 1150 -91 751 415 \nQ 353 922 353 1747 \nQ 353 2572 751 3078 \nQ 1150 3584 1784 3584 \nQ 2172 3584 2448 3432 \nQ 2725 3281 2906 2969 \nz\nM 947 1747 \nQ 947 1113 1208 752 \nQ 1469 391 1925 391 \nQ 2381 391 2643 752 \nQ 2906 1113 2906 1747 \nQ 2906 2381 2643 2742 \nQ 2381 3103 1925 3103 \nQ 1469 3103 1208 2742 \nQ 947 2381 947 1747 \nz\n\" transform=\"scale(0.015625)\"/>\n      <path id=\"DejaVuSans-70\" d=\"M 1159 525 \nL 1159 -1331 \nL 581 -1331 \nL 581 3500 \nL 1159 3500 \nL 1159 2969 \nQ 1341 3281 1617 3432 \nQ 1894 3584 2278 3584 \nQ 2916 3584 3314 3078 \nQ 3713 2572 3713 1747 \nQ 3713 922 3314 415 \nQ 2916 -91 2278 -91 \nQ 1894 -91 1617 61 \nQ 1341 213 1159 525 \nz\nM 3116 1747 \nQ 3116 2381 2855 2742 \nQ 2594 3103 2138 3103 \nQ 1681 3103 1420 2742 \nQ 1159 2381 1159 1747 \nQ 1159 1113 1420 752 \nQ 1681 391 2138 391 \nQ 2594 391 2855 752 \nQ 3116 1113 3116 1747 \nz\n\" transform=\"scale(0.015625)\"/>\n      <path id=\"DejaVuSans-78\" d=\"M 3513 3500 \nL 2247 1797 \nL 3578 0 \nL 2900 0 \nL 1881 1375 \nL 863 0 \nL 184 0 \nL 1544 1831 \nL 300 3500 \nL 978 3500 \nL 1906 2253 \nL 2834 3500 \nL 3513 3500 \nz\n\" transform=\"scale(0.015625)\"/>\n      <path id=\"DejaVuSans-e9\" d=\"M 3597 1894 \nL 3597 1613 \nL 953 1613 \nQ 991 1019 1311 708 \nQ 1631 397 2203 397 \nQ 2534 397 2845 478 \nQ 3156 559 3463 722 \nL 3463 178 \nQ 3153 47 2828 -22 \nQ 2503 -91 2169 -91 \nQ 1331 -91 842 396 \nQ 353 884 353 1716 \nQ 353 2575 817 3079 \nQ 1281 3584 2069 3584 \nQ 2775 3584 3186 3129 \nQ 3597 2675 3597 1894 \nz\nM 3022 2063 \nQ 3016 2534 2758 2815 \nQ 2500 3097 2075 3097 \nQ 1594 3097 1305 2825 \nQ 1016 2553 972 2059 \nL 3022 2063 \nz\nM 2466 5119 \nL 3088 5119 \nL 2070 3944 \nL 1591 3944 \nL 2466 5119 \nz\n\" transform=\"scale(0.015625)\"/>\n      <path id=\"DejaVuSans-75\" d=\"M 544 1381 \nL 544 3500 \nL 1119 3500 \nL 1119 1403 \nQ 1119 906 1312 657 \nQ 1506 409 1894 409 \nQ 2359 409 2629 706 \nQ 2900 1003 2900 1516 \nL 2900 3500 \nL 3475 3500 \nL 3475 0 \nL 2900 0 \nL 2900 538 \nQ 2691 219 2414 64 \nQ 2138 -91 1772 -91 \nQ 1169 -91 856 284 \nQ 544 659 544 1381 \nz\nM 1991 3584 \nL 1991 3584 \nz\n\" transform=\"scale(0.015625)\"/>\n      <path id=\"DejaVuSans-73\" d=\"M 2834 3397 \nL 2834 2853 \nQ 2591 2978 2328 3040 \nQ 2066 3103 1784 3103 \nQ 1356 3103 1142 2972 \nQ 928 2841 928 2578 \nQ 928 2378 1081 2264 \nQ 1234 2150 1697 2047 \nL 1894 2003 \nQ 2506 1872 2764 1633 \nQ 3022 1394 3022 966 \nQ 3022 478 2636 193 \nQ 2250 -91 1575 -91 \nQ 1294 -91 989 -36 \nQ 684 19 347 128 \nL 347 722 \nQ 666 556 975 473 \nQ 1284 391 1588 391 \nQ 1994 391 2212 530 \nQ 2431 669 2431 922 \nQ 2431 1156 2273 1281 \nQ 2116 1406 1581 1522 \nL 1381 1569 \nQ 847 1681 609 1914 \nQ 372 2147 372 2553 \nQ 372 3047 722 3315 \nQ 1072 3584 1716 3584 \nQ 2034 3584 2315 3537 \nQ 2597 3491 2834 3397 \nz\n\" transform=\"scale(0.015625)\"/>\n     </defs>\n     <use xlink:href=\"#DejaVuSans-43\"/>\n     <use xlink:href=\"#DejaVuSans-6f\" x=\"69.824219\"/>\n     <use xlink:href=\"#DejaVuSans-72\" x=\"131.005859\"/>\n     <use xlink:href=\"#DejaVuSans-72\" x=\"170.369141\"/>\n     <use xlink:href=\"#DejaVuSans-65\" x=\"209.232422\"/>\n     <use xlink:href=\"#DejaVuSans-6c\" x=\"270.755859\"/>\n     <use xlink:href=\"#DejaVuSans-61\" x=\"298.539062\"/>\n     <use xlink:href=\"#DejaVuSans-74\" x=\"359.818359\"/>\n     <use xlink:href=\"#DejaVuSans-69\" x=\"399.027344\"/>\n     <use xlink:href=\"#DejaVuSans-6f\" x=\"426.810547\"/>\n     <use xlink:href=\"#DejaVuSans-6e\" x=\"487.992188\"/>\n     <use xlink:href=\"#DejaVuSans-20\" x=\"551.371094\"/>\n     <use xlink:href=\"#DejaVuSans-65\" x=\"583.158203\"/>\n     <use xlink:href=\"#DejaVuSans-6e\" x=\"644.681641\"/>\n     <use xlink:href=\"#DejaVuSans-20\" x=\"708.060547\"/>\n     <use xlink:href=\"#DejaVuSans-66\" x=\"739.847656\"/>\n     <use xlink:href=\"#DejaVuSans-6f\" x=\"775.052734\"/>\n     <use xlink:href=\"#DejaVuSans-6e\" x=\"836.234375\"/>\n     <use xlink:href=\"#DejaVuSans-63\" x=\"899.613281\"/>\n     <use xlink:href=\"#DejaVuSans-74\" x=\"954.59375\"/>\n     <use xlink:href=\"#DejaVuSans-69\" x=\"993.802734\"/>\n     <use xlink:href=\"#DejaVuSans-6f\" x=\"1021.585938\"/>\n     <use xlink:href=\"#DejaVuSans-6e\" x=\"1082.767578\"/>\n     <use xlink:href=\"#DejaVuSans-20\" x=\"1146.146484\"/>\n     <use xlink:href=\"#DejaVuSans-64\" x=\"1177.933594\"/>\n     <use xlink:href=\"#DejaVuSans-65\" x=\"1241.410156\"/>\n     <use xlink:href=\"#DejaVuSans-20\" x=\"1302.933594\"/>\n     <use xlink:href=\"#DejaVuSans-6c\" x=\"1334.720703\"/>\n     <use xlink:href=\"#DejaVuSans-61\" x=\"1362.503906\"/>\n     <use xlink:href=\"#DejaVuSans-20\" x=\"1423.783203\"/>\n     <use xlink:href=\"#DejaVuSans-70\" x=\"1455.570312\"/>\n     <use xlink:href=\"#DejaVuSans-65\" x=\"1519.046875\"/>\n     <use xlink:href=\"#DejaVuSans-72\" x=\"1580.570312\"/>\n     <use xlink:href=\"#DejaVuSans-70\" x=\"1621.683594\"/>\n     <use xlink:href=\"#DejaVuSans-6c\" x=\"1685.160156\"/>\n     <use xlink:href=\"#DejaVuSans-65\" x=\"1712.943359\"/>\n     <use xlink:href=\"#DejaVuSans-78\" x=\"1772.716797\"/>\n     <use xlink:href=\"#DejaVuSans-69\" x=\"1831.896484\"/>\n     <use xlink:href=\"#DejaVuSans-74\" x=\"1859.679688\"/>\n     <use xlink:href=\"#DejaVuSans-e9\" x=\"1898.888672\"/>\n     <use xlink:href=\"#DejaVuSans-20\" x=\"1960.412109\"/>\n     <use xlink:href=\"#DejaVuSans-70\" x=\"1992.199219\"/>\n     <use xlink:href=\"#DejaVuSans-6f\" x=\"2055.675781\"/>\n     <use xlink:href=\"#DejaVuSans-75\" x=\"2116.857422\"/>\n     <use xlink:href=\"#DejaVuSans-72\" x=\"2180.236328\"/>\n     <use xlink:href=\"#DejaVuSans-20\" x=\"2221.349609\"/>\n     <use xlink:href=\"#DejaVuSans-64\" x=\"2253.136719\"/>\n     <use xlink:href=\"#DejaVuSans-69\" x=\"2316.613281\"/>\n     <use xlink:href=\"#DejaVuSans-66\" x=\"2344.396484\"/>\n     <use xlink:href=\"#DejaVuSans-66\" x=\"2379.601562\"/>\n     <use xlink:href=\"#DejaVuSans-e9\" x=\"2414.806641\"/>\n     <use xlink:href=\"#DejaVuSans-72\" x=\"2476.330078\"/>\n     <use xlink:href=\"#DejaVuSans-65\" x=\"2515.193359\"/>\n     <use xlink:href=\"#DejaVuSans-6e\" x=\"2576.716797\"/>\n     <use xlink:href=\"#DejaVuSans-74\" x=\"2640.095703\"/>\n     <use xlink:href=\"#DejaVuSans-73\" x=\"2679.304688\"/>\n     <use xlink:href=\"#DejaVuSans-20\" x=\"2731.404297\"/>\n     <use xlink:href=\"#DejaVuSans-65\" x=\"2763.191406\"/>\n     <use xlink:href=\"#DejaVuSans-70\" x=\"2824.714844\"/>\n     <use xlink:href=\"#DejaVuSans-73\" x=\"2888.191406\"/>\n     <use xlink:href=\"#DejaVuSans-69\" x=\"2940.291016\"/>\n     <use xlink:href=\"#DejaVuSans-6c\" x=\"2968.074219\"/>\n     <use xlink:href=\"#DejaVuSans-6f\" x=\"2995.857422\"/>\n     <use xlink:href=\"#DejaVuSans-6e\" x=\"3057.039062\"/>\n     <use xlink:href=\"#DejaVuSans-73\" x=\"3120.417969\"/>\n    </g>\n   </g>\n   <g id=\"legend_1\">\n    <g id=\"patch_7\">\n     <path d=\"M 297.451875 89.510625 \nL 357.951875 89.510625 \nQ 359.951875 89.510625 359.951875 87.510625 \nL 359.951875 29.798125 \nQ 359.951875 27.798125 357.951875 27.798125 \nL 297.451875 27.798125 \nQ 295.451875 27.798125 295.451875 29.798125 \nL 295.451875 87.510625 \nQ 295.451875 89.510625 297.451875 89.510625 \nz\n\" style=\"fill: #ffffff; opacity: 0.8; stroke: #cccccc; stroke-linejoin: miter\"/>\n    </g>\n    <g id=\"line2d_18\">\n     <path d=\"M 299.451875 35.896562 \nL 309.451875 35.896562 \nL 319.451875 35.896562 \n\" style=\"fill: none; stroke: #1f77b4; stroke-width: 1.5; stroke-linecap: square\"/>\n     <g>\n      <use xlink:href=\"#mba195c30b2\" x=\"309.451875\" y=\"35.896562\" style=\"fill: #1f77b4; stroke: #1f77b4\"/>\n     </g>\n    </g>\n    <g id=\"text_15\">\n     <!-- np.inf -->\n     <g transform=\"translate(327.451875 39.396562)scale(0.1 -0.1)\">\n      <use xlink:href=\"#DejaVuSans-6e\"/>\n      <use xlink:href=\"#DejaVuSans-70\" x=\"63.378906\"/>\n      <use xlink:href=\"#DejaVuSans-2e\" x=\"126.855469\"/>\n      <use xlink:href=\"#DejaVuSans-69\" x=\"158.642578\"/>\n      <use xlink:href=\"#DejaVuSans-6e\" x=\"186.425781\"/>\n      <use xlink:href=\"#DejaVuSans-66\" x=\"249.804688\"/>\n     </g>\n    </g>\n    <g id=\"line2d_19\">\n     <path d=\"M 299.451875 50.574687 \nL 309.451875 50.574687 \nL 319.451875 50.574687 \n\" style=\"fill: none; stroke: #ff7f0e; stroke-width: 1.5; stroke-linecap: square\"/>\n     <g>\n      <use xlink:href=\"#m36ca7787a6\" x=\"309.451875\" y=\"50.574687\" style=\"fill: #ff7f0e; stroke: #ff7f0e\"/>\n     </g>\n    </g>\n    <g id=\"text_16\">\n     <!-- 0.7 -->\n     <g transform=\"translate(327.451875 54.074687)scale(0.1 -0.1)\">\n      <use xlink:href=\"#DejaVuSans-30\"/>\n      <use xlink:href=\"#DejaVuSans-2e\" x=\"63.623047\"/>\n      <use xlink:href=\"#DejaVuSans-37\" x=\"95.410156\"/>\n     </g>\n    </g>\n    <g id=\"line2d_20\">\n     <path d=\"M 299.451875 65.252812 \nL 309.451875 65.252812 \nL 319.451875 65.252812 \n\" style=\"fill: none; stroke: #2ca02c; stroke-width: 1.5; stroke-linecap: square\"/>\n     <g>\n      <use xlink:href=\"#me794ea7259\" x=\"309.451875\" y=\"65.252812\" style=\"fill: #2ca02c; stroke: #2ca02c\"/>\n     </g>\n    </g>\n    <g id=\"text_17\">\n     <!-- 0.5 -->\n     <g transform=\"translate(327.451875 68.752812)scale(0.1 -0.1)\">\n      <use xlink:href=\"#DejaVuSans-30\"/>\n      <use xlink:href=\"#DejaVuSans-2e\" x=\"63.623047\"/>\n      <use xlink:href=\"#DejaVuSans-35\" x=\"95.410156\"/>\n     </g>\n    </g>\n    <g id=\"line2d_21\">\n     <path d=\"M 299.451875 79.930937 \nL 309.451875 79.930937 \nL 319.451875 79.930937 \n\" style=\"fill: none; stroke: #d62728; stroke-width: 1.5; stroke-linecap: square\"/>\n     <g>\n      <use xlink:href=\"#m3a19487cc1\" x=\"309.451875\" y=\"79.930937\" style=\"fill: #d62728; stroke: #d62728\"/>\n     </g>\n    </g>\n    <g id=\"text_18\">\n     <!-- 0.2 -->\n     <g transform=\"translate(327.451875 83.430937)scale(0.1 -0.1)\">\n      <use xlink:href=\"#DejaVuSans-30\"/>\n      <use xlink:href=\"#DejaVuSans-2e\" x=\"63.623047\"/>\n      <use xlink:href=\"#DejaVuSans-32\" x=\"95.410156\"/>\n     </g>\n    </g>\n   </g>\n  </g>\n </g>\n <defs>\n  <clipPath id=\"pc124a61521\">\n   <rect x=\"30.151875\" y=\"22.798125\" width=\"334.8\" height=\"217.44\"/>\n  </clipPath>\n </defs>\n</svg>\n",
      "image/png": "[encoded data removed]"
     },
     "metadata": {
      "needs_background": "light"
     }
    }
   ],
   "metadata": {}
  },
  {
   "cell_type": "code",
   "execution_count": 5,
   "source": [
    "#Etude de la perplexité et du nb de voisins\n",
    "x = np.array([50,75,100,125,150,200])\n",
    "correlation=[]\n",
    "correlation1=[]\n",
    "correlation2=[]\n",
    "correlation3=[]\n",
    "for i in range(len(mod_tsne)):\n",
    "    c=correlation_neighboor(initial_distance=initial_distance_cbow,new_distance=mod_tsne[i],k=5)\n",
    "    c1=correlation_neighboor(initial_distance=initial_distance_cbow,new_distance=mod_tsne[i],k=10)\n",
    "    c2=correlation_neighboor(initial_distance=initial_distance_cbow,new_distance=mod_tsne[i],k=15)\n",
    "    c3=correlation_neighboor(initial_distance=initial_distance_cbow,new_distance=mod_tsne[i],k=20)\n",
    "    correlation.append(c)\n",
    "    correlation1.append(c1)\n",
    "    correlation2.append(c2)\n",
    "    correlation3.append(c3)\n",
    "\n",
    "plt.plot(x, correlation, \"o-\",label=\"5\")\n",
    "plt.plot(x, correlation1, \"o-\",label=\"10\")\n",
    "plt.plot(x, correlation2,\"o-\", label= \"15\")\n",
    "plt.plot(x, correlation3,\"o-\",label=\"20\")\n",
    "plt.legend()\n",
    "plt.title(\"Correlation en fonction de la perplexité pour différents nombres de voisins\")\n",
    "\n",
    "plt.show()"
   ],
   "outputs": [],
   "metadata": {}
  },
  {
   "cell_type": "markdown",
   "source": [
    "### Affichage meilleurs modèles"
   ],
   "metadata": {}
  },
  {
   "cell_type": "code",
   "execution_count": null,
   "source": [
    "plt.figure(figsize = (8,4))\n",
    "plt.subplots_adjust(top = 1.5) \n",
    "for index, p in enumerate([50,200]):\n",
    "    tsne = TSNE(n_components = 2, perplexity = p, random_state=0)\n",
    "    tsne_results = tsne.fit_transform(X)\n",
    "    tsne_results=pd.DataFrame(tsne_results, columns=['tsne1', 'tsne2'])\n",
    "    plt.subplot(1,2,index+1)\n",
    "    plt.scatter(tsne_results['tsne1'], tsne_results['tsne2'], s=30)\n",
    "    plt.title('Perplexity = '+ str(p))\n",
    "plt.show()"
   ],
   "outputs": [],
   "metadata": {}
  },
  {
   "cell_type": "markdown",
   "source": [
    "# GLOVE"
   ],
   "metadata": {}
  },
  {
   "cell_type": "code",
   "execution_count": null,
   "source": [
    "glove_model = models.KeyedVectors.load_word2vec_format('data/tunning/glove.kv')\n",
    "data = pd.DataFrame(glove_model.vectors,index=glove_model.index_to_key)\n",
    "\n",
    "with open(\"data/docs.json\") as file:\n",
    "    docs = json.load(file)\n",
    "moy_embedding_tf = word_emb_vers_doc_emb_moyenne(docs=docs, modele=glove_model, methode = 'TF')\n",
    "moy_embedding_tf = np.array(moy_embedding_tf)\n",
    "initial_distance_glove = euclidean_distances(moy_embedding_tf)\n",
    "\n",
    "data=pd.DataFrame(moy_embedding_tf)\n",
    "X = data.values\n",
    "\n",
    "# Centrage et Réduction\n",
    "std_scale = preprocessing.StandardScaler().fit(X)\n",
    "X_scaled = std_scale.transform(X)"
   ],
   "outputs": [],
   "metadata": {}
  },
  {
   "cell_type": "code",
   "execution_count": null,
   "source": [
    "mod_tsne_glove=[]\n",
    "divergence_glove=[]\n",
    "for index, p in enumerate([50,75,100,125,150,200]):\n",
    "    tsne = TSNE(n_components = 2, perplexity=p, n_iter=2000, random_state=0)\n",
    "    tsne_results = tsne.fit_transform(X_scaled)\n",
    "    tsne_distance = euclidean_distances(tsne_results)\n",
    "    mod_tsne_glove.append(tsne_distance)  \n",
    "    divergence_glove.append(tsne.kl_divergence_)"
   ],
   "outputs": [],
   "metadata": {}
  },
  {
   "cell_type": "markdown",
   "source": [
    "### Etude hyperparamètres"
   ],
   "metadata": {}
  },
  {
   "cell_type": "code",
   "execution_count": null,
   "source": [
    "#Etude de la perplexité et de epsilon\n",
    "x = np.array([50,75,100,125,150,200])\n",
    "correlation=[]\n",
    "correlation1=[]\n",
    "correlation2=[]\n",
    "correlation3=[]\n",
    "for i in range(len(mod_tsne)):\n",
    "    c=correlation_epsilon(initial_distance=initial_distance_glove,new_distance=mod_tsne_glove[i],epsilon=np.inf)\n",
    "    c1=correlation_epsilon(initial_distance=initial_distance_glove,new_distance=mod_tsne_glove[i],epsilon=0.7)\n",
    "    c2=correlation_epsilon(initial_distance=initial_distance_glove,new_distance=mod_tsne_glove[i],epsilon=0.5)\n",
    "    c3=correlation_epsilon(initial_distance=initial_distance_glove,new_distance=mod_tsne_glove[i],epsilon=0.2)\n",
    "    correlation.append(c)\n",
    "    correlation1.append(c1)\n",
    "    correlation2.append(c2)\n",
    "    correlation3.append(c3)\n",
    "\n",
    "plt.plot(x, correlation, \"o-\",label=\"np.inf\")\n",
    "plt.plot(x, correlation1, \"o-\",label=\"0.7\")\n",
    "plt.plot(x, correlation2,\"o-\", label= \"0.5\")\n",
    "plt.plot(x, correlation3,\"o-\",label=\"0.2\")\n",
    "plt.legend()\n",
    "plt.title(\"Correlation en fonction de la perplexité pour différents epsilons\")\n",
    "\n",
    "plt.show()"
   ],
   "outputs": [],
   "metadata": {}
  },
  {
   "cell_type": "code",
   "execution_count": null,
   "source": [
    "#Etude de la perplexité et du nb de voisins\n",
    "x = np.array([50,75,100,125,150,200])\n",
    "correlation=[]\n",
    "correlation1=[]\n",
    "correlation2=[]\n",
    "correlation3=[]\n",
    "for i in range(len(mod_tsne)):\n",
    "    c=correlation_neighboor(initial_distance=initial_distance_glove,new_distance=mod_tsne_glove[i],k=5)\n",
    "    c1=correlation_neighboor(initial_distance=initial_distance_glove,new_distance=mod_tsne_glove[i],k=10)\n",
    "    c2=correlation_neighboor(initial_distance=initial_distance_glove,new_distance=mod_tsne_glove[i],k=15)\n",
    "    c3=correlation_neighboor(initial_distance=initial_distance_glove,new_distance=mod_tsne_glove[i],k=20)\n",
    "    correlation.append(c)\n",
    "    correlation1.append(c1)\n",
    "    correlation2.append(c2)\n",
    "    correlation3.append(c3)\n",
    "\n",
    "plt.plot(x, correlation, \"o-\",label=\"5\")\n",
    "plt.plot(x, correlation1, \"o-\",label=\"10\")\n",
    "plt.plot(x, correlation2,\"o-\", label= \"15\")\n",
    "plt.plot(x, correlation3,\"o-\",label=\"20\")\n",
    "plt.legend()\n",
    "plt.title(\"Correlation en fonction de la perplexité pour différents nombres de voisins\")\n",
    "\n",
    "plt.show()\n"
   ],
   "outputs": [],
   "metadata": {}
  },
  {
   "cell_type": "markdown",
   "source": [
    "# SKIPGRAM"
   ],
   "metadata": {}
  },
  {
   "cell_type": "code",
   "execution_count": null,
   "source": [
    "skipgram_model = models.KeyedVectors.load_word2vec_format('data/tunning/skipgram.kv')\n",
    "data = pd.DataFrame(skipgram_model.vectors,index=skipgram_model.index_to_key)\n",
    "\n",
    "with open(\"data/docs.json\") as file:\n",
    "    docs = json.load(file)\n",
    "moy_embedding_tf = word_emb_vers_doc_emb_moyenne(docs=docs, modele=skipgram_model, methode = 'TF')\n",
    "moy_embedding_tf = np.array(moy_embedding_tf)\n",
    "initial_distance_skipgram = euclidean_distances(moy_embedding_tf)\n",
    "\n",
    "data=pd.DataFrame(moy_embedding_tf)\n",
    "X = data.values"
   ],
   "outputs": [],
   "metadata": {}
  },
  {
   "cell_type": "code",
   "execution_count": null,
   "source": [
    "# Centrage et Réduction\n",
    "std_scale = preprocessing.StandardScaler().fit(X)\n",
    "X_scaled = std_scale.transform(X)"
   ],
   "outputs": [],
   "metadata": {}
  },
  {
   "cell_type": "code",
   "execution_count": null,
   "source": [
    "mod_tsne_skipgram=[]\n",
    "divergence_skipgram=[]\n",
    "for index, p in enumerate([50,75,100,125,150,200]):\n",
    "    tsne = TSNE(n_components = 2, perplexity=p, n_iter=2000, random_state=0)\n",
    "    tsne_results = tsne.fit_transform(X_scaled)\n",
    "    tsne_distance = euclidean_distances(tsne_results)\n",
    "    mod_tsne_skipgram.append(tsne_distance)  \n",
    "    divergence_skipgram.append(tsne.kl_divergence_)"
   ],
   "outputs": [],
   "metadata": {}
  },
  {
   "cell_type": "markdown",
   "source": [
    "### Etude hyperparamètres"
   ],
   "metadata": {}
  },
  {
   "cell_type": "code",
   "execution_count": null,
   "source": [
    "#Etude de la perplexité et de epsilon\n",
    "x = np.array([50,75,100,125,150,200])\n",
    "correlation=[]\n",
    "correlation1=[]\n",
    "correlation2=[]\n",
    "correlation3=[]\n",
    "for i in range(len(mod_tsne)):\n",
    "    c=correlation_epsilon(initial_distance=initial_distance_skipgram,new_distance=mod_tsne_skipgram[i],epsilon=np.inf)\n",
    "    c1=correlation_epsilon(initial_distance=initial_distance_skipgram,new_distance=mod_tsne_skipgram[i],epsilon=0.7)\n",
    "    c2=correlation_epsilon(initial_distance=initial_distance_skipgram,new_distance=mod_tsne_skipgram[i],epsilon=0.5)\n",
    "    c3=correlation_epsilon(initial_distance=initial_distance_skipgram,new_distance=mod_tsne_skipgram[i],epsilon=0.2)\n",
    "    correlation.append(c)\n",
    "    correlation1.append(c1)\n",
    "    correlation2.append(c2)\n",
    "    correlation3.append(c3)\n",
    "\n",
    "plt.plot(x, correlation, \"o-\",label=\"np.inf\")\n",
    "plt.plot(x, correlation1, \"o-\",label=\"0.7\")\n",
    "plt.plot(x, correlation2,\"o-\", label= \"0.5\")\n",
    "plt.plot(x, correlation3,\"o-\",label=\"0.2\")\n",
    "plt.legend()\n",
    "plt.title(\"Correlation en fonction de la perplexité pour différents epsilons\")\n",
    "\n",
    "plt.show()"
   ],
   "outputs": [],
   "metadata": {}
  },
  {
   "cell_type": "code",
   "execution_count": null,
   "source": [
    "#Etude de la perplexité et du nb de voisins\n",
    "x = np.array([50,75,100,125,150,200])\n",
    "correlation=[]\n",
    "correlation1=[]\n",
    "correlation2=[]\n",
    "correlation3=[]\n",
    "for i in range(len(mod_tsne)):\n",
    "    c=correlation_neighboor(initial_distance=initial_distance_skipgram,new_distance=mod_tsne_skipgram[i],k=5)\n",
    "    c1=correlation_neighboor(initial_distance=initial_distance_skipgram,new_distance=mod_tsne_skipgram[i],k=10)\n",
    "    c2=correlation_neighboor(initial_distance=initial_distance_skipgram,new_distance=mod_tsne_skipgram[i],k=15)\n",
    "    c3=correlation_neighboor(initial_distance=initial_distance_skipgram,new_distance=mod_tsne_skipgram[i],k=20)\n",
    "    correlation.append(c)\n",
    "    correlation1.append(c1)\n",
    "    correlation2.append(c2)\n",
    "    correlation3.append(c3)\n",
    "\n",
    "plt.plot(x, correlation, \"o-\",label=\"5\")\n",
    "plt.plot(x, correlation1, \"o-\",label=\"10\")\n",
    "plt.plot(x, correlation2,\"o-\", label= \"15\")\n",
    "plt.plot(x, correlation3,\"o-\",label=\"20\")\n",
    "plt.legend()\n",
    "plt.title(\"Correlation en fonction de la perplexité pour différents nombres de voisins\")\n",
    "\n",
    "plt.show()"
   ],
   "outputs": [],
   "metadata": {}
  }
 ],
 "metadata": {
  "orig_nbformat": 4,
  "language_info": {
   "name": "python",
   "version": "3.9.6",
   "mimetype": "text/x-python",
   "codemirror_mode": {
    "name": "ipython",
    "version": 3
   },
   "pygments_lexer": "ipython3",
   "nbconvert_exporter": "python",
   "file_extension": ".py"
  },
  "kernelspec": {
   "name": "python3",
   "display_name": "Python 3.9.6 64-bit"
  },
  "interpreter": {
   "hash": "397704579725e15f5c7cb49fe5f0341eb7531c82d19f2c29d197e8b64ab5776b"
  }
 },
 "nbformat": 4,
 "nbformat_minor": 2
}