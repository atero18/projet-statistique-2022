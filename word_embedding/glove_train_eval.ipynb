{
 "cells": [
  {
   "cell_type": "code",
   "execution_count": 1,
   "source": [
    "import pandas as pd\n",
    "import itertools\n",
    "from glove import Corpus, Glove # creating a corpus object\n",
    "import time\n",
    "import json\n",
    "import numpy as np\n",
    "import sklearn.metrics.pairwise as metric\n",
    "import scipy as sp\n",
    "import random\n",
    "import matplotlib.pyplot as plt\n",
    "from gensim import KeyedVectors"
   ],
   "outputs": [],
   "metadata": {
    "ExecuteTime": {
     "end_time": "2022-02-23T13:57:59.298463Z",
     "start_time": "2022-02-23T13:57:52.920496Z"
    }
   }
  },
  {
   "cell_type": "code",
   "execution_count": 2,
   "source": [
    "# load sentences\n",
    "with open(\"../data/docs.json\") as file:\n",
    "    list_sentances = json.load(file)\n",
    "# original data\n",
    "with open(\"../data/req_makeorg_environnement.json\",encoding=\"utf8\") as file:\n",
    "    dict_req_makeorg = json.load(file)"
   ],
   "outputs": [],
   "metadata": {
    "ExecuteTime": {
     "end_time": "2022-02-23T13:58:00.648659Z",
     "start_time": "2022-02-23T13:57:59.298463Z"
    }
   }
  },
  {
   "cell_type": "code",
   "execution_count": 3,
   "source": [
    "list_tags =[[proposition[\"tags\"][j][\"label\"] for j in range(len(proposition[\"tags\"]))] for proposition in dict_req_makeorg[\"results\"]]"
   ],
   "outputs": [],
   "metadata": {
    "ExecuteTime": {
     "end_time": "2022-02-23T13:58:00.712491Z",
     "start_time": "2022-02-23T13:58:00.652648Z"
    }
   }
  },
  {
   "cell_type": "markdown",
   "source": [
    "# Train GloVe Embedding"
   ],
   "metadata": {}
  },
  {
   "cell_type": "code",
   "execution_count": 4,
   "source": [
    "windows = [2,3,4,5,6,7,8,9,10,15]\n",
    "dim_emb = [i for i in range(10,210,20)]\n",
    "learn_rate = [0.001]\n",
    "df_glove_train = pd.DataFrame(itertools.product(windows,dim_emb,learn_rate), columns=[\"windows\",\"dim_emb\",\"learn_rate\"])"
   ],
   "outputs": [],
   "metadata": {
    "ExecuteTime": {
     "end_time": "2022-02-23T13:58:00.775321Z",
     "start_time": "2022-02-23T13:58:00.716478Z"
    }
   }
  },
  {
   "cell_type": "code",
   "execution_count": 6,
   "source": [
    "print(\"Nombre de modeles glove à tester: \",len(df_glove_train))"
   ],
   "outputs": [
    {
     "output_type": "stream",
     "name": "stdout",
     "text": [
      "Nombre de modeles glove à tester:  100\n"
     ]
    }
   ],
   "metadata": {
    "ExecuteTime": {
     "end_time": "2022-02-23T13:58:00.791278Z",
     "start_time": "2022-02-23T13:58:00.778313Z"
    }
   }
  },
  {
   "cell_type": "code",
   "execution_count": 7,
   "source": [
    "glove_models = []\n",
    "train_times = []\n",
    "list_corpus = []\n",
    "for i in range(len(df_glove_train)): \n",
    "    print(i, end=\"\\t\")\n",
    "    t0 = time.time()   \n",
    "    corpus = Corpus() \n",
    "    corpus.fit(list_sentances, window=int(df_glove_train.iloc[i].windows))\n",
    "    # train glove\n",
    "    glove_model = Glove(no_components=int(df_glove_train.iloc[i].dim_emb), learning_rate=df_glove_train.iloc[i].learn_rate)\n",
    "    glove_model.fit(corpus.matrix, epochs=30, no_threads=2)\n",
    "    glove_model.add_dictionary(corpus.dictionary)\n",
    "    \n",
    "    glove_models.append(glove_model)\n",
    "    train_times.append((time.time() - t0))\n",
    "    list_corpus.append(corpus)\n",
    "\n",
    "df_glove_train[\"glove_model\"] = glove_models\n",
    "df_glove_train[\"train_time\"] = train_times\n",
    "df_glove_train[\"corpus\"] = corpus"
   ],
   "outputs": [
    {
     "output_type": "stream",
     "name": "stdout",
     "text": [
      "0\t1\t2\t3\t4\t5\t6\t7\t8\t9\t10\t11\t12\t13\t14\t15\t16\t17\t18\t19\t20\t21\t22\t23\t24\t25\t26\t27\t28\t29\t30\t31\t32\t33\t34\t35\t36\t37\t38\t39\t40\t41\t42\t43\t44\t45\t46\t47\t48\t49\t50\t51\t52\t53\t54\t55\t56\t57\t58\t59\t60\t61\t62\t63\t64\t65\t"
     ]
    }
   ],
   "metadata": {
    "ExecuteTime": {
     "end_time": "2022-02-23T14:08:25.923276Z",
     "start_time": "2022-02-23T13:58:00.794269Z"
    }
   }
  },
  {
   "cell_type": "code",
   "execution_count": 3,
   "source": [
    "# with open(\"glove.txt\", \"w\") as f:\n",
    "#     f.write(\"56 120\")\n",
    "#     f.write(\"\\n\")\n",
    "#     for word in glove_model.dictionary:\n",
    "#         f.write(word)\n",
    "#         f.write(\" \")\n",
    "#         for i in range(0, glove_model.no_components):\n",
    "#             f.write(str(glove_model.word_vectors[glove_model.dictionary[word]][i]))\n",
    "#             f.write(\" \")\n",
    "#         f.write(\"\\n\")\n",
    "#         \n",
    "# KeyedVectors.load_word2vec_format('glove.txt',no_header=True)"
   ],
   "outputs": [
    {
     "output_type": "execute_result",
     "data": {
      "text/plain": [
       "<gensim.models.keyedvectors.KeyedVectors at 0x7f5d2fd99280>"
      ]
     },
     "metadata": {},
     "execution_count": 3
    }
   ],
   "metadata": {}
  },
  {
   "cell_type": "code",
   "execution_count": null,
   "source": [
    "df_glove_train[\"glove_model\"].iloc[i].most_similar(\"dechet\")"
   ],
   "outputs": [
    {
     "output_type": "execute_result",
     "data": {
      "text/plain": [
       "[('format', 0.2567788864965217),\n",
       " ('falloir', 0.23373309738443923),\n",
       " ('locataire', 0.23084728948647706),\n",
       " ('menager', 0.22608486495114918)]"
      ]
     },
     "metadata": {},
     "execution_count": 7
    }
   ],
   "metadata": {
    "ExecuteTime": {
     "end_time": "2022-02-23T14:08:29.704865Z",
     "start_time": "2022-02-23T14:08:27.355869Z"
    }
   }
  },
  {
   "cell_type": "markdown",
   "source": [
    "# Evaluation"
   ],
   "metadata": {}
  },
  {
   "cell_type": "code",
   "execution_count": null,
   "source": [
    "len(list_tags) == len(list_sentances)"
   ],
   "outputs": [
    {
     "output_type": "execute_result",
     "data": {
      "text/plain": [
       "True"
      ]
     },
     "metadata": {},
     "execution_count": 8
    }
   ],
   "metadata": {
    "ExecuteTime": {
     "end_time": "2022-02-23T14:08:29.843752Z",
     "start_time": "2022-02-23T14:08:29.722669Z"
    }
   }
  },
  {
   "cell_type": "code",
   "execution_count": null,
   "source": [
    "# on ne garde que les proppsition tague\n",
    "list_sentances = [list_sentances[i] for i in range(len(list_tags)) if len(list_tags[i]) > 0]\n",
    "list_tags = [list_tags[i] for i in range(len(list_tags)) if len(list_tags[i]) > 0]\n",
    "print(\"Nombre de propositions taguées: \",len(list_tags))"
   ],
   "outputs": [
    {
     "output_type": "stream",
     "name": "stdout",
     "text": [
      "Nombre de propositions taguées:  6468\n"
     ]
    }
   ],
   "metadata": {
    "ExecuteTime": {
     "end_time": "2022-02-23T14:08:31.138762Z",
     "start_time": "2022-02-23T14:08:29.881101Z"
    }
   }
  },
  {
   "cell_type": "code",
   "execution_count": null,
   "source": [
    "list_lemme = np.unique([list_sentances[i][j] for i in range(len(list_sentances)) for j in range(len(list_sentances[i]))])\n",
    "print(\"Nombre de lemme apparaissant dans au moins une proposition taguée: \",len(list_lemme))"
   ],
   "outputs": [
    {
     "output_type": "stream",
     "name": "stdout",
     "text": [
      "Nombre de lemme apparaissant dans au moins une proposition taguée:  6306\n"
     ]
    }
   ],
   "metadata": {
    "ExecuteTime": {
     "end_time": "2022-02-23T14:08:31.803035Z",
     "start_time": "2022-02-23T14:08:31.430509Z"
    }
   }
  },
  {
   "cell_type": "code",
   "execution_count": null,
   "source": [
    "list_tags_unique = np.unique([list_tags[i][j] for i in range(len(list_tags)) for j in range(len(list_tags[i]))])\n",
    "print(\"Nombre distinct de tags: \", len(list_tags_unique))"
   ],
   "outputs": [
    {
     "output_type": "stream",
     "name": "stdout",
     "text": [
      "Nombre distinct de tags:  67\n"
     ]
    }
   ],
   "metadata": {
    "ExecuteTime": {
     "end_time": "2022-02-23T14:08:46.353032Z",
     "start_time": "2022-02-23T14:08:31.803035Z"
    }
   }
  },
  {
   "cell_type": "code",
   "execution_count": null,
   "source": [
    "word_dictionary = list(corpus.dictionary)\n",
    "print(\"Nombre de lemme: \",len(word_dictionary))\n",
    "word_dictionary = [word for word in word_dictionary if word in list_lemme]\n",
    "print(\"Nombre de lemme apparaissant dans au moins une proposition taguée: \",len(word_dictionary))"
   ],
   "outputs": [
    {
     "output_type": "stream",
     "name": "stdout",
     "text": [
      "Nombre de lemme:  7614\n",
      "Nombre de lemme apparaissant dans au moins une proposition taguée:  6306\n"
     ]
    }
   ],
   "metadata": {
    "ExecuteTime": {
     "end_time": "2022-02-23T14:08:47.268901Z",
     "start_time": "2022-02-23T14:08:46.384605Z"
    }
   }
  },
  {
   "cell_type": "code",
   "execution_count": null,
   "source": [
    "test_size = 1000\n",
    "dictionary_test = {word: corpus.dictionary[word] for word in random.sample(word_dictionary,test_size)}"
   ],
   "outputs": [],
   "metadata": {
    "ExecuteTime": {
     "end_time": "2022-02-23T14:08:47.947582Z",
     "start_time": "2022-02-23T14:08:47.271894Z"
    }
   }
  },
  {
   "cell_type": "code",
   "execution_count": null,
   "source": [
    "mat_tag_distance = np.array([[np.sum([1 if tag in list_tags[i] and word in list_sentances[i]\n",
    "                                      else 0\n",
    "                                      for i in range(len(list_sentances))]) for tag in list_tags_unique] \n",
    "                             for word in dictionary_test])"
   ],
   "outputs": [],
   "metadata": {
    "ExecuteTime": {
     "end_time": "2022-02-23T14:13:56.641001Z",
     "start_time": "2022-02-23T14:08:47.972585Z"
    }
   }
  },
  {
   "cell_type": "code",
   "execution_count": null,
   "source": [
    "print(\"Dimension matrice de distance lemme/tag\",mat_tag_distance.shape)"
   ],
   "outputs": [
    {
     "output_type": "stream",
     "name": "stdout",
     "text": [
      "Dimension matrice de distance lemme/tag (1000, 67)\n"
     ]
    }
   ],
   "metadata": {
    "ExecuteTime": {
     "end_time": "2022-02-23T14:13:56.671763Z",
     "start_time": "2022-02-23T14:13:56.662787Z"
    }
   }
  },
  {
   "cell_type": "code",
   "execution_count": null,
   "source": [
    "vect_null = [i for i in range(mat_tag_distance.shape[0]) if np.all(mat_tag_distance[i] == 0)]\n",
    "word_no_tag = [list(dictionary_test.keys())[i] for i in vect_null]"
   ],
   "outputs": [],
   "metadata": {
    "ExecuteTime": {
     "end_time": "2022-02-23T14:13:56.846038Z",
     "start_time": "2022-02-23T14:13:56.675754Z"
    }
   }
  },
  {
   "cell_type": "code",
   "execution_count": null,
   "source": [
    "matx_tag_similiraty = np.zeros((mat_tag_distance.shape[0],mat_tag_distance.shape[0]))\n",
    "np.fill_diagonal(matx_tag_similiraty,1)\n",
    "for i in range(mat_tag_distance.shape[0]):\n",
    "    print(i, end=\"\\r\")\n",
    "    for j in range(i):\n",
    "#         matx_tag_similiraty[i][j] = np.inner(mat_tag_distance[i],mat_tag_distance[j])/(np.linalg.norm(mat_tag_distance[i]) * np.linalg.norm(mat_tag_distance[j]))\n",
    "        matx_tag_similiraty[i][j] = 1-sp.spatial.distance.cosine(mat_tag_distance[i],mat_tag_distance[j])\n",
    "        matx_tag_similiraty[j][i] = matx_tag_similiraty[i][j] "
   ],
   "outputs": [
    {
     "output_type": "stream",
     "name": "stdout",
     "text": [
      "999\r"
     ]
    }
   ],
   "metadata": {
    "ExecuteTime": {
     "end_time": "2022-02-23T14:14:35.355190Z",
     "start_time": "2022-02-23T14:13:56.848412Z"
    }
   }
  },
  {
   "cell_type": "code",
   "execution_count": null,
   "source": [
    "print(\"Moyenne : \",np.mean(matx_tag_similiraty))\n",
    "print(\"Et : \",np.sqrt(np.var(matx_tag_similiraty)))\n",
    "matx_tag_similiraty"
   ],
   "outputs": [
    {
     "output_type": "stream",
     "name": "stdout",
     "text": [
      "Moyenne :  0.4539556514308649\n",
      "Et :  0.1877179504473051\n"
     ]
    },
    {
     "output_type": "execute_result",
     "data": {
      "text/plain": [
       "array([[1.        , 0.32732684, 0.43643578, ..., 0.55154976, 0.83621785,\n",
       "        0.35856858],\n",
       "       [0.32732684, 1.        , 0.5       , ..., 0.5055037 , 0.37159094,\n",
       "        0.36514837],\n",
       "       [0.43643578, 0.5       , 1.        , ..., 0.556372  , 0.38320316,\n",
       "        0.36514837],\n",
       "       ...,\n",
       "       [0.55154976, 0.5055037 , 0.556372  , ..., 1.        , 0.5812426 ,\n",
       "        0.45971828],\n",
       "       [0.83621785, 0.37159094, 0.38320316, ..., 0.5812426 , 1.        ,\n",
       "        0.3561753 ],\n",
       "       [0.35856858, 0.36514837, 0.36514837, ..., 0.45971828, 0.3561753 ,\n",
       "        1.        ]])"
      ]
     },
     "metadata": {},
     "execution_count": 18
    }
   ],
   "metadata": {
    "ExecuteTime": {
     "end_time": "2022-02-23T14:14:35.805058Z",
     "start_time": "2022-02-23T14:14:35.408755Z"
    }
   }
  },
  {
   "cell_type": "code",
   "execution_count": null,
   "source": [
    "mse = []\n",
    "list_matx_glove_similiraty = []\n",
    "for i in range(len(df_glove_train)):\n",
    "#     print(i,end=\"\\t\")\n",
    "    matx_glove_similiraty = np.zeros((mat_tag_distance.shape[0],mat_tag_distance.shape[0]))\n",
    "    np.fill_diagonal(matx_glove_similiraty,1)\n",
    "    for k in range(mat_tag_distance.shape[0]):\n",
    "        print((i,k), end=\"\\r\")\n",
    "        for j in range(k):\n",
    "            matx_glove_similiraty[k][j] = 1-sp.spatial.distance.cosine(df_glove_train[\"glove_model\"].iloc[i].word_vectors[df_glove_train[\"corpus\"].iloc[i].dictionary[list(dictionary_test.keys())[k]]],\n",
    "                                                                       df_glove_train[\"glove_model\"].iloc[i].word_vectors[df_glove_train[\"corpus\"].iloc[i].dictionary[list(dictionary_test.keys())[j]]])\n",
    "            matx_glove_similiraty[j][k] = matx_glove_similiraty[k][j] \n",
    "    \n",
    " \n",
    "    mse.append(np.mean((matx_glove_similiraty - matx_tag_similiraty)**2)/2)\n",
    "    list_matx_glove_similiraty.append(matx_glove_similiraty)\n",
    "df_glove_train[\"mse\"] = mse\n",
    "df_glove_train[\"rmse\"] = np.sqrt(mse)"
   ],
   "outputs": [
    {
     "output_type": "stream",
     "name": "stdout",
     "text": [
      "(77, 450)\r"
     ]
    }
   ],
   "metadata": {
    "ExecuteTime": {
     "start_time": "2022-02-23T13:57:52.989Z"
    }
   }
  },
  {
   "cell_type": "code",
   "execution_count": null,
   "source": [
    "print([np.mean(np.abs(mat)) for mat in list_matx_glove_similiraty])\n",
    "[np.sqrt(np.var(np.abs(mat))) for mat in list_matx_glove_similiraty]"
   ],
   "outputs": [],
   "metadata": {
    "ExecuteTime": {
     "start_time": "2022-02-23T13:57:52.992Z"
    },
    "scrolled": true
   }
  },
  {
   "cell_type": "code",
   "execution_count": null,
   "source": [
    "#MSE\n",
    "#windows\n",
    "df_glove_train.groupby(\"windows\")[\"rmse\"].mean().plot(title=\"RMSE en fonction de la fenêtre\")\n",
    "plt.show()\n",
    "#dim_emb\n",
    "df_glove_train.groupby(\"dim_emb\")[\"rmse\"].mean().plot(title=\"RMSE en fonction de la dimension\")\n",
    "plt.show()\n",
    "#learn_rate\n",
    "df_glove_train.groupby(\"learn_rate\")[\"rmse\"].mean().plot(title=\"RMSE en fonction du taux d'apprentissage\")\n",
    "plt.show()"
   ],
   "outputs": [],
   "metadata": {
    "ExecuteTime": {
     "start_time": "2022-02-23T13:57:52.995Z"
    }
   }
  },
  {
   "cell_type": "code",
   "execution_count": null,
   "source": [
    "#windows\n",
    "df_glove_train.groupby(\"windows\")[\"train_time\"].mean().plot(title=\"Train time en fonction de la fenêtre\")\n",
    "plt.show()\n",
    "#dim_emb\n",
    "df_glove_train.groupby(\"dim_emb\")[\"train_time\"].mean().plot(title=\"Train time en fonction de la dimension\")\n",
    "plt.show()\n",
    "#learn_rate\n",
    "df_glove_train.groupby(\"learn_rate\")[\"train_time\"].mean().plot(title=\"Train time en fonction du taux d'apprentissage\")\n",
    "plt.show()"
   ],
   "outputs": [],
   "metadata": {
    "ExecuteTime": {
     "start_time": "2022-02-23T13:57:52.998Z"
    }
   }
  },
  {
   "cell_type": "code",
   "execution_count": null,
   "source": [
    "print(len(corpus.dictionary.values()))\n",
    "print(len(dictionary_test.values()))"
   ],
   "outputs": [],
   "metadata": {
    "ExecuteTime": {
     "start_time": "2022-02-23T13:57:53.002Z"
    }
   }
  },
  {
   "cell_type": "code",
   "execution_count": null,
   "source": [
    "best_glove_model = df_glove_train.loc[df_glove_train[\"mse\"] == min(df_glove_train[\"mse\"]),\"glove_model\"].iloc[0]"
   ],
   "outputs": [],
   "metadata": {
    "ExecuteTime": {
     "start_time": "2022-02-23T13:57:53.005Z"
    }
   }
  },
  {
   "cell_type": "markdown",
   "source": [
    "# Test empirique"
   ],
   "metadata": {}
  },
  {
   "cell_type": "code",
   "execution_count": null,
   "source": [
    "lemme_test = \"corruption\""
   ],
   "outputs": [],
   "metadata": {
    "ExecuteTime": {
     "start_time": "2022-02-23T13:57:53.008Z"
    }
   }
  },
  {
   "cell_type": "code",
   "execution_count": null,
   "source": [
    "# Test empirique\n",
    "best_glove_model.most_similar(lemme_test, number=10)"
   ],
   "outputs": [],
   "metadata": {
    "ExecuteTime": {
     "start_time": "2022-02-23T13:57:53.010Z"
    }
   }
  },
  {
   "cell_type": "code",
   "execution_count": null,
   "source": [
    "df_glove_train[\"glove_model\"].iloc[0].most_similar(lemme_test, number=10)"
   ],
   "outputs": [],
   "metadata": {
    "ExecuteTime": {
     "start_time": "2022-02-23T13:57:53.013Z"
    }
   }
  },
  {
   "cell_type": "code",
   "execution_count": null,
   "source": [
    "N = 10\n",
    "index_lemme_test = [i for i in range(len(list(dictionary_test))) if list(dictionary_test)[i] == lemme_test][0]\n",
    "indices = np.argpartition(matx_tag_similiraty, -N, axis=1)[:, -N:]\n",
    "[(list(dictionary_test)[j],matx_tag_similiraty[index_lemme_test][j]) for j in indices[index_lemme_test]]"
   ],
   "outputs": [],
   "metadata": {
    "ExecuteTime": {
     "start_time": "2022-02-23T13:57:53.015Z"
    }
   }
  },
  {
   "cell_type": "code",
   "execution_count": null,
   "source": [
    "list(dictionary_test.keys())"
   ],
   "outputs": [],
   "metadata": {
    "ExecuteTime": {
     "start_time": "2022-02-23T13:57:53.019Z"
    }
   }
  }
 ],
 "metadata": {
  "interpreter": {
   "hash": "31f2aee4e71d21fbe5cf8b01ff0e069b9275f58929596ceb00d14d90e3e16cd6"
  },
  "kernelspec": {
   "name": "python3",
   "display_name": "Python 3.5.3 64-bit"
  },
  "language_info": {
   "codemirror_mode": {
    "name": "ipython",
    "version": 3
   },
   "file_extension": ".py",
   "mimetype": "text/x-python",
   "name": "python",
   "nbconvert_exporter": "python",
   "pygments_lexer": "ipython3",
   "version": "3.5.3"
  },
  "toc": {
   "base_numbering": 1,
   "nav_menu": {},
   "number_sections": true,
   "sideBar": true,
   "skip_h1_title": false,
   "title_cell": "Table of Contents",
   "title_sidebar": "Contents",
   "toc_cell": false,
   "toc_position": {},
   "toc_section_display": true,
   "toc_window_display": false
  }
 },
 "nbformat": 4,
 "nbformat_minor": 2
}